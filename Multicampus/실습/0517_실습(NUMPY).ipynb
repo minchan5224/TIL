{
 "cells": [
  {
   "cell_type": "code",
   "execution_count": 4,
   "metadata": {},
   "outputs": [],
   "source": [
    "import numpy as np"
   ]
  },
  {
   "cell_type": "code",
   "execution_count": 9,
   "metadata": {},
   "outputs": [
    {
     "name": "stdout",
     "output_type": "stream",
     "text": [
      "np.array(matrix_1) + np.array(matrix_2) : \n",
      "[[ 6  8]\n",
      " [10 12]]\n",
      "np.array(matrix_1) + 1 : \n",
      "[[2 3]\n",
      " [4 5]]\n"
     ]
    }
   ],
   "source": [
    "matrix_1 = [[1,2],[3,4]]\n",
    "matrix_2 = [[5,6],[7,8]]\n",
    "# 행렬합 구하기\n",
    "print(\"np.array(matrix_1) + np.array(matrix_2) : \\n{0}\".format(np.array(matrix_1) + np.array(matrix_2)))\n",
    "# matrix_1에 숫자 1씩 더하기\n",
    "print(\"np.array(matrix_1) + 1 : \\n{0}\".format(np.array(matrix_1) + 1))"
   ]
  },
  {
   "cell_type": "markdown",
   "metadata": {},
   "source": [
    "### 넘파이 리스트 ndarray만들기"
   ]
  },
  {
   "cell_type": "code",
   "execution_count": 15,
   "metadata": {},
   "outputs": [
    {
     "name": "stdout",
     "output_type": "stream",
     "text": [
      "np.array([1, 2, 3, 4]) : \n",
      "[1 2 3 4]\n",
      "np.float32([1, 2, 3, 4]) : \n",
      "[1. 2. 3. 4.]\n",
      "np.uint(32) : \n",
      "32\n",
      "np.array([1, 2, 3, 4], dtype=np.float32) : \n",
      "[1. 2. 3. 4.]\n"
     ]
    }
   ],
   "source": [
    "print(\"np.array([1, 2, 3, 4]) : \\n{0}\".format(np.array([1, 2, 3, 4])))\n",
    "print(\"np.float32([1, 2, 3, 4]) : \\n{0}\".format(np.float32([1, 2, 3, 4])))\n",
    "print(\"np.uint(32) : \\n{0}\".format(np.uint(32)))\n",
    "print(\"np.array([1, 2, 3, 4], dtype=np.float32) : \\n{0}\".format(np.array([1, 2, 3, 4], dtype=np.float32)))"
   ]
  },
  {
   "cell_type": "code",
   "execution_count": 16,
   "metadata": {},
   "outputs": [
    {
     "name": "stdout",
     "output_type": "stream",
     "text": [
      "int32\n",
      "np.issubdtype(x.dtype, np.int32) : \n",
      "True\n"
     ]
    }
   ],
   "source": [
    "x = np.array([1, 2, 3, 4], dtype=np.float32)\n",
    "x = np.int32(x)\n",
    "print(x.dtype)\n",
    "print(\"np.issubdtype(x.dtype, np.int32) : \\n{0}\".format(np.issubdtype(x.dtype, np.int32)))\n"
   ]
  },
  {
   "cell_type": "markdown",
   "metadata": {},
   "source": [
    "### 다차원 nbarray\n",
    "- ndarray.shape #행렬구조 ex (2, 3)\n",
    "- ndarray.ndim #몇차원인지\n",
    "- ndarray.size # 원소의 개수"
   ]
  },
  {
   "cell_type": "code",
   "execution_count": 17,
   "metadata": {},
   "outputs": [
    {
     "name": "stdout",
     "output_type": "stream",
     "text": [
      "()\n",
      "0\n",
      "1\n"
     ]
    }
   ],
   "source": [
    "x = np.array(1)\n",
    "print(x.shape) # ()\n",
    "print(x.ndim) # 0\n",
    "print(x.size) # 1"
   ]
  },
  {
   "cell_type": "code",
   "execution_count": 18,
   "metadata": {},
   "outputs": [
    {
     "name": "stdout",
     "output_type": "stream",
     "text": [
      "(2,)\n",
      "1\n",
      "2\n"
     ]
    }
   ],
   "source": [
    "x = np.array([1,2])\n",
    "print(x.shape) # (2,)\n",
    "print(x.ndim) # 1\n",
    "print(x.size) # 2"
   ]
  },
  {
   "cell_type": "code",
   "execution_count": 19,
   "metadata": {},
   "outputs": [
    {
     "name": "stdout",
     "output_type": "stream",
     "text": [
      "(2, 3)\n",
      "2\n",
      "6\n"
     ]
    }
   ],
   "source": [
    "x = np.array([[1, 2, 3],[4, 5, 6]])\n",
    "print(x.shape) # (2, 3)\n",
    "print(x.ndim) # 2\n",
    "print(x.size) # 6"
   ]
  },
  {
   "cell_type": "markdown",
   "metadata": {},
   "source": [
    "### arange\n",
    "> range와 비슷하다.\n",
    "> - np.arange(시작값, 끝값, 증가값)"
   ]
  },
  {
   "cell_type": "code",
   "execution_count": 21,
   "metadata": {},
   "outputs": [
    {
     "name": "stdout",
     "output_type": "stream",
     "text": [
      "[0 1 2 3 4 5 6 7 8 9]\n",
      "\n",
      "[0. 1. 2. 3. 4. 5. 6. 7. 8. 9.]\n",
      "\n",
      "[1 3 5 7 9]\n",
      "\n",
      "[1.  1.5 2.  2.5 3.  3.5 4.  4.5 5.  5.5 6.  6.5 7.  7.5 8.  8.5 9.  9.5]\n",
      "\n",
      "[10.   9.5  9.   8.5  8.   7.5  7.   6.5  6.   5.5  5.   4.5  4.   3.5\n",
      "  3.   2.5  2.   1.5]\n",
      "\n"
     ]
    }
   ],
   "source": [
    "x = np.arange(10)\n",
    "print(x)\n",
    "print()\n",
    "x = np.arange(10.0)\n",
    "print(x)\n",
    "print()\n",
    "x = np.arange(1, 10, 2)\n",
    "print(x)\n",
    "print()\n",
    "x = np.arange(1, 10, 0.5)\n",
    "print(x)\n",
    "print()\n",
    "x = np.arange(10, 1, -0.5)\n",
    "print(x)\n",
    "print()"
   ]
  },
  {
   "cell_type": "markdown",
   "metadata": {},
   "source": [
    "### linspace\n",
    "- 균일한 간격으로 리스트 크기만큼 리스트 생성\n",
    "> np.linspace(시작값, 끝값, 벡터크기) 끝값 포함\n",
    "> np.linspace(시작값, 끝값, 벡터크기, endpoint=False) 끝값 미포함"
   ]
  },
  {
   "cell_type": "code",
   "execution_count": 22,
   "metadata": {},
   "outputs": [
    {
     "name": "stdout",
     "output_type": "stream",
     "text": [
      "[ 1.    5.75 10.5  15.25 20.  ]\n",
      "\n",
      "[ 1.   2.9  4.8  6.7  8.6 10.5 12.4 14.3 16.2 18.1]\n",
      "\n"
     ]
    }
   ],
   "source": [
    "x = np.linspace(1, 20, 5)\n",
    "print(x)\n",
    "print()\n",
    "\n",
    "x = np.linspace(1, 20, 10, endpoint=False)\n",
    "print(x)\n",
    "print()"
   ]
  },
  {
   "cell_type": "markdown",
   "metadata": {},
   "source": [
    "### reshape\n",
    "- 데이터를 유지하면서 차원의 형태를 변경"
   ]
  },
  {
   "cell_type": "code",
   "execution_count": 23,
   "metadata": {},
   "outputs": [
    {
     "name": "stdout",
     "output_type": "stream",
     "text": [
      "[[0 1 2]\n",
      " [3 4 5]\n",
      " [6 7 8]]\n"
     ]
    }
   ],
   "source": [
    "# ndarray.reshape(3, 3)\n",
    "x = np.arange(9).reshape(3, 3)\n",
    "print(x) # 2차원"
   ]
  },
  {
   "cell_type": "code",
   "execution_count": 28,
   "metadata": {},
   "outputs": [
    {
     "name": "stdout",
     "output_type": "stream",
     "text": [
      "[[[ 0  1  2  3]\n",
      "  [ 4  5  6  7]\n",
      "  [ 8  9 10 11]]\n",
      "\n",
      " [[12 13 14 15]\n",
      "  [16 17 18 19]\n",
      "  [20 21 22 23]]]\n"
     ]
    }
   ],
   "source": [
    "# ndarray.reshape(2, 3, 4)\n",
    "x = np.arange(24).reshape(2, 3, 4)\n",
    "print(x) # 2차원"
   ]
  },
  {
   "cell_type": "code",
   "execution_count": 25,
   "metadata": {},
   "outputs": [
    {
     "name": "stdout",
     "output_type": "stream",
     "text": [
      "[[[[ 0  1]\n",
      "   [ 2  3]]\n",
      "\n",
      "  [[ 4  5]\n",
      "   [ 6  7]]]\n",
      "\n",
      "\n",
      " [[[ 8  9]\n",
      "   [10 11]]\n",
      "\n",
      "  [[12 13]\n",
      "   [14 15]]]]\n"
     ]
    }
   ],
   "source": [
    "# ndarray.reshape(2, 2, 2, 2)\n",
    "x = np.arange(16).reshape(2, 2, 2, 2)\n",
    "print(x) # 4차원"
   ]
  },
  {
   "cell_type": "code",
   "execution_count": 26,
   "metadata": {},
   "outputs": [
    {
     "name": "stdout",
     "output_type": "stream",
     "text": [
      "[[1 2]\n",
      " [3 4]\n",
      " [5 6]]\n",
      "[[1 2 3]\n",
      " [4 5 6]]\n"
     ]
    }
   ],
   "source": [
    "# np.array([[1,2],[3,4],[5,6]]).reshape(2,3)\n",
    "x = np.array([[1,2],[3,4],[5,6]])\n",
    "print(x)\n",
    "print(x.reshape(2,3)) # 데이터를 유지하고 형태변경"
   ]
  },
  {
   "cell_type": "code",
   "execution_count": 27,
   "metadata": {},
   "outputs": [
    {
     "name": "stdout",
     "output_type": "stream",
     "text": [
      "[[0 1 2]\n",
      " [3 4 5]\n",
      " [6 7 8]]\n"
     ]
    }
   ],
   "source": [
    "# -1 일경우 자동으로 맞춰서 생성 ndarray.reshape(3,-1)\n",
    "x = np.arange(9).reshape(3, -1)\n",
    "print(x) #개수에 맞춰 생성"
   ]
  },
  {
   "cell_type": "markdown",
   "metadata": {},
   "source": [
    "### slicing\n",
    "- a[처음값:끝값:증가값]\n",
    "\n",
    "- 1차원뿐만 아니라 다차원 슬라이싱 가능( x[1:3, 1:3], x[:3,:3,:3])"
   ]
  },
  {
   "cell_type": "code",
   "execution_count": 29,
   "metadata": {},
   "outputs": [
    {
     "name": "stdout",
     "output_type": "stream",
     "text": [
      "[1 2]\n"
     ]
    }
   ],
   "source": [
    "# 1차원 슬라이싱\n",
    "x = np.arange(20)\n",
    "print(x[1:3])"
   ]
  },
  {
   "cell_type": "code",
   "execution_count": 30,
   "metadata": {},
   "outputs": [
    {
     "name": "stdout",
     "output_type": "stream",
     "text": [
      "[[ 0  1  2  3  4]\n",
      " [ 5  6  7  8  9]\n",
      " [10 11 12 13 14]\n",
      " [15 16 17 18 19]]\n",
      "[[ 5  6  7  8  9]\n",
      " [10 11 12 13 14]]\n",
      "[[ 6  7]\n",
      " [11 12]]\n"
     ]
    }
   ],
   "source": [
    "# 2차원 슬라이싱\n",
    "x = np.arange(20).reshape(4,5)\n",
    "print(x)\n",
    "print(x[1:3])\n",
    "print(x[1:3, 1:3])"
   ]
  },
  {
   "cell_type": "code",
   "execution_count": 20,
   "metadata": {},
   "outputs": [
    {
     "name": "stdout",
     "output_type": "stream",
     "text": [
      "[[[ 0  1  2]\n",
      "  [ 3  4  5]\n",
      "  [ 6  7  8]\n",
      "  [ 9 10 11]\n",
      "  [12 13 14]]\n",
      "\n",
      " [[15 16 17]\n",
      "  [18 19 20]\n",
      "  [21 22 23]\n",
      "  [24 25 26]\n",
      "  [27 28 29]]]\n",
      "[[[10 11]\n",
      "  [13 14]]\n",
      "\n",
      " [[25 26]\n",
      "  [28 29]]]\n"
     ]
    }
   ],
   "source": [
    "# 3차원 슬라이싱\n",
    "x = np.arange(30).reshape(2,5,3)\n",
    "print(x)\n",
    "print(x[:,3:5,1:3])"
   ]
  },
  {
   "cell_type": "markdown",
   "metadata": {},
   "source": [
    "### indexing & boolean indexing\n",
    "- 다차원 리스트 접근 (x[1][1], x[1,1])\n",
    "\n",
    "- 한번에 여러 값 인덱싱 (x[[1,1],[1,2]])\n",
    "\n",
    "- indexing에 비교, 논리연산자 사용가능 (!, &, |)"
   ]
  },
  {
   "cell_type": "code",
   "execution_count": 5,
   "metadata": {},
   "outputs": [
    {
     "name": "stdout",
     "output_type": "stream",
     "text": [
      "6\n",
      "6\n",
      "[6 7]\n"
     ]
    }
   ],
   "source": [
    "a = np.arange(20).reshape(4, 5)\n",
    "# indexing\n",
    "print(a[1][1])\n",
    "print(a[1,1])\n",
    "print(a[[1,1],[1,2]])"
   ]
  },
  {
   "cell_type": "code",
   "execution_count": 6,
   "metadata": {},
   "outputs": [
    {
     "name": "stdout",
     "output_type": "stream",
     "text": [
      "a > 3 : \n",
      "[[False False False False  True]\n",
      " [ True  True  True  True  True]\n",
      " [ True  True  True  True  True]\n",
      " [ True  True  True  True  True]]\n",
      "\n",
      "a[a > 3] : \n",
      "[ 4  5  6  7  8  9 10 11 12 13 14 15 16 17 18 19]\n",
      "\n",
      "a[a == 1] : \n",
      "[1]\n",
      "\n",
      "a[~(a == 1)] : \n",
      "[ 0  2  3  4  5  6  7  8  9 10 11 12 13 14 15 16 17 18 19]\n",
      "\n",
      "a[(a > 3)&(a < 8)] : \n",
      "[4 5 6 7]\n",
      "\n"
     ]
    }
   ],
   "source": [
    "# indexing에 비교, 논리연산자 사용가능 (!, &, |)\n",
    "# boolean indexing\n",
    "print(\"a > 3 : \\n{0}\\n\".format(a > 3))\n",
    "print(\"a[a > 3] : \\n{0}\\n\".format(a[a > 3]))\n",
    "print(\"a[a == 1] : \\n{0}\\n\".format(a[a == 1]))\n",
    "print(\"a[~(a == 1)] : \\n{0}\\n\".format(a[~(a == 1)]))\n",
    "print(\"a[(a > 3)&(a < 8)] : \\n{0}\\n\".format(a[(a > 3)&(a < 8)]))\n"
   ]
  },
  {
   "cell_type": "markdown",
   "metadata": {},
   "source": [
    "### random\n",
    "- 난수가 들어가 있는 다양한 형태의 데이터"
   ]
  },
  {
   "cell_type": "code",
   "execution_count": 45,
   "metadata": {},
   "outputs": [
    {
     "name": "stdout",
     "output_type": "stream",
     "text": [
      "[[0.79061875 0.06700963 0.69132584 0.05047915 0.4531828 ]\n",
      " [0.19952966 0.56175431 0.17134663 0.66553658 0.51540186]\n",
      " [0.10343806 0.23015693 0.90938986 0.03265727 0.56730575]\n",
      " [0.05981354 0.79200319 0.59864648 0.07414624 0.27241413]\n",
      " [0.89255515 0.30329944 0.62982341 0.59115511 0.55551488]]\n",
      "\n",
      "-------------\n",
      "\n",
      "2\n"
     ]
    }
   ],
   "source": [
    "print(np.random.rand(5,5))\n",
    "print(\"\\n-------------\\n\")\n",
    "print(np.random.randint(1, 10))"
   ]
  },
  {
   "cell_type": "code",
   "execution_count": 44,
   "metadata": {},
   "outputs": [
    {
     "name": "stdout",
     "output_type": "stream",
     "text": [
      "[2 4 7 6 6]\n",
      "\n",
      "-------------\n",
      "\n",
      "[[6 2 9 9 9]\n",
      " [2 4 6 1 9]\n",
      " [4 4 5 3 1]\n",
      " [5 2 2 5 6]\n",
      " [6 5 7 3 5]]\n",
      "\n",
      "-------------\n",
      "\n",
      "[[[7 2 6 3 6]\n",
      "  [8 4 6 7 4]\n",
      "  [3 8 4 4 5]\n",
      "  [7 8 7 3 6]\n",
      "  [7 3 6 6 6]]\n",
      "\n",
      " [[7 2 6 4 2]\n",
      "  [9 5 1 7 3]\n",
      "  [8 1 2 6 9]\n",
      "  [7 2 7 4 1]\n",
      "  [1 8 5 9 4]]]\n"
     ]
    }
   ],
   "source": [
    "print(np.random.randint(1, 10, size=(5)))\n",
    "print(\"\\n-------------\\n\")\n",
    "print(np.random.randint(1, 10, size=(5,5)))\n",
    "print(\"\\n-------------\\n\")\n",
    "print(np.random.randint(1, 10, size=(2,5,5)))"
   ]
  },
  {
   "cell_type": "code",
   "execution_count": 48,
   "metadata": {},
   "outputs": [
    {
     "data": {
      "text/plain": [
       "array([[6, 4],\n",
       "       [5, 5]])"
      ]
     },
     "execution_count": 48,
     "metadata": {},
     "output_type": "execute_result"
    }
   ],
   "source": [
    "# 주어진 리스트 안에 있는 숫자 뽑기\n",
    "np.random.choice(100, size=(3, 4))\n",
    "x = np.array([1, 2, 3, 4, 5, 6, 7, 8])\n",
    "np.random.choice(x, size=(2, 2))"
   ]
  },
  {
   "cell_type": "markdown",
   "metadata": {},
   "source": [
    "### 특이한 형태의 배열"
   ]
  },
  {
   "cell_type": "code",
   "execution_count": 51,
   "metadata": {},
   "outputs": [
    {
     "name": "stdout",
     "output_type": "stream",
     "text": [
      "[[1. 1. 1. 1. 1.]\n",
      " [1. 1. 1. 1. 1.]\n",
      " [1. 1. 1. 1. 1.]\n",
      " [1. 1. 1. 1. 1.]\n",
      " [1. 1. 1. 1. 1.]]\n",
      "[[0. 0. 0. 0. 0.]\n",
      " [0. 0. 0. 0. 0.]\n",
      " [0. 0. 0. 0. 0.]\n",
      " [0. 0. 0. 0. 0.]\n",
      " [0. 0. 0. 0. 0.]]\n",
      "[[1. 0. 0. 0. 0.]\n",
      " [0. 1. 0. 0. 0.]\n",
      " [0. 0. 1. 0. 0.]\n",
      " [0. 0. 0. 1. 0.]\n",
      " [0. 0. 0. 0. 1.]]\n"
     ]
    }
   ],
   "source": [
    "# 1로 채워진 배열\n",
    "print(np.ones([5,5]))\n",
    "# 0으로 채워진 배열\n",
    "print(np.zeros([5,5]))\n",
    "# 단위행렬(행렬곱을 했을때 자기자신이 나오는)\n",
    "print(np.eye(5))"
   ]
  },
  {
   "cell_type": "code",
   "execution_count": 60,
   "metadata": {},
   "outputs": [
    {
     "name": "stdout",
     "output_type": "stream",
     "text": [
      "행 기준으로 펼치기 : \n",
      "[3 8 8 9 2 7 6 9 1 4 1 4 2 3 1 1 5 5 9 4 5 3 2 9 4]\n",
      "행 기준으로 펼치기 : \n",
      "[3 8 8 9 2 7 6 9 1 4 1 4 2 3 1 1 5 5 9 4 5 3 2 9 4]\n",
      "\n",
      "열 기준으로 펼치기 : \n",
      "[3 7 1 1 5 8 6 4 5 3 8 9 2 5 2 9 1 3 9 9 2 4 1 4 4]\n"
     ]
    }
   ],
   "source": [
    "test_np = np.random.randint(1, 10, size=(5,5))\n",
    "print(\"행 기준으로 펼치기 : \\n{0}\".format(test_np.ravel()))\n",
    "print(\"행 기준으로 펼치기 : \\n{0}\".format(test_np.ravel(order='C')))\n",
    "print(\"\\n열 기준으로 펼치기 : \\n{0}\".format(test_np.ravel(order='F')))"
   ]
  },
  {
   "cell_type": "markdown",
   "metadata": {},
   "source": [
    "### concatenate\n",
    "- 배열을 연결 ```np.concatenate([x, y])```"
   ]
  },
  {
   "cell_type": "code",
   "execution_count": 68,
   "metadata": {},
   "outputs": [
    {
     "name": "stdout",
     "output_type": "stream",
     "text": [
      "행 기준으로 연결 : \n",
      "[1 2 3 4 5 6]\n",
      "-----------------\n",
      "\n",
      "x : \n",
      "[[0 1 2 3 4]\n",
      " [5 6 7 8 9]]\n",
      "\n",
      "y : \n",
      "[[10 11 12 13 14]\n",
      " [15 16 17 18 19]]\n",
      "\n",
      "행 기준으로 연결 : \n",
      "[[ 0  1  2  3  4]\n",
      " [ 5  6  7  8  9]\n",
      " [10 11 12 13 14]\n",
      " [15 16 17 18 19]]\n",
      "\n",
      "열 기준으로 연결 : \n",
      "[[ 0  1  2  3  4 10 11 12 13 14]\n",
      " [ 5  6  7  8  9 15 16 17 18 19]]\n"
     ]
    }
   ],
   "source": [
    "x = np.arange(1, 4)\n",
    "y = np.arange(4, 7)\n",
    "print(\"행 기준으로 연결 : \\n{0}\\n-----------------\".format(np.concatenate([x, y])))\n",
    "\n",
    "# 열을 기준으로 np.concatenate([x, y], axis=1)\n",
    "x = np.arange(10).reshape(2, 5)\n",
    "y = np.arange(10, 20).reshape(2, 5)\n",
    "print(\"\\nx : \\n{0}\".format(x))\n",
    "print(\"\\ny : \\n{0}\".format(y))\n",
    "print(\"\\n행 기준으로 연결 : \\n{0}\".format(np.concatenate([x, y])))\n",
    "print(\"\\n열 기준으로 연결 : \\n{0}\".format(np.concatenate([x, y], axis=1)))"
   ]
  },
  {
   "cell_type": "markdown",
   "metadata": {},
   "source": [
    "### split\n",
    "- 배열을 분해 ```np.split(x, 4)```"
   ]
  },
  {
   "cell_type": "code",
   "execution_count": 72,
   "metadata": {},
   "outputs": [
    {
     "name": "stdout",
     "output_type": "stream",
     "text": [
      "x : \n",
      "[ 0  1  2  3  4  5  6  7  8  9 10 11]\n",
      "\n",
      "[array([0, 1, 2]), array([3, 4, 5]), array([6, 7, 8]), array([ 9, 10, 11])]\n",
      "\n",
      "\n",
      "x : \n",
      "[[ 0  1  2  3]\n",
      " [ 4  5  6  7]\n",
      " [ 8  9 10 11]\n",
      " [12 13 14 15]]\n",
      "\n",
      "[array([[0, 1, 2, 3],\n",
      "       [4, 5, 6, 7]]), array([[ 8,  9, 10, 11],\n",
      "       [12, 13, 14, 15]])]\n",
      "\n",
      "\n",
      "x : \n",
      "[[ 0  1  2  3]\n",
      " [ 4  5  6  7]\n",
      " [ 8  9 10 11]\n",
      " [12 13 14 15]]\n",
      "\n",
      "열을 기준으로 np.split(x, 2, axis=1) :\n",
      "[array([[ 0,  1],\n",
      "       [ 4,  5],\n",
      "       [ 8,  9],\n",
      "       [12, 13]]), array([[ 2,  3],\n",
      "       [ 6,  7],\n",
      "       [10, 11],\n",
      "       [14, 15]])]\n"
     ]
    }
   ],
   "source": [
    "x = np.arange(12)\n",
    "print(\"x : \\n{0}\".format(x))\n",
    "print(\"\\n{0}\\n\".format(np.split(x, 4)))\n",
    "x = np.arange(16).reshape(4, 4)\n",
    "print(\"\\nx : \\n{0}\".format(x))\n",
    "print(\"\\n{0}\\n\".format(np.split(x, 2)))\n",
    "\n",
    "# 열을 기준으로 np.split(x, 2, axis=1)\n",
    "x = np.arange(16).reshape(4, 4)\n",
    "print(\"\\nx : \\n{0}\".format(x))\n",
    "print(\"\\n열을 기준으로 np.split(x, 2, axis=1) :\\n{0}\".format(np.split(x, 2, axis=1)))"
   ]
  },
  {
   "cell_type": "markdown",
   "metadata": {},
   "source": [
    "### 연산 및 집계함수"
   ]
  },
  {
   "cell_type": "code",
   "execution_count": 93,
   "metadata": {},
   "outputs": [
    {
     "name": "stdout",
     "output_type": "stream",
     "text": [
      "[[ 2  3]\n",
      " [ 6 11]]\n"
     ]
    }
   ],
   "source": [
    "x = np.arange(4).reshape(2, 2)\n",
    "y = np.arange(4).reshape(2, 2)\n",
    "\n",
    "print(x.dot(y)) # 행렬곱"
   ]
  },
  {
   "cell_type": "code",
   "execution_count": 94,
   "metadata": {},
   "outputs": [
    {
     "name": "stdout",
     "output_type": "stream",
     "text": [
      "[[0 2]\n",
      " [1 3]]\n"
     ]
    }
   ],
   "source": [
    "print(np.transpose(x)) # 전치행렬"
   ]
  },
  {
   "cell_type": "code",
   "execution_count": 95,
   "metadata": {},
   "outputs": [
    {
     "name": "stdout",
     "output_type": "stream",
     "text": [
      "[[-1.5  0.5]\n",
      " [ 1.   0. ]]\n"
     ]
    }
   ],
   "source": [
    "print(np.linalg.inv(x)) # 역행렬"
   ]
  },
  {
   "cell_type": "code",
   "execution_count": 96,
   "metadata": {},
   "outputs": [
    {
     "name": "stdout",
     "output_type": "stream",
     "text": [
      "-2.0\n"
     ]
    }
   ],
   "source": [
    "print(np.linalg.det(x)) # 행렬식"
   ]
  },
  {
   "cell_type": "code",
   "execution_count": 97,
   "metadata": {},
   "outputs": [
    {
     "name": "stdout",
     "output_type": "stream",
     "text": [
      "1.5\n"
     ]
    }
   ],
   "source": [
    "print(np.mean(x)) # 평균"
   ]
  },
  {
   "cell_type": "code",
   "execution_count": 98,
   "metadata": {},
   "outputs": [
    {
     "name": "stdout",
     "output_type": "stream",
     "text": [
      "1.5\n"
     ]
    }
   ],
   "source": [
    "print(np.median(x)) # 중간값"
   ]
  },
  {
   "cell_type": "code",
   "execution_count": 99,
   "metadata": {},
   "outputs": [
    {
     "name": "stdout",
     "output_type": "stream",
     "text": [
      "1.118033988749895\n"
     ]
    }
   ],
   "source": [
    "print(np.std(x)) # 표준편차"
   ]
  },
  {
   "cell_type": "code",
   "execution_count": 100,
   "metadata": {},
   "outputs": [
    {
     "name": "stdout",
     "output_type": "stream",
     "text": [
      "1.25\n"
     ]
    }
   ],
   "source": [
    "print(np.var(x)) # 분산"
   ]
  },
  {
   "cell_type": "code",
   "execution_count": 101,
   "metadata": {},
   "outputs": [
    {
     "name": "stdout",
     "output_type": "stream",
     "text": [
      "6\n"
     ]
    }
   ],
   "source": [
    "print(np.sum(x)) # 합"
   ]
  },
  {
   "cell_type": "code",
   "execution_count": 105,
   "metadata": {},
   "outputs": [
    {
     "name": "stdout",
     "output_type": "stream",
     "text": [
      "[1 5]\n"
     ]
    }
   ],
   "source": [
    "print(np.sum(x, axis=1)) # 합, 축변경"
   ]
  },
  {
   "cell_type": "code",
   "execution_count": 106,
   "metadata": {},
   "outputs": [
    {
     "name": "stdout",
     "output_type": "stream",
     "text": [
      "[0 1 3 6]\n"
     ]
    }
   ],
   "source": [
    "print(np.cumsum(x)) # 누적합"
   ]
  },
  {
   "cell_type": "code",
   "execution_count": 107,
   "metadata": {},
   "outputs": [
    {
     "name": "stdout",
     "output_type": "stream",
     "text": [
      "[0 0 0 0]\n"
     ]
    }
   ],
   "source": [
    "print(np.cumprod(x)) # 누적곱"
   ]
  },
  {
   "cell_type": "code",
   "execution_count": 108,
   "metadata": {},
   "outputs": [
    {
     "name": "stdout",
     "output_type": "stream",
     "text": [
      "0\n"
     ]
    }
   ],
   "source": [
    "print(np.min(x)) # 최소값"
   ]
  },
  {
   "cell_type": "code",
   "execution_count": 109,
   "metadata": {},
   "outputs": [
    {
     "name": "stdout",
     "output_type": "stream",
     "text": [
      "0\n"
     ]
    }
   ],
   "source": [
    "print(np.argmin(x)) # 최소값 위치"
   ]
  },
  {
   "cell_type": "code",
   "execution_count": 110,
   "metadata": {},
   "outputs": [
    {
     "name": "stdout",
     "output_type": "stream",
     "text": [
      "3\n"
     ]
    }
   ],
   "source": [
    "print(np.argmax(x)) # 최대값 위치"
   ]
  },
  {
   "cell_type": "code",
   "execution_count": 111,
   "metadata": {},
   "outputs": [
    {
     "name": "stdout",
     "output_type": "stream",
     "text": [
      "False\n"
     ]
    }
   ],
   "source": [
    "print(np.any(x > 4)) # 하나라도 참이어야 참"
   ]
  },
  {
   "cell_type": "code",
   "execution_count": 112,
   "metadata": {},
   "outputs": [
    {
     "name": "stdout",
     "output_type": "stream",
     "text": [
      "False\n"
     ]
    }
   ],
   "source": [
    "print(np.all(x > 4)) # 모든 요소가 참이어야 참"
   ]
  },
  {
   "cell_type": "code",
   "execution_count": 113,
   "metadata": {},
   "outputs": [
    {
     "name": "stdout",
     "output_type": "stream",
     "text": [
      "(array([], dtype=int64), array([], dtype=int64))\n"
     ]
    }
   ],
   "source": [
    "print(np.where(x > 4)) # 조건에 맞는위치"
   ]
  },
  {
   "cell_type": "code",
   "execution_count": 114,
   "metadata": {},
   "outputs": [
    {
     "name": "stdout",
     "output_type": "stream",
     "text": [
      "[[-100 -100]\n",
      " [-100 -100]]\n"
     ]
    }
   ],
   "source": [
    "print(np.where(x > 4, x, -100)) # 조건, True 일경우, False 일경우"
   ]
  },
  {
   "cell_type": "markdown",
   "metadata": {},
   "source": [
    "# 실습 01\n",
    "x = [1,2,3,4,5,6,7,8,9]\n",
    "y = [10,20,30,40,50,60,70,80,90]\n",
    "위의 배열로 Numpy를 사용해 3 X 3 행렬을 만든 뒤 행렬합과 행렬곱을 구해주세요"
   ]
  },
  {
   "cell_type": "code",
   "execution_count": 25,
   "metadata": {},
   "outputs": [
    {
     "name": "stdout",
     "output_type": "stream",
     "text": [
      "[1 2 3]\t\t[10 20 30]\n",
      "[4 5 6]\t\t[40 50 60]\n",
      "[7 8 9]\t\t[70 80 90]\n",
      "\n",
      "행렬합 : \n",
      "[[11 22 33]\n",
      " [44 55 66]\n",
      " [77 88 99]]\n",
      "\n",
      "행렬곱 : \n",
      "[[ 300  360  420]\n",
      " [ 660  810  960]\n",
      " [1020 1260 1500]]\n"
     ]
    }
   ],
   "source": [
    "import numpy as np\n",
    "x = np.array([1,2,3,4,5,6,7,8,9]).reshape(3,3)\n",
    "y = np.array([10,20,30,40,50,60,70,80,90]).reshape(3,3)\n",
    "for i in range(len(x)):\n",
    "    print(\"{0}\\t\\t{1}\".format(x[i], y[i]))\n",
    "print(\"\\n행렬합 : \\n{0}\".format(x+y))\n",
    "print(\"\\n행렬곱 : \\n{0}\".format(x.dot(y)))"
   ]
  },
  {
   "cell_type": "markdown",
   "metadata": {},
   "source": [
    "# 실습 02\n",
    "1에서 20 사이의 균일한 간격으로 30개의 숫자를 만들고 모든 값에 숫자 10을 더해주세요"
   ]
  },
  {
   "cell_type": "code",
   "execution_count": 26,
   "metadata": {},
   "outputs": [
    {
     "name": "stdout",
     "output_type": "stream",
     "text": [
      "[11.         11.65517241 12.31034483 12.96551724 13.62068966 14.27586207\n",
      " 14.93103448 15.5862069  16.24137931 16.89655172 17.55172414 18.20689655\n",
      " 18.86206897 19.51724138 20.17241379 20.82758621 21.48275862 22.13793103\n",
      " 22.79310345 23.44827586 24.10344828 24.75862069 25.4137931  26.06896552\n",
      " 26.72413793 27.37931034 28.03448276 28.68965517 29.34482759 30.        ]\n"
     ]
    }
   ],
   "source": [
    "print(np.linspace(1,20,30)+10)"
   ]
  },
  {
   "cell_type": "markdown",
   "metadata": {},
   "source": [
    "# 실습 3\n",
    "1 ~ 100 까지 난수가 들어있는 2 X 10 X 10 배열을 만들고\n",
    "50보다 크거나 같은 값은 1, 50보다 작은 값은 2로 변환하고 \n",
    "2번째 배열에 '+' 모양으로 선을 그어 5x5사이즈 배열로 분할했을 때 오른쪽 아래의 5x5배열만 출력하세요"
   ]
  },
  {
   "cell_type": "code",
   "execution_count": 61,
   "metadata": {},
   "outputs": [],
   "source": [
    "temp = np.random.choice(101, size=(2,10,10)) # 1~100의 랜덤한 숫자로 채운 10*10 배열 2개 생성\n",
    "temp = np.where(temp >= 50, 1, 2) # 넘파이 배열 내 50이상인 값을 1로 변환 50 미만이라면 2로 변환\n",
    "#temp = np.where('조건', 'True 일때 사용할 값 (위에서 2 대신 temp쓰면 원래값 쓰겠다는 것.)', 'false일때 사용할 값')"
   ]
  },
  {
   "cell_type": "code",
   "execution_count": 62,
   "metadata": {},
   "outputs": [
    {
     "name": "stdout",
     "output_type": "stream",
     "text": [
      "[[1 1 1 2 1]\n",
      " [1 2 1 1 2]\n",
      " [1 1 2 1 1]\n",
      " [2 1 1 2 2]\n",
      " [1 1 1 1 2]]\n"
     ]
    }
   ],
   "source": [
    "temp_2 = np.split(temp[1],2) # 가로로 자르고 2개로 반환 (위=[0], 아래=[1])\n",
    "temp_3 = np.split(temp_2[1],2, axis=1) # 세로로 자르고 2개로 반환 (왼쪽=[0], 오른쪽=[1])\n",
    "print(temp_3[1])"
   ]
  },
  {
   "cell_type": "code",
   "execution_count": 63,
   "metadata": {},
   "outputs": [
    {
     "name": "stdout",
     "output_type": "stream",
     "text": [
      "[[1 1 1 2 1]\n",
      " [1 2 1 1 2]\n",
      " [1 1 2 1 1]\n",
      " [2 1 1 2 2]\n",
      " [1 1 1 1 2]]\n"
     ]
    }
   ],
   "source": [
    "print(temp[1,5:,5:])"
   ]
  },
  {
   "cell_type": "markdown",
   "metadata": {},
   "source": []
  },
  {
   "cell_type": "code",
   "execution_count": 32,
   "metadata": {},
   "outputs": [
    {
     "name": "stdout",
     "output_type": "stream",
     "text": [
      "[[ 0  1  2  3]\n",
      " [ 4  5  6  7]\n",
      " [ 8  9 10 11]\n",
      " [12 13 14 15]]\n"
     ]
    },
    {
     "data": {
      "text/plain": [
       "[array([[0, 1, 2, 3],\n",
       "        [4, 5, 6, 7]]),\n",
       " array([[ 8,  9, 10, 11],\n",
       "        [12, 13, 14, 15]])]"
      ]
     },
     "execution_count": 32,
     "metadata": {},
     "output_type": "execute_result"
    }
   ],
   "source": [
    "x = np.arange(16).reshape(4,4)\n",
    "print(x)\n",
    "np.split(x,2)"
   ]
  }
 ],
 "metadata": {
  "kernelspec": {
   "display_name": "Python 3",
   "language": "python",
   "name": "python3"
  },
  "language_info": {
   "codemirror_mode": {
    "name": "ipython",
    "version": 3
   },
   "file_extension": ".py",
   "mimetype": "text/x-python",
   "name": "python",
   "nbconvert_exporter": "python",
   "pygments_lexer": "ipython3",
   "version": "3.7.9"
  }
 },
 "nbformat": 4,
 "nbformat_minor": 4
}
