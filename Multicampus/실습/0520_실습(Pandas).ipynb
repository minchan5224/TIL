{
 "cells": [
  {
   "cell_type": "code",
   "execution_count": 64,
   "metadata": {},
   "outputs": [],
   "source": [
    "# 파일 로드\n",
    "import pandas as pd\n",
    "file_name = 'titanic_train.csv'\n",
    "file_path = './data/'\n",
    "titanic_data = pd.read_csv(file_path+file_name, index_col='PassengerId', header=0, sep=',')"
   ]
  },
  {
   "cell_type": "markdown",
   "metadata": {},
   "source": [
    "# 실습 3_2 (타이타닉 생존자체크)\n",
    "#### 1. 30대 이면서 1등석에 탄 사람수.\n",
    "#### 2. 클래스(Pclass)별 나이 평균\n",
    "#### 3. 클래스(Pclass)와 성별에 따른 생존률\n",
    "#### 4. 나이(Age)대 별 생존율 구하기"
   ]
  },
  {
   "cell_type": "code",
   "execution_count": 66,
   "metadata": {},
   "outputs": [
    {
     "name": "stdout",
     "output_type": "stream",
     "text": [
      "Age_Range\n",
      "10대    41\n",
      "20대    77\n",
      "30대    73\n",
      "40대    34\n",
      "50대    20\n",
      "60대     6\n",
      "노인      1\n",
      "유아     90\n",
      "Name: Survived, dtype: int64\n"
     ]
    }
   ],
   "source": [
    "def age_process(n):\n",
    "    if n >= 70:\n",
    "        return '노인'\n",
    "    elif n >= 60:\n",
    "        return '60대'\n",
    "    elif n >= 50:\n",
    "        return '50대'\n",
    "    elif n >= 40:\n",
    "        return '40대'\n",
    "    elif n >= 30:\n",
    "        return '30대'\n",
    "    elif n >= 20:\n",
    "        return '20대'\n",
    "    elif n >= 10:\n",
    "        return '10대'\n",
    "    else :\n",
    "        return '유아'\n",
    "    \n",
    "titanic_data['Age_Range'] = titanic_data['Age'].apply(age_process)\n",
    "print(titanic_data.groupby('Age_Range').sum()['Survived'])"
   ]
  },
  {
   "cell_type": "code",
   "execution_count": 67,
   "metadata": {
    "scrolled": true
   },
   "outputs": [
    {
     "name": "stdout",
     "output_type": "stream",
     "text": [
      "50\n",
      "\n",
      "50\n",
      "\n",
      "50\n"
     ]
    },
    {
     "name": "stderr",
     "output_type": "stream",
     "text": [
      "C:\\Users\\minch\\anaconda3\\envs\\abangues\\lib\\site-packages\\ipykernel_launcher.py:12: UserWarning: Boolean Series key will be reindexed to match DataFrame index.\n",
      "  if sys.path[0] == '':\n"
     ]
    }
   ],
   "source": [
    "# 1.\n",
    "\n",
    "def test4(n):\n",
    "    count_n = 0\n",
    "    if n == '30대':\n",
    "        count_n += 1\n",
    "    return count_n\n",
    "\n",
    "print(titanic_data[titanic_data['Pclass']==1]['Age_Range'].apply(test4).sum())\n",
    "print()\n",
    "\n",
    "print(titanic_data[titanic_data['Pclass']==1][titanic_data['Age_Range']=='30대'].count()['Age_Range'])\n",
    "print()\n",
    "\n",
    "answer=[i for i in titanic_data[titanic_data['Pclass']==1].index if titanic_data['Age_Range'].loc[i] == '30대']\n",
    "print(len(answer))\n"
   ]
  },
  {
   "cell_type": "code",
   "execution_count": 71,
   "metadata": {},
   "outputs": [
    {
     "data": {
      "text/plain": [
       "Survived     50\n",
       "Pclass       50\n",
       "Name         50\n",
       "Sex          50\n",
       "Age          50\n",
       "SibSp        50\n",
       "Parch        50\n",
       "Ticket       50\n",
       "Fare         50\n",
       "Cabin        43\n",
       "Embarked     49\n",
       "Age_Range    50\n",
       "dtype: int64"
      ]
     },
     "execution_count": 71,
     "metadata": {},
     "output_type": "execute_result"
    }
   ],
   "source": [
    "titanic_data[(titanic_data['Pclass'] == 1) & (titanic_data['Age_Range'] == '30대')].count()"
   ]
  },
  {
   "cell_type": "code",
   "execution_count": 5,
   "metadata": {},
   "outputs": [
    {
     "name": "stdout",
     "output_type": "stream",
     "text": [
      "38.233440860215055\n",
      "29.87763005780347\n",
      "25.14061971830986\n",
      "Pclass\n",
      "1    38.233441\n",
      "2    29.877630\n",
      "3    25.140620\n",
      "Name: Age, dtype: float64\n"
     ]
    }
   ],
   "source": [
    "# 2.\n",
    "def test5(n):\n",
    "    print(n['Age'].mean())\n",
    "\n",
    "titanic_data.groupby('Pclass').apply(test5)\n",
    "print(titanic_data.groupby('Pclass').mean()['Age'])"
   ]
  },
  {
   "cell_type": "code",
   "execution_count": 6,
   "metadata": {},
   "outputs": [
    {
     "name": "stdout",
     "output_type": "stream",
     "text": [
      "Pclass  Sex   \n",
      "1       female    0.968085\n",
      "        male      0.368852\n",
      "2       female    0.921053\n",
      "        male      0.157407\n",
      "3       female    0.500000\n",
      "        male      0.135447\n",
      "dtype: float64\n",
      "Pclass  Sex   \n",
      "1       female    0.968085\n",
      "        male      0.368852\n",
      "2       female    0.921053\n",
      "        male      0.157407\n",
      "3       female    0.500000\n",
      "        male      0.135447\n",
      "Name: Survived, dtype: float64\n"
     ]
    }
   ],
   "source": [
    "# 3. \n",
    "def test(n):\n",
    "    return((n['Survived'][n['Survived']==1].count())/(n['Survived'].count()))\n",
    "print(titanic_data.groupby(['Pclass','Sex']).apply(test))\n",
    "\n",
    "print(titanic_data.groupby(['Pclass','Sex']).mean()['Survived'])"
   ]
  },
  {
   "cell_type": "code",
   "execution_count": 77,
   "metadata": {},
   "outputs": [
    {
     "name": "stdout",
     "output_type": "stream",
     "text": [
      "New_Age_Range\n",
      "-1    0.293785\n",
      "0     0.612903\n",
      "10    0.401961\n",
      "20    0.350000\n",
      "30    0.437126\n",
      "40    0.382022\n",
      "50    0.416667\n",
      "60    0.315789\n",
      "70    0.000000\n",
      "80    1.000000\n",
      "dtype: float64\n",
      "New_Age_Range\n",
      "-1    0.293785\n",
      "0     0.612903\n",
      "10    0.401961\n",
      "20    0.350000\n",
      "30    0.437126\n",
      "40    0.382022\n",
      "50    0.416667\n",
      "60    0.315789\n",
      "70    0.000000\n",
      "80    1.000000\n",
      "Name: Survived, dtype: float64\n"
     ]
    }
   ],
   "source": [
    "#### 4.\n",
    "def test2(n):\n",
    "    if (n // 10) > 0:\n",
    "        return '{0}'.format(int(10*(n // 10)))\n",
    "    elif n == -1:\n",
    "        return '-1'\n",
    "    else :\n",
    "        return '0'\n",
    "    \n",
    "def test3(n):\n",
    "    return((n['Survived'][n['Survived']==1].count())/(n['Survived'].count()))\n",
    "\n",
    "# 파일 로드\n",
    "file_name = 'titanic_train.csv'\n",
    "file_path = './data/'\n",
    "titanic_data = pd.read_csv(file_path+file_name, index_col='PassengerId', header=0, sep=',')\n",
    "titanic_data['Age'] = titanic_data['Age'].fillna(-1)\n",
    "\n",
    "titanic_data['New_Age_Range'] = titanic_data['Age'].apply(test2)\n",
    "print(titanic_data.groupby('New_Age_Range').apply(test3))\n",
    "print(titanic_data.groupby('New_Age_Range').mean()['Survived'])"
   ]
  },
  {
   "cell_type": "markdown",
   "metadata": {},
   "source": [
    "# 실습 01 (타이타닉 생존자체크)"
   ]
  },
  {
   "cell_type": "code",
   "execution_count": 78,
   "metadata": {},
   "outputs": [],
   "source": [
    "def age_process(n):\n",
    "    if n >= 70:\n",
    "        return '노인'\n",
    "    elif (n // 10) > 0:\n",
    "        return '{0}대'.format(int(10*(n // 10)))\n",
    "    else :\n",
    "        return '유아'\n"
   ]
  },
  {
   "cell_type": "code",
   "execution_count": 79,
   "metadata": {},
   "outputs": [],
   "source": [
    "import pandas as pd\n",
    "import matplotlib.pyplot as plt\n",
    "import numpy as np\n",
    "\n",
    "file_name = 'titanic_train.csv'\n",
    "file_path = './data/'\n",
    "titanic_data = pd.read_csv(file_path+file_name, index_col='PassengerId', header=0, sep=',')\n",
    "\n",
    "titanic_data['Age'] = titanic_data['Age'].fillna(titanic_data['Age'].mean())\n",
    "titanic_data['Age_Range'] = titanic_data['Age'].apply(age_process)"
   ]
  },
  {
   "cell_type": "code",
   "execution_count": 80,
   "metadata": {},
   "outputs": [
    {
     "data": {
      "image/png": "[encoded data removed]",
      "text/plain": [
       "<Figure size 864x288 with 2 Axes>"
      ]
     },
     "metadata": {
      "needs_background": "light"
     },
     "output_type": "display_data"
    }
   ],
   "source": [
    "\n",
    "\n",
    "age_list=[i for i in range(-1, 8)]\n",
    "x = [titanic_data.groupby('Age_Range').sum()['Survived'].index[i] for i in age_list]\n",
    "y = [titanic_data.groupby('Age_Range').sum()['Survived'].values[i] for i in age_list]\n",
    "\n",
    "plt.figure(figsize=(12,4)) # 그래프 전체 크기\n",
    "grid = plt.GridSpec(1,2) # GirdSpec(행, 열)\n",
    "plt.rc('font', family='Malgun Gothic') \n",
    "\n",
    "plt.subplot(grid[0,0])\n",
    "plt.bar(x, y, color ='g')\n",
    "plt.title('나이대별 타이타닉 생존자')\n",
    "plt.xlabel('나이')\n",
    "plt.ylabel('생존자')\n",
    "\n",
    "plt.subplot(grid[0,1])\n",
    "plt.bar(titanic_data.groupby('Sex').sum()['Survived'].index, titanic_data.groupby('Sex').sum()['Survived'].values, color ='g')\n",
    "plt.rc('font', family='Malgun Gothic') \n",
    "plt.title('성별별 타이타닉 생존자')\n",
    "plt.xlabel('성별')\n",
    "plt.ylabel('생존자')\n",
    "\n",
    "plt.show()"
   ]
  },
  {
   "cell_type": "code",
   "execution_count": 82,
   "metadata": {},
   "outputs": [
    {
     "data": {
      "image/png": "[encoded data removed]",
      "text/plain": [
       "<Figure size 864x432 with 2 Axes>"
      ]
     },
     "metadata": {
      "needs_background": "light"
     },
     "output_type": "display_data"
    }
   ],
   "source": [
    "\n",
    "daily_data = pd.read_csv('./data/kr_daily.csv', index_col=False, header=0, sep=',')\n",
    "x = [str(i)[:10] for i in pd.date_range(start='2020-05-18', end='2020-06-01')]\n",
    "confirmed_list = daily_data[daily_data['date']>20200517]['confirmed']\n",
    "death_list = daily_data[daily_data['date']>20200517]['death']\n",
    "\n",
    "plt.figure(figsize=(12,6)) # 그래프 전체 크기\n",
    "grid = plt.GridSpec(1,2) # GirdSpec(행, 열)\n",
    "plt.rc('font', family='Malgun Gothic') \n",
    "x_text_rotation = 60\n",
    "\n",
    "plt.subplot(grid[0,0])\n",
    "plt.plot(x, confirmed_list, color='r', linestyle='dotted')\n",
    "plt.xticks(rotation = x_text_rotation)\n",
    "plt.ylim(11050,11550)\n",
    "plt.title('확진자')\n",
    "\n",
    "plt.subplot(grid[0,1:])\n",
    "plt.bar(x, death_list, color ='r')\n",
    "plt.xticks(rotation = x_text_rotation)\n",
    "plt.ylim(0,275)\n",
    "plt.title('사망자')\n",
    "\n",
    "plt.show()\n"
   ]
  },
  {
   "cell_type": "markdown",
   "metadata": {},
   "source": [
    "# 정규표현식 실습\n",
    "해당 기사에서 네이버가 총 몇번 나오는지 정규표현식을 이용 파이썬에서 확인."
   ]
  },
  {
   "cell_type": "code",
   "execution_count": 130,
   "metadata": {},
   "outputs": [],
   "source": [
    "import re\n",
    "text = \"\"\"\n",
    "전국 언론 노동자들이 시민사회단체와 함께 네이버의 지역 차별을 규탄하고 개선을 촉구하는 무기한 릴레이 시위에 돌입했다.\n",
    "\n",
    "전국언론노조와 전국 민주언론시민연합(민언련)은 1일 오전 11시 30분 경기도 성남시의 네이버 본사(그린팩토리) 앞에서 1인 시위를 시작했다. 이날 시위에는 오정훈 전국언론노동조합위원장, 전대식 지역신문노동조합협의회 의장(부산일보 지부장), 김명래 경인일보지부장, 민진영 경기민주언론시민연합 사무처장 등이 참여했다.\n",
    "\n",
    "이들은 1인 시위를 통해 ‘네이버 뉴스 서비스 지역 언론 배제 개선’을 요구하고 ‘지역 공론장 형성을 위한 네이버의 공적 책임’을 촉구했다. 전국언론노조와 민언련은 매주 월요일마다 네이버 본사 앞 시위를 진행할 예정이다.\n",
    "\n",
    "네이버는 최근 뉴스 서비스에 인공지능 에어스(AiRS) 알고리즘을 적용하는 방식으로 뉴스 편집 기능을 개편했다. 이후 지역 언론사 뉴스의 노출이 현격하게 줄어들었다. 아울러 100여 개 모바일 콘텐츠 제휴 언론사 중 독자가 구독을 선택할 수 있는 ‘채널’ 제휴사 44곳을 선정했는데 이 과정에서 지역 언론을 철저하게 배제했다. 이에 반발해 전국언론노조뿐 아니라 한국지방신문협회, 대한민국지방신문협의회 등 지역 신문 단체도 공동 성명을 발표하며 개선을 요구하고 나섰다. 전국시도의회의장협의회는 최근 총회에서 ‘네이버 지역 언론 배제 반대 성명’을 채택하기도 했다. 하지만 이 같은 반발에도 네이버는 뚜렷한 해결책을 내지 않고 있다.\n",
    "\n",
    "오정훈 위원장은 1인 시위에서 “네이버는 해결책을 내놓기는커녕 뉴스제휴평가위원회에만 책임을 떠넘기고 있다”며 “지역 언론 배제 문제의 해결을 위한 대화 요구에 즉각 응답해 뉴스 유통사업자로서의 사회적 역할을 수행해야 한다”고 촉구했다.\n",
    "\n",
    "전대식 의장은 “2005년 당시 네이버는 모든 언론사에 뉴스 유통망을 제공하는 우군이었지만 15년 만에 갑질하고 횡포하는 기업으로 전락했다”며 “지역 언론 종사자들이 만든 콘텐츠가 네이버에서 사라진 현실을 놓고 대화하고 상생적으로 풀어야 한다”면서 협의 창구 개설을 요구했다.\n",
    "\n",
    "민언련은 국내 1위 포털 네이버가 지역 공론장을 만드는 사회적 책임을 외면하는 것은 현 정부의 지방분권 강화 정책에 위배되는 것이라고 지적했다.\n",
    "\n",
    "민진영 사무처장은 “네이버가 지역신문에 대한 보도를 배제하고 시민들과의 소통 창구를 차단하는 것은 현 정부 정책인 지방분권 강화, 민주주의 정착이라는 큰 의제를 거역하는 것”이라며 “이런 행태는 반드시 중단돼야 하고 다양한 소식들이 소비자와 시민에게 전달돼야 한다”고 강조했다.\n",
    "\n",
    "출처 : 제주新보(http://www.jejunews.com)\"\n",
    "\"\"\""
   ]
  },
  {
   "cell_type": "code",
   "execution_count": 131,
   "metadata": {},
   "outputs": [
    {
     "name": "stdout",
     "output_type": "stream",
     "text": [
      "13\n"
     ]
    }
   ],
   "source": [
    "print(len(re.findall('네이버', text)))"
   ]
  },
  {
   "cell_type": "markdown",
   "metadata": {},
   "source": [
    "# 정규표현식\n"
   ]
  },
  {
   "cell_type": "code",
   "execution_count": 139,
   "metadata": {},
   "outputs": [
    {
     "name": "stdout",
     "output_type": "stream",
     "text": [
      "['o', 'r', 'n', 'o', 'r', 'n']\n",
      "['ran', 'ran']\n"
     ]
    }
   ],
   "source": [
    "# 표현식 []\n",
    "text = \"i like orange! 200$ i like orange! 200$\"\n",
    "print(re.findall('[orn]', text))\n",
    "print(re.findall('[orn][oan].', text)) #[orn]이 하나의 글자를 표현, '.' 도 하나의 글자 표현"
   ]
  },
  {
   "cell_type": "code",
   "execution_count": 142,
   "metadata": {},
   "outputs": [
    {
     "name": "stdout",
     "output_type": "stream",
     "text": [
      "['2', '0', '0', '2', '0', '0']\n",
      "['i', 'l', 'i', 'k', 'e', 'o', 'r', 'a', 'n', 'g', 'e', 'i', 'l', 'i', 'k', 'e', 'o', 'r', 'a', 'n', 'g', 'e']\n"
     ]
    }
   ],
   "source": [
    "#[0-9]의 형식으로 숫자줄수 있다.[0,1,2...,9]\n",
    "print(re.findall('[0-9]', text))\n",
    "#[A-Za-z]로 전체 알파벳도 가능\n",
    "print(re.findall('[A-Za-z]', text))\n",
    "# 한글은 [가-힣]가 전체범위"
   ]
  },
  {
   "cell_type": "code",
   "execution_count": 143,
   "metadata": {},
   "outputs": [
    {
     "name": "stdout",
     "output_type": "stream",
     "text": [
      "[' ', ' ', '!', ' ', '2', '0', '0', '$', ' ', ' ', ' ', '!', ' ', '2', '0', '0', '$']\n"
     ]
    }
   ],
   "source": [
    "#[^A-Za-z]는 영문자가 아닌것만 선택하도록 한다 ^가 NOT로 쓰인것.\n",
    "print(re.findall('[^A-Za-z]', text))"
   ]
  },
  {
   "cell_type": "code",
   "execution_count": 147,
   "metadata": {},
   "outputs": [
    {
     "name": "stdout",
     "output_type": "stream",
     "text": [
      "['i', 'i', 'orange', 'i', 'i', 'orange']\n"
     ]
    }
   ],
   "source": [
    "# ()를 이용해 그룹(캡켜)로 활용할수있다.\n",
    "print(re.findall('(orange|i)', text)) #'|'(or)조건을 줄 수 있다."
   ]
  },
  {
   "cell_type": "code",
   "execution_count": 152,
   "metadata": {},
   "outputs": [],
   "source": [
    "test_text = '내 전화번호는 010-0029-9782 입니다.'\n",
    "result = re.search(\"([0-9][0-9][0-9])-([0-9][0-9][0-9][0-9])-([0-9][0-9][0-9][0-9])\", test_text)"
   ]
  },
  {
   "cell_type": "code",
   "execution_count": 157,
   "metadata": {},
   "outputs": [
    {
     "name": "stdout",
     "output_type": "stream",
     "text": [
      "010-0029-9782\n",
      "010\n",
      "0029\n",
      "9782\n"
     ]
    }
   ],
   "source": [
    "print(result.group(0))\n",
    "print(result.group(1))\n",
    "print(result.group(2))\n",
    "print(result.group(3))"
   ]
  },
  {
   "cell_type": "code",
   "execution_count": 160,
   "metadata": {},
   "outputs": [
    {
     "data": {
      "text/plain": [
       "['내', '전화번호는', '010-0029-9782', '입니다.']"
      ]
     },
     "execution_count": 160,
     "metadata": {},
     "output_type": "execute_result"
    }
   ],
   "source": [
    "re.findall('[^ ]+',test_text) #띄어쓰기 제외."
   ]
  },
  {
   "cell_type": "code",
   "execution_count": 166,
   "metadata": {},
   "outputs": [
    {
     "name": "stdout",
     "output_type": "stream",
     "text": [
      "['i lik', 'e ora', 'nge! ', '200$ ', 'i lik', 'e ora', 'nge! ']\n",
      "['abc', 'abc', 'bab', 'abc', 'cab', 'cab']\n"
     ]
    }
   ],
   "source": [
    "# .{5}은 5글자씩 끊어서\n",
    "print(re.findall('.{5}',text))\n",
    "print(re.findall('[abc]{3}', 'abcc abc ab bab abccabcab'))\n"
   ]
  },
  {
   "cell_type": "code",
   "execution_count": 172,
   "metadata": {},
   "outputs": [
    {
     "name": "stdout",
     "output_type": "stream",
     "text": [
      "[]\n",
      "['nge']\n"
     ]
    }
   ],
   "source": [
    "text = \"i like orange 200$ i like oange! 200$\"\n",
    "print(re.findall('oran(?=ge!)',text)) # 긍정형 전방탐색\n",
    "print(re.findall('(?<=ora)nge',text)) # 긍정형 후방탐색"
   ]
  },
  {
   "cell_type": "code",
   "execution_count": 173,
   "metadata": {},
   "outputs": [
    {
     "name": "stdout",
     "output_type": "stream",
     "text": [
      "['oran']\n",
      "['nge']\n"
     ]
    }
   ],
   "source": [
    "print(re.findall('oran(?!ge!)',text)) # 긍정형 전방탐색\n",
    "print(re.findall('(?<!ora)nge',text)) # 긍정형 후방탐색"
   ]
  },
  {
   "cell_type": "markdown",
   "metadata": {},
   "source": [
    "# 파이썬에서 전화번호 찾기"
   ]
  },
  {
   "cell_type": "code",
   "execution_count": 175,
   "metadata": {},
   "outputs": [],
   "source": [
    "phone_n = \"\"\"\n",
    "010-2334-3234\n",
    "02-302-3033\n",
    "010-1321-4043\n",
    "02-01-32\n",
    "33-3303-3033\n",
    "016-444-3042\n",
    "\"\"\""
   ]
  },
  {
   "cell_type": "code",
   "execution_count": 183,
   "metadata": {},
   "outputs": [
    {
     "name": "stdout",
     "output_type": "stream",
     "text": [
      "010-2334-3234\n",
      "010-1321-4043\n",
      "016-444-3042\n"
     ]
    }
   ],
   "source": [
    "results = re.findall(\"[0-9]{3}-[0-9]{3,4}-[0-9]{4}\", phone_n)\n",
    "results2 = re.findall(\"\\d{3}-\\d{3,4}-\\d{4}\", phone_n)\n",
    "for i in results2:\n",
    "    print(i)"
   ]
  },
  {
   "cell_type": "code",
   "execution_count": 188,
   "metadata": {},
   "outputs": [
    {
     "name": "stdout",
     "output_type": "stream",
     "text": [
      "('010', '2334', '3234')\n",
      "('010', '1321', '4043')\n",
      "('016', '444', '3042')\n"
     ]
    }
   ],
   "source": [
    "results = re.findall(\"[0-9]{3}-[0-9]{3,4}-[0-9]{4}\", phone_n)\n",
    "results2 = re.findall(\"(\\d{3})-(\\d{3,4})-(\\d{4})\", phone_n)\n",
    "for i in results2:\n",
    "    print(i)"
   ]
  },
  {
   "cell_type": "code",
   "execution_count": 186,
   "metadata": {},
   "outputs": [
    {
     "name": "stdout",
     "output_type": "stream",
     "text": [
      "010-2334-3234\n",
      "010-1321-4043\n",
      "016-444-3042\n"
     ]
    }
   ],
   "source": [
    "results = re.finditer(\"[0-9]{3}-[0-9]{3,4}-[0-9]{4}\", phone_n)\n",
    "results2 = re.finditer(\"(\\d{3})-(\\d{3,4})-(\\d{4})\", phone_n)\n",
    "for i in results2:\n",
    "    print(i.group())"
   ]
  },
  {
   "cell_type": "markdown",
   "metadata": {},
   "source": [
    "## 파이썬에서 필요없는 부분제거\n",
    "re.sub(정규식, 치환할 문자, 대상문자)"
   ]
  },
  {
   "cell_type": "code",
   "execution_count": 189,
   "metadata": {},
   "outputs": [],
   "source": [
    "ex1 = \"\"\"\n",
    "[앵커]\n",
    "\n",
    "바로 좀 팩트체크를 해 보겠습니다. 제모를 하면 마약검사에서 빠져나갈 수 있다. 연예인 마약사건과 맞물려서 이런 글들이 온라인에서 확산됐습니다. 수사기법을 비웃는 듯한 내용입니다. 팩트체크팀이 국립과학수사연구원의 도움을 받아서 확인을 했습니다. 결론은 마약 성분은 체모 외에도 온몸을 흔적을 남긴다는 겁니다.\n",
    "오대영 기자 나와 있습니다. 구체적으로 어떤 글들이 퍼져 있습니까?\n",
    "\n",
    "[기자]\n",
    "\n",
    "전신 제모를 하면 문제가 없다. 염색, 탈색을 하면 된다. 눈썹은 검사해도 소용없다 등의 내용입니다.\n",
    "포털사이트에서 마약 검사라고 검색을 하면 모발 검사 안 걸리는 법이라는 연관 검색어까지 뜹니다.\n",
    "\"\"\""
   ]
  },
  {
   "cell_type": "code",
   "execution_count": 198,
   "metadata": {},
   "outputs": [
    {
     "name": "stdout",
     "output_type": "stream",
     "text": [
      "\n",
      "앵커\n",
      "\n",
      "바로 좀 팩트체크를 해 보겠습니다 제모를 하면 마약검사에서 빠져나갈 수 있다 연예인 마약사건과 맞물려서 이런 글들이 온라인에서 확산됐습니다 수사기법을 비웃는 듯한 내용입니다 팩트체크팀이 국립과학수사연구원의 도움을 받아서 확인을 했습니다 결론은 마약 성분은 체모 외에도 온몸을 흔적을 남긴다는 겁니다\n",
      "오대영 기자 나와 있습니다 구체적으로 어떤 글들이 퍼져 있습니까?\n",
      "\n",
      "기자\n",
      "\n",
      "전신 제모를 하면 문제가 없다 염색, 탈색을 하면 된다 눈썹은 검사해도 소용없다 등의 내용입니다\n",
      "포털사이트에서 마약 검사라고 검색을 하면 모발 검사 안 걸리는 법이라는 연관 검색어까지 뜹니다\n",
      "\n"
     ]
    }
   ],
   "source": [
    "results = re.sub(\"[\\[.+\\]]\", \"\", ex1)\n",
    "print(results)\n"
   ]
  },
  {
   "cell_type": "code",
   "execution_count": 201,
   "metadata": {},
   "outputs": [
    {
     "name": "stdout",
     "output_type": "stream",
     "text": [
      "['apple', '', 'orange', '', 'banana', 'pineapple']\n"
     ]
    }
   ],
   "source": [
    "text = 'apple, orange! banana pineapple'\n",
    "result = re.split(\"[,! ]\", text)\n",
    "print(result)"
   ]
  },
  {
   "cell_type": "code",
   "execution_count": 206,
   "metadata": {},
   "outputs": [
    {
     "data": {
      "text/plain": [
       "'<html><head><title>Title</title>'"
      ]
     },
     "execution_count": 206,
     "metadata": {},
     "output_type": "execute_result"
    }
   ],
   "source": [
    "text = '<html><head><title>Title</title>'\n",
    "result = re.search(\"<.+>\", text)\n",
    "result.group()"
   ]
  },
  {
   "cell_type": "code",
   "execution_count": 204,
   "metadata": {},
   "outputs": [
    {
     "data": {
      "text/plain": [
       "'<html>'"
      ]
     },
     "execution_count": 204,
     "metadata": {},
     "output_type": "execute_result"
    }
   ],
   "source": [
    "text = '<html><head><title>Title</title>'\n",
    "result = re.search(\"<.+?>\", text)\n",
    "result.group()"
   ]
  },
  {
   "cell_type": "code",
   "execution_count": 205,
   "metadata": {},
   "outputs": [
    {
     "data": {
      "text/plain": [
       "['html', 'head', 'title', '/title']"
      ]
     },
     "execution_count": 205,
     "metadata": {},
     "output_type": "execute_result"
    }
   ],
   "source": [
    "text = '<html><head><title>Title</title>'\n",
    "result = re.findall(\"<(.+?)>\", text)\n",
    "result"
   ]
  },
  {
   "cell_type": "markdown",
   "metadata": {},
   "source": [
    "# 실습 01 정상적인 이메일만 출력."
   ]
  },
  {
   "cell_type": "code",
   "execution_count": 353,
   "metadata": {},
   "outputs": [],
   "source": [
    "text = \"\"\"\n",
    "jkilee@gmail.com\n",
    "kttredef@naver.com\n",
    "akdef!aa.com\n",
    "adekik@best.kr\n",
    "abkereff@aacde\n",
    "adefgree@korea.co.kr\n",
    "\"\"\""
   ]
  },
  {
   "cell_type": "code",
   "execution_count": 354,
   "metadata": {},
   "outputs": [
    {
     "name": "stdout",
     "output_type": "stream",
     "text": [
      "['jkilee@gmail.com', 'kttredef@naver.com', 'adekik@best.kr', 'adefgree@korea.co.kr']\n"
     ]
    }
   ],
   "source": [
    "result = re.findall(\"\\w+@\\w+\\.\\w+\\.*\\w*\", text)\n",
    "print(result)"
   ]
  },
  {
   "cell_type": "markdown",
   "metadata": {},
   "source": [
    "# 실습 02\n",
    "텍스트 중에 <내용>괄호로 뭈여진 텍스트를 괄호 포함 모두 제거"
   ]
  },
  {
   "cell_type": "code",
   "execution_count": 364,
   "metadata": {},
   "outputs": [],
   "source": [
    "text = \"\"\"\n",
    "안녕하세요 저는 <em>홍길동</em> 입니다. 나이는 24살 세계 최고의 <a href=\"aa.aa.com\">데이터 분석가</a>가 되고싶습니다.\n",
    "\"\"\""
   ]
  },
  {
   "cell_type": "code",
   "execution_count": 365,
   "metadata": {
    "scrolled": true
   },
   "outputs": [
    {
     "name": "stdout",
     "output_type": "stream",
     "text": [
      "\n",
      "안녕하세요 저는 홍길동 입니다. 나이는 24살 세계 최고의 데이터 분석가가 되고싶습니다.\n",
      "\n"
     ]
    }
   ],
   "source": [
    "result =  re.sub(\"<.+?>\", \"\", text)\n",
    "print(result)"
   ]
  },
  {
   "cell_type": "code",
   "execution_count": 366,
   "metadata": {},
   "outputs": [
    {
     "name": "stdout",
     "output_type": "stream",
     "text": [
      "\n",
      "안녕하세요 저는 홍길동 입니다. 나이는 24살 세계 최고의 데이터 분석가가 되고싶습니다.\n",
      "\n"
     ]
    }
   ],
   "source": [
    "result =  re.sub(\"<[^<].+?>\", \"\", text)\n",
    "print(result)"
   ]
  },
  {
   "cell_type": "markdown",
   "metadata": {},
   "source": [
    "# 실습 3\n",
    "1. 정규표현식을 이용 <span>내용</span> 을 각각 추출\n",
    "2. 추출된 항목에서 <span>과 </span> 태그를 모두제거\n",
    "3. 각각 총 3개의 항목을 리스트에 넣기\n",
    "\n",
    "심화 : 위의 1, 2 과정을 하나의 정규식으로 해결해보세요"
   ]
  },
  {
   "cell_type": "code",
   "execution_count": 376,
   "metadata": {},
   "outputs": [],
   "source": [
    "text = \"\"\"\n",
    "<p>\n",
    "<span>네이버가 뉴스 서비스에 인공지능(AI)을 도입해 페이지 뷰(PV)를 늘리고 이용자를 끌어 모으고 있다.</span>\n",
    "<span>네이버는 5일 오전 서울 강남구 그랜드 인터컨티넨털 호텔에서 AI 콜로키움 2019를 열고 이 같은 AI 성과와 전략을 소개했다.</span>\n",
    "<span>이날 기조연설에서 김광현 네이버 서치앤클로바 리더는 \"AI 뉴스 추천 시스템인 에어스(AiRS)를 도입하면서 뉴스 소비량이 확대되고 있다\" 고 말했다.</span>\n",
    "</p>\n",
    "\"\"\""
   ]
  },
  {
   "cell_type": "code",
   "execution_count": 373,
   "metadata": {},
   "outputs": [
    {
     "name": "stdout",
     "output_type": "stream",
     "text": [
      "['네이버가 뉴스 서비스에 인공지능(AI)을 도입해 페이지 뷰(PV)를 늘리고 이용자를 끌어 모으고 있다.', '네이버는 5일 오전 서울 강남구 그랜드 인터컨티넨털 호텔에서 AI 콜로키움 2019를 열고 이 같은 AI 성과와 전략을 소개했다.', '이날 기조연설에서 김광현 네이버 서치앤클로바 리더는 \"AI 뉴스 추천 시스템인 에어스(AiRS)를 도입하면서 뉴스 소비량이 확대되고 있다\" 고 말했다.']\n"
     ]
    }
   ],
   "source": [
    "result = [i for i in re.split(\"\\n*<.+?>\\n*\", text) if i != '']\n",
    "print(result)"
   ]
  },
  {
   "cell_type": "code",
   "execution_count": 377,
   "metadata": {},
   "outputs": [
    {
     "name": "stdout",
     "output_type": "stream",
     "text": [
      "['네이버가 뉴스 서비스에 인공지능(AI)을 도입해 페이지 뷰(PV)를 늘리고 이용자를 끌어 모으고 있다.', '네이버는 5일 오전 서울 강남구 그랜드 인터컨티넨털 호텔에서 AI 콜로키움 2019를 열고 이 같은 AI 성과와 전략을 소개했다.', '이날 기조연설에서 김광현 네이버 서치앤클로바 리더는 \"AI 뉴스 추천 시스템인 에어스(AiRS)를 도입하면서 뉴스 소비량이 확대되고 있다\" 고 말했다.']\n"
     ]
    }
   ],
   "source": [
    "sentences = re.findall(\"<span>(.+)</span>\", text)\n",
    "print(sentences)"
   ]
  },
  {
   "cell_type": "code",
   "execution_count": 379,
   "metadata": {},
   "outputs": [
    {
     "name": "stdout",
     "output_type": "stream",
     "text": [
      "['네이버가 뉴스 서비스에 인공지능(AI)을 도입해 페이지 뷰(PV)를 늘리고 이용자를 끌어 모으고 있다.', '네이버는 5일 오전 서울 강남구 그랜드 인터컨티넨털 호텔에서 AI 콜로키움 2019를 열고 이 같은 AI 성과와 전략을 소개했다.', '이날 기조연설에서 김광현 네이버 서치앤클로바 리더는 \"AI 뉴스 추천 시스템인 에어스(AiRS)를 도입하면서 뉴스 소비량이 확대되고 있다\" 고 말했다.']\n"
     ]
    }
   ],
   "source": [
    "sentences = re.findall(\"(?<=<span>).*(?=</span)\", text)\n",
    "print(sentences)"
   ]
  },
  {
   "cell_type": "code",
   "execution_count": null,
   "metadata": {},
   "outputs": [],
   "source": []
  }
 ],
 "metadata": {
  "kernelspec": {
   "display_name": "Python 3",
   "language": "python",
   "name": "python3"
  },
  "language_info": {
   "codemirror_mode": {
    "name": "ipython",
    "version": 3
   },
   "file_extension": ".py",
   "mimetype": "text/x-python",
   "name": "python",
   "nbconvert_exporter": "python",
   "pygments_lexer": "ipython3",
   "version": "3.7.9"
  }
 },
 "nbformat": 4,
 "nbformat_minor": 4
}
