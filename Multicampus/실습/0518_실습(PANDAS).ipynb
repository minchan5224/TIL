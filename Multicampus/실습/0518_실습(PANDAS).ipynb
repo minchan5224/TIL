{
 "cells": [
  {
   "cell_type": "markdown",
   "metadata": {},
   "source": [
    "# PANDAS"
   ]
  },
  {
   "cell_type": "code",
   "execution_count": 17,
   "metadata": {},
   "outputs": [
    {
     "name": "stdout",
     "output_type": "stream",
     "text": [
      "[90, 80, 95, 80, 70, 90, 100, 70]\n",
      "홍길동  수학     90\n",
      "     영어     80\n",
      "     과학     95\n",
      "     미술     80\n",
      "이몽룡  수학     70\n",
      "     영어     90\n",
      "     과학    100\n",
      "     미술     70\n",
      "dtype: int64\n"
     ]
    }
   ],
   "source": [
    "import pandas as pd\n",
    "import numpy as np\n",
    "student_1 = {\"수학\":90, \"영어\":80, \"과학\":95, \"미술\":80}\n",
    "student_2 = {\"수학\":70, \"영어\":90, \"과학\":100, \"미술\":70}\n",
    "\n",
    "index_1 = ['홍길동' for i in range(len(student_1))] + ['이몽룡' for i in range(len(student_2))]\n",
    "# index_1 = ['홍길동', '홍길동', '홍길동', '홍길동', '이몽룡', '이몽룡', '이몽룡', '이몽룡']\n",
    "\n",
    "index_2 = [i for i in student_1] + [i for i in student_2]\n",
    "# index_2 = [\"수학\", \"영어\", \"과학\", \"미술\", \"수학\", \"영어\", \"과학\", \"미술\"]\n",
    "\n",
    "value_all = list(student_1.values()) + list(student_2.values())\n",
    "print(value_all)\n",
    "students = pd.Series(value_all, index=[index_1, index_2])\n",
    "\n",
    "print(students)"
   ]
  },
  {
   "cell_type": "markdown",
   "metadata": {},
   "source": [
    "# 날짜 함수\n",
    "### 날짜 형식\n",
    "- yyyy-mm-dd\n",
    "- yyyy/mm/dd\n",
    "- yyyy.mm.dd\n",
    "- mm-dd-yyyy\n",
    "- mm/dd/yyyy"
   ]
  },
  {
   "cell_type": "code",
   "execution_count": 58,
   "metadata": {},
   "outputs": [
    {
     "name": "stdout",
     "output_type": "stream",
     "text": [
      "DatetimeIndex(['2021-05-15', '2021-05-16', '2021-05-17', '2021-05-18'], dtype='datetime64[ns]', freq='D')\n"
     ]
    }
   ],
   "source": [
    "# 날짜 자동 생성\n",
    "print(pd.date_range(start='2021-05-15', end='2021-05-18'))"
   ]
  },
  {
   "cell_type": "code",
   "execution_count": 59,
   "metadata": {},
   "outputs": [
    {
     "name": "stdout",
     "output_type": "stream",
     "text": [
      "DatetimeIndex(['2021-05-18', '2021-05-19', '2021-05-20', '2021-05-21',\n",
      "               '2021-05-22', '2021-05-23', '2021-05-24'],\n",
      "              dtype='datetime64[ns]', freq='D')\n"
     ]
    }
   ],
   "source": [
    "#기간 사용\n",
    "print(pd.date_range(start='2021-05-18', periods=7))"
   ]
  },
  {
   "cell_type": "code",
   "execution_count": 60,
   "metadata": {},
   "outputs": [
    {
     "name": "stdout",
     "output_type": "stream",
     "text": [
      "DatetimeIndex(['2021-05-18', '2021-05-20', '2021-05-22', '2021-05-24',\n",
      "               '2021-05-26', '2021-05-28', '2021-05-30'],\n",
      "              dtype='datetime64[ns]', freq='2D')\n",
      "DatetimeIndex(['2021-05-23', '2021-05-30', '2021-06-06', '2021-06-13',\n",
      "               '2021-06-20', '2021-06-27', '2021-07-04'],\n",
      "              dtype='datetime64[ns]', freq='W-SUN')\n"
     ]
    }
   ],
   "source": [
    "#증감\n",
    "print(pd.date_range(start='2021-05-18', periods=7, freq='2D'))\n",
    "print(pd.date_range(start='2021-05-18', periods=7, freq='W'))"
   ]
  },
  {
   "cell_type": "code",
   "execution_count": 61,
   "metadata": {},
   "outputs": [
    {
     "name": "stdout",
     "output_type": "stream",
     "text": [
      "DatetimeIndex(['2021-05-18 03:45:00', '2021-12-24 23:59:00'], dtype='datetime64[ns]', freq=None)\n",
      "Int64Index([2021, 2021], dtype='int64')\n",
      "Int64Index([1, 4], dtype='int64')\n",
      "TimedeltaIndex(['-32 days +12:06:00', '189 days 08:20:00'], dtype='timedelta64[ns]', freq=None)\n"
     ]
    }
   ],
   "source": [
    "#날짜형\n",
    "x = pd.to_datetime(['2021-05-18 03:45', '2021-12-24 23:59'])\n",
    "print(x)\n",
    "print(x.year)\n",
    "print(x.weekday)\n",
    "diff = x - pd.to_datetime('2021-06-18 15:39')\n",
    "print(diff)"
   ]
  },
  {
   "cell_type": "markdown",
   "metadata": {},
   "source": [
    "# 실습 01"
   ]
  },
  {
   "cell_type": "code",
   "execution_count": 18,
   "metadata": {},
   "outputs": [
    {
     "name": "stdout",
     "output_type": "stream",
     "text": [
      "1 : 4\n",
      "\n",
      "2 : \n",
      "0     3.0\n",
      "1     3.0\n",
      "2     4.0\n",
      "4     3.0\n",
      "5     5.0\n",
      "6     1.0\n",
      "7     4.0\n",
      "8     1.0\n",
      "9     1.0\n",
      "10    5.0\n",
      "12    4.0\n",
      "14    5.0\n",
      "15    3.0\n",
      "17    2.0\n",
      "18    1.0\n",
      "19    2.0\n",
      "dtype: float64\n",
      "\n",
      "0     3.0000\n",
      "1     3.0000\n",
      "2     4.0000\n",
      "3     2.9375\n",
      "4     3.0000\n",
      "5     5.0000\n",
      "6     1.0000\n",
      "7     4.0000\n",
      "8     1.0000\n",
      "9     1.0000\n",
      "10    5.0000\n",
      "11    2.9375\n",
      "12    4.0000\n",
      "13    2.9375\n",
      "14    5.0000\n",
      "15    3.0000\n",
      "16    2.9375\n",
      "17    2.0000\n",
      "18    1.0000\n",
      "19    2.0000\n",
      "dtype: float64\n"
     ]
    }
   ],
   "source": [
    "x = [np.nan, 1, 2, 3, 4, 5]\n",
    "y = pd.Series([x[np.random.randint(0,6)] for i in range(20)])\n",
    "\n",
    "print(\"1 : {0}\\n\".format(y.isnull().sum())) # null갯수\n",
    "print(\"2 : \\n{0}\\n\".format(y.dropna())) # 평균값\n",
    "\n",
    "temp = y.mean() # null 제외한 평균 구하기\n",
    "print(y.fillna(temp)) # 평균으로 결측값 채우기"
   ]
  },
  {
   "cell_type": "markdown",
   "metadata": {},
   "source": [
    "# Column(데이터) 추가"
   ]
  },
  {
   "cell_type": "code",
   "execution_count": 165,
   "metadata": {},
   "outputs": [],
   "source": [
    "sales_data = {\n",
    " '연도':[2015, 2016, 2017, 2018, 2019, 2020],\n",
    " '판매량':[103, 70, 130, 160, 190, 230],\n",
    " '매출':[500000, 300000, 400000, 550000, 700000, 680000],\n",
    " '순이익':[370000, 190000, 300000, 480000, 600000, 590000]\n",
    "}\n",
    "#df =  pd.DataFrame(sales_data)\n",
    "#print(df)"
   ]
  },
  {
   "cell_type": "code",
   "execution_count": 46,
   "metadata": {},
   "outputs": [
    {
     "name": "stdout",
     "output_type": "stream",
     "text": [
      "{'연도': [2015, 2016, 2017, 2018, 2019, 2020], '판매량': [103, 70, 130, 160, 190, 230], '매출': [500000, 300000, 400000, 550000, 700000, 680000], '순이익': [370000, 190000, 300000, 480000, 600000, 590000]}\n"
     ]
    }
   ],
   "source": [
    "pd.DataFrame(sales_data, columns=['판매량','매출','순이익'], index=df['연도'])"
   ]
  },
  {
   "cell_type": "code",
   "execution_count": 145,
   "metadata": {},
   "outputs": [],
   "source": [
    "def check(n):\n",
    "    if n>80:\n",
    "        return '높음'\n",
    "    else :\n",
    "        return '낮음'"
   ]
  },
  {
   "cell_type": "code",
   "execution_count": 167,
   "metadata": {
    "scrolled": true
   },
   "outputs": [
    {
     "data": {
      "text/html": [
       "<div>\n",
       "<style scoped>\n",
       "    .dataframe tbody tr th:only-of-type {\n",
       "        vertical-align: middle;\n",
       "    }\n",
       "\n",
       "    .dataframe tbody tr th {\n",
       "        vertical-align: top;\n",
       "    }\n",
       "\n",
       "    .dataframe thead th {\n",
       "        text-align: right;\n",
       "    }\n",
       "</style>\n",
       "<table border=\"1\" class=\"dataframe\">\n",
       "  <thead>\n",
       "    <tr style=\"text-align: right;\">\n",
       "      <th></th>\n",
       "      <th>연도</th>\n",
       "      <th>판매량</th>\n",
       "      <th>매출</th>\n",
       "      <th>순이익</th>\n",
       "      <th>순이익율</th>\n",
       "      <th>순이익율_비교</th>\n",
       "    </tr>\n",
       "  </thead>\n",
       "  <tbody>\n",
       "    <tr>\n",
       "      <th>0</th>\n",
       "      <td>2015</td>\n",
       "      <td>103</td>\n",
       "      <td>500000</td>\n",
       "      <td>370000</td>\n",
       "      <td>74.000000</td>\n",
       "      <td>낮음</td>\n",
       "    </tr>\n",
       "    <tr>\n",
       "      <th>1</th>\n",
       "      <td>2016</td>\n",
       "      <td>70</td>\n",
       "      <td>300000</td>\n",
       "      <td>190000</td>\n",
       "      <td>63.333333</td>\n",
       "      <td>낮음</td>\n",
       "    </tr>\n",
       "    <tr>\n",
       "      <th>2</th>\n",
       "      <td>2017</td>\n",
       "      <td>130</td>\n",
       "      <td>400000</td>\n",
       "      <td>300000</td>\n",
       "      <td>75.000000</td>\n",
       "      <td>낮음</td>\n",
       "    </tr>\n",
       "    <tr>\n",
       "      <th>3</th>\n",
       "      <td>2018</td>\n",
       "      <td>160</td>\n",
       "      <td>550000</td>\n",
       "      <td>480000</td>\n",
       "      <td>87.272727</td>\n",
       "      <td>높음</td>\n",
       "    </tr>\n",
       "    <tr>\n",
       "      <th>4</th>\n",
       "      <td>2019</td>\n",
       "      <td>190</td>\n",
       "      <td>700000</td>\n",
       "      <td>600000</td>\n",
       "      <td>85.714286</td>\n",
       "      <td>높음</td>\n",
       "    </tr>\n",
       "    <tr>\n",
       "      <th>5</th>\n",
       "      <td>2020</td>\n",
       "      <td>230</td>\n",
       "      <td>680000</td>\n",
       "      <td>590000</td>\n",
       "      <td>86.764706</td>\n",
       "      <td>높음</td>\n",
       "    </tr>\n",
       "  </tbody>\n",
       "</table>\n",
       "</div>"
      ],
      "text/plain": [
       "     연도  판매량      매출     순이익       순이익율 순이익율_비교\n",
       "0  2015  103  500000  370000  74.000000      낮음\n",
       "1  2016   70  300000  190000  63.333333      낮음\n",
       "2  2017  130  400000  300000  75.000000      낮음\n",
       "3  2018  160  550000  480000  87.272727      높음\n",
       "4  2019  190  700000  600000  85.714286      높음\n",
       "5  2020  230  680000  590000  86.764706      높음"
      ]
     },
     "execution_count": 167,
     "metadata": {},
     "output_type": "execute_result"
    }
   ],
   "source": [
    "sales_data = pd.DataFrame(sales_data)\n",
    "sales_data['순이익율'] = (sales_data['순이익']/sales_data['매출']) * 100\n",
    "\n",
    "# sales_data['순이익율_비교'] = sales_data['순이익율'].apply(check)\n",
    "sales_data['순이익율_비교'] = sales_data['순이익율'].apply(lambda x:'높음' if x > 80 else '낮음')\n",
    "sales_data"
   ]
  },
  {
   "cell_type": "code",
   "execution_count": 77,
   "metadata": {},
   "outputs": [
    {
     "name": "stdout",
     "output_type": "stream",
     "text": [
      "     연도  판매량      매출     순이익  테스트1   테스트2\n",
      "0  2015  103  500000  370000   103    NaN\n",
      "1  2016   70  300000  190000    70  120.0\n",
      "2  2017  130  400000  300000   130    NaN\n",
      "3  2018  160  550000  480000   160    NaN\n",
      "4  2019  190  700000  600000   190    NaN\n",
      "5  2020  230  680000  590000     0    NaN\n"
     ]
    }
   ],
   "source": [
    "# 인덱스에 조건 가능\n",
    "sales_data = pd.DataFrame(sales_data)\n",
    "sales_data[sales_data['매출'] > 300000]\n",
    "\n",
    "# 해당 조건에 일치하는것만 데이터 변경 np.where(조건, True일경우, False일경우)\n",
    "sales_data['테스트1'] = np.where(sales_data['판매량'] > 200, 0, sales_data['판매량'])\n",
    "\n",
    "# 해당 조건에 일치하는것만 바꾸고 나머지는 NaN\n",
    "sales_data['테스트2'] = sales_data[sales_data['판매량'] < 100]['판매량'] + 50\n",
    "print(sales_data)\n",
    "# 행추가\n",
    "sales_data.loc[6] = [2021, 720000,650000, 360, 0, 0]\n",
    "sales_data.loc[7] = sales_data.loc[5] + 100"
   ]
  },
  {
   "cell_type": "markdown",
   "metadata": {},
   "source": [
    "# 데이터 병합"
   ]
  },
  {
   "cell_type": "code",
   "execution_count": 62,
   "metadata": {},
   "outputs": [],
   "source": [
    "sales_data1 = {\n",
    " '연도':[2015, 2016, 2017, 2018],\n",
    " '판매량':[103, 70, 130, 160],\n",
    " '매출':[500000, 300000, 400000, 550000],\n",
    " '순이익':[370000, 190000, 300000, 480000]\n",
    "}\n",
    "sales_data2 = {\n",
    " '연도':[2019, 2020],\n",
    " '판매량':[190, 230],\n",
    " '매출':[700000, 680000],\n",
    " '순이익':[ 600000, 590000]\n",
    "}"
   ]
  },
  {
   "cell_type": "code",
   "execution_count": 168,
   "metadata": {},
   "outputs": [
    {
     "name": "stdout",
     "output_type": "stream",
     "text": [
      "     연도  판매량      매출     순이익\n",
      "0  2015  103  500000  370000\n",
      "1  2016   70  300000  190000\n",
      "2  2017  130  400000  300000\n",
      "3  2018  160  550000  480000\n",
      "     연도  판매량      매출     순이익\n",
      "0  2019  190  700000  600000\n",
      "1  2020  230  680000  590000\n"
     ]
    }
   ],
   "source": [
    "sales_df1 = pd.DataFrame(sales_data1)\n",
    "sales_df2 = pd.DataFrame(sales_data2)\n",
    "print(sales_df1)\n",
    "print(sales_df2)"
   ]
  },
  {
   "cell_type": "code",
   "execution_count": 176,
   "metadata": {},
   "outputs": [
    {
     "data": {
      "text/html": [
       "<div>\n",
       "<style scoped>\n",
       "    .dataframe tbody tr th:only-of-type {\n",
       "        vertical-align: middle;\n",
       "    }\n",
       "\n",
       "    .dataframe tbody tr th {\n",
       "        vertical-align: top;\n",
       "    }\n",
       "\n",
       "    .dataframe thead th {\n",
       "        text-align: right;\n",
       "    }\n",
       "</style>\n",
       "<table border=\"1\" class=\"dataframe\">\n",
       "  <thead>\n",
       "    <tr style=\"text-align: right;\">\n",
       "      <th></th>\n",
       "      <th>연도</th>\n",
       "      <th>판매량</th>\n",
       "      <th>매출</th>\n",
       "      <th>순이익</th>\n",
       "    </tr>\n",
       "  </thead>\n",
       "  <tbody>\n",
       "    <tr>\n",
       "      <th>0</th>\n",
       "      <td>2015</td>\n",
       "      <td>103</td>\n",
       "      <td>500000</td>\n",
       "      <td>370000</td>\n",
       "    </tr>\n",
       "    <tr>\n",
       "      <th>1</th>\n",
       "      <td>2016</td>\n",
       "      <td>70</td>\n",
       "      <td>300000</td>\n",
       "      <td>190000</td>\n",
       "    </tr>\n",
       "    <tr>\n",
       "      <th>2</th>\n",
       "      <td>2017</td>\n",
       "      <td>130</td>\n",
       "      <td>400000</td>\n",
       "      <td>300000</td>\n",
       "    </tr>\n",
       "    <tr>\n",
       "      <th>3</th>\n",
       "      <td>2018</td>\n",
       "      <td>160</td>\n",
       "      <td>550000</td>\n",
       "      <td>480000</td>\n",
       "    </tr>\n",
       "    <tr>\n",
       "      <th>4</th>\n",
       "      <td>2019</td>\n",
       "      <td>190</td>\n",
       "      <td>700000</td>\n",
       "      <td>600000</td>\n",
       "    </tr>\n",
       "    <tr>\n",
       "      <th>5</th>\n",
       "      <td>2020</td>\n",
       "      <td>230</td>\n",
       "      <td>680000</td>\n",
       "      <td>590000</td>\n",
       "    </tr>\n",
       "  </tbody>\n",
       "</table>\n",
       "</div>"
      ],
      "text/plain": [
       "     연도  판매량      매출     순이익\n",
       "0  2015  103  500000  370000\n",
       "1  2016   70  300000  190000\n",
       "2  2017  130  400000  300000\n",
       "3  2018  160  550000  480000\n",
       "4  2019  190  700000  600000\n",
       "5  2020  230  680000  590000"
      ]
     },
     "execution_count": 176,
     "metadata": {},
     "output_type": "execute_result"
    }
   ],
   "source": [
    "# append\n",
    "sales_df1.append(sales_df2, ignore_index=True) #인덱스 새로설정 False 면 원래쓰던 인덱스 사용\n",
    "# sales_df1.append(sales_df2, ignore_index=False)\n",
    "# 합친 값을 sales_df1에 저장하지는 않았다. axis = 1 열방향 결합"
   ]
  },
  {
   "cell_type": "code",
   "execution_count": 175,
   "metadata": {
    "scrolled": true
   },
   "outputs": [
    {
     "data": {
      "text/html": [
       "<div>\n",
       "<style scoped>\n",
       "    .dataframe tbody tr th:only-of-type {\n",
       "        vertical-align: middle;\n",
       "    }\n",
       "\n",
       "    .dataframe tbody tr th {\n",
       "        vertical-align: top;\n",
       "    }\n",
       "\n",
       "    .dataframe thead th {\n",
       "        text-align: right;\n",
       "    }\n",
       "</style>\n",
       "<table border=\"1\" class=\"dataframe\">\n",
       "  <thead>\n",
       "    <tr style=\"text-align: right;\">\n",
       "      <th></th>\n",
       "      <th>연도</th>\n",
       "      <th>판매량</th>\n",
       "      <th>매출</th>\n",
       "      <th>순이익</th>\n",
       "    </tr>\n",
       "  </thead>\n",
       "  <tbody>\n",
       "    <tr>\n",
       "      <th>0</th>\n",
       "      <td>2015</td>\n",
       "      <td>103</td>\n",
       "      <td>500000</td>\n",
       "      <td>370000</td>\n",
       "    </tr>\n",
       "    <tr>\n",
       "      <th>1</th>\n",
       "      <td>2016</td>\n",
       "      <td>70</td>\n",
       "      <td>300000</td>\n",
       "      <td>190000</td>\n",
       "    </tr>\n",
       "    <tr>\n",
       "      <th>2</th>\n",
       "      <td>2017</td>\n",
       "      <td>130</td>\n",
       "      <td>400000</td>\n",
       "      <td>300000</td>\n",
       "    </tr>\n",
       "    <tr>\n",
       "      <th>3</th>\n",
       "      <td>2018</td>\n",
       "      <td>160</td>\n",
       "      <td>550000</td>\n",
       "      <td>480000</td>\n",
       "    </tr>\n",
       "    <tr>\n",
       "      <th>4</th>\n",
       "      <td>2019</td>\n",
       "      <td>190</td>\n",
       "      <td>700000</td>\n",
       "      <td>600000</td>\n",
       "    </tr>\n",
       "    <tr>\n",
       "      <th>5</th>\n",
       "      <td>2020</td>\n",
       "      <td>230</td>\n",
       "      <td>680000</td>\n",
       "      <td>590000</td>\n",
       "    </tr>\n",
       "  </tbody>\n",
       "</table>\n",
       "</div>"
      ],
      "text/plain": [
       "     연도  판매량      매출     순이익\n",
       "0  2015  103  500000  370000\n",
       "1  2016   70  300000  190000\n",
       "2  2017  130  400000  300000\n",
       "3  2018  160  550000  480000\n",
       "4  2019  190  700000  600000\n",
       "5  2020  230  680000  590000"
      ]
     },
     "execution_count": 175,
     "metadata": {},
     "output_type": "execute_result"
    }
   ],
   "source": [
    "# concat\n",
    "pd.concat([sales_df1, sales_df2], ignore_index=True)#인덱스 새로설정 False 면 원래쓰던 인덱스 사용\n",
    "# pd.concat([sales_df1, sales_df2], ignore_index=False)\n",
    "# 합친 값을 sales_df1에 저장하지는 않았다."
   ]
  },
  {
   "cell_type": "code",
   "execution_count": 66,
   "metadata": {},
   "outputs": [
    {
     "name": "stdout",
     "output_type": "stream",
     "text": [
      "     연도    이자  관리비     세금\n",
      "0  2015  1520  650  12000\n",
      "1  2016  1120  400   8900\n",
      "2  2017  1360  750  10900\n",
      "3  2018  1680  800  12800\n"
     ]
    }
   ],
   "source": [
    "cost_data = {\n",
    " '연도':[2015, 2016, 2017, 2018],\n",
    " '이자':[1520, 1120, 1360, 1680],\n",
    " '관리비':[650, 400, 750, 800],\n",
    " '세금':[12000, 8900, 10900, 12800] }\n",
    "cost_data = pd.DataFrame(cost_data)\n",
    "print(cost_data)"
   ]
  },
  {
   "cell_type": "code",
   "execution_count": 178,
   "metadata": {},
   "outputs": [],
   "source": [
    "sales_df = pd.concat([sales_df1, sales_df2], ignore_index=True)"
   ]
  },
  {
   "cell_type": "code",
   "execution_count": 180,
   "metadata": {
    "scrolled": true
   },
   "outputs": [
    {
     "name": "stdout",
     "output_type": "stream",
     "text": [
      "     연도  판매량      매출     순이익    이자  관리비     세금\n",
      "0  2015  103  500000  370000  1520  650  12000\n",
      "1  2016   70  300000  190000  1120  400   8900\n",
      "2  2017  130  400000  300000  1360  750  10900\n",
      "3  2018  160  550000  480000  1680  800  12800\n",
      "     연도  판매량      매출     순이익      이자    관리비       세금\n",
      "0  2015  103  500000  370000  1520.0  650.0  12000.0\n",
      "1  2016   70  300000  190000  1120.0  400.0   8900.0\n",
      "2  2017  130  400000  300000  1360.0  750.0  10900.0\n",
      "3  2018  160  550000  480000  1680.0  800.0  12800.0\n",
      "4  2019  190  700000  600000     NaN    NaN      NaN\n",
      "5  2020  230  680000  590000     NaN    NaN      NaN\n",
      "     연도  판매량      매출     순이익      이자    관리비       세금\n",
      "0  2015  103  500000  370000  1520.0  650.0  12000.0\n",
      "1  2016   70  300000  190000  1120.0  400.0   8900.0\n",
      "2  2017  130  400000  300000  1360.0  750.0  10900.0\n",
      "3  2018  160  550000  480000  1680.0  800.0  12800.0\n",
      "4  2019  190  700000  600000     NaN    NaN      NaN\n",
      "5  2020  230  680000  590000     NaN    NaN      NaN\n",
      "     연도  판매량      매출     순이익    이자  관리비     세금\n",
      "0  2015  103  500000  370000  1520  650  12000\n",
      "1  2016   70  300000  190000  1120  400   8900\n",
      "2  2017  130  400000  300000  1360  750  10900\n",
      "3  2018  160  550000  480000  1680  800  12800\n"
     ]
    }
   ],
   "source": [
    "# merge\n",
    "print(pd.merge(sales_df, cost_data, on='연도', how='inner'))\n",
    "print(pd.merge(sales_df, cost_data, on='연도', how='outer'))\n",
    "print(pd.merge(sales_df, cost_data, on='연도', how='left'))\n",
    "print(pd.merge(sales_df, cost_data, on='연도', how='right'))"
   ]
  },
  {
   "cell_type": "markdown",
   "metadata": {},
   "source": [
    "# 데이터(Column) 삭제"
   ]
  },
  {
   "cell_type": "code",
   "execution_count": 111,
   "metadata": {},
   "outputs": [
    {
     "name": "stdout",
     "output_type": "stream",
     "text": [
      "     연도  판매량      매출     순이익   테스트1   테스트2   테스트3\n",
      "0  2015  103  500000  370000  test1  test2  test3\n",
      "1  2016   70  300000  190000  test1  test2  test3\n",
      "2  2017  130  400000  300000  test1  test2  test3\n",
      "3  2018  160  550000  480000  test1  test2  test3\n",
      "4  2019  190  700000  600000  test1  test2  test3\n",
      "5  2020  230  680000  590000  test1  test2  test3\n"
     ]
    }
   ],
   "source": [
    "sales_data = {\n",
    " '연도':[2015, 2016, 2017, 2018, 2019, 2020],\n",
    " '판매량':[103, 70, 130, 160, 190, 230],\n",
    " '매출':[500000, 300000, 400000, 550000, 700000, 680000],\n",
    " '순이익':[370000, 190000, 300000, 480000, 600000, 590000]\n",
    "}\n",
    "sales_data = pd.DataFrame(sales_data)\n",
    "sales_data['테스트1'] = 'test1'\n",
    "sales_data['테스트2'] = 'test2'\n",
    "sales_data['테스트3'] = 'test3'\n",
    "print(sales_data)"
   ]
  },
  {
   "cell_type": "code",
   "execution_count": 112,
   "metadata": {},
   "outputs": [
    {
     "name": "stdout",
     "output_type": "stream",
     "text": [
      "     연도  판매량      매출     순이익   테스트2   테스트3\n",
      "0  2015  103  500000  370000  test2  test3\n",
      "1  2016   70  300000  190000  test2  test3\n",
      "2  2017  130  400000  300000  test2  test3\n",
      "3  2018  160  550000  480000  test2  test3\n",
      "4  2019  190  700000  600000  test2  test3\n",
      "5  2020  230  680000  590000  test2  test3\n"
     ]
    }
   ],
   "source": [
    "# del 키워드 사용\n",
    "del sales_data['테스트1']\n",
    "print(sales_data)"
   ]
  },
  {
   "cell_type": "code",
   "execution_count": 107,
   "metadata": {},
   "outputs": [
    {
     "name": "stdout",
     "output_type": "stream",
     "text": [
      "     연도  판매량      매출     순이익   테스트3\n",
      "0  2015  103  500000  370000  test3\n",
      "1  2016   70  300000  190000  test3\n",
      "2  2017  130  400000  300000  test3\n",
      "3  2018  160  550000  480000  test3\n",
      "4  2019  190  700000  600000  test3\n",
      "5  2020  230  680000  590000  test3\n"
     ]
    }
   ],
   "source": [
    "# drop 함수사용, inplace 를 True 로 하여 원본에 적용\n",
    "sales_data.drop(['테스트2'], axis='columns', inplace=True) # 열방향 삭제시 axis = 1도 사용가능\n",
    "# axis = 0 or 'index' 는 행방향 삭제\n",
    "print(sales_data)"
   ]
  },
  {
   "cell_type": "code",
   "execution_count": 108,
   "metadata": {},
   "outputs": [
    {
     "name": "stdout",
     "output_type": "stream",
     "text": [
      "   판매량     순이익   테스트3\n",
      "0  103  370000  test3\n",
      "1   70  190000  test3\n",
      "2  130  300000  test3\n",
      "3  160  480000  test3\n",
      "4  190  600000  test3\n",
      "5  230  590000  test3\n"
     ]
    }
   ],
   "source": [
    "# 팬시를 활용하여 한번에 여러개 지우기\n",
    "sales_data.drop(sales_data.columns[[0, 2]], axis='columns', inplace=True)# 열방향 삭제시 axis = 1도 사용가능\n",
    "# axis = 0 or 'index' 는 행방향 삭제\n",
    "print(sales_data)"
   ]
  },
  {
   "cell_type": "code",
   "execution_count": 109,
   "metadata": {},
   "outputs": [
    {
     "name": "stdout",
     "output_type": "stream",
     "text": [
      "   판매량     순이익   테스트3\n",
      "1   70  190000  test3\n",
      "2  130  300000  test3\n",
      "3  160  480000  test3\n",
      "4  190  600000  test3\n",
      "5  230  590000  test3\n",
      "   판매량     순이익   테스트3\n",
      "1   70  190000  test3\n",
      "2  130  300000  test3\n"
     ]
    }
   ],
   "source": [
    "# 행삭제\n",
    "sales_data.drop(0, inplace=True)\n",
    "print(sales_data)\n",
    "sales_data.drop([3, 4, 5], inplace=True)\n",
    "print(sales_data)"
   ]
  },
  {
   "cell_type": "markdown",
   "metadata": {},
   "source": [
    "# Dataframe Multiindex"
   ]
  },
  {
   "cell_type": "code",
   "execution_count": 113,
   "metadata": {},
   "outputs": [
    {
     "name": "stdout",
     "output_type": "stream",
     "text": [
      "     가가      나나    \n",
      "      가   나   가   나\n",
      "A a  92  85  29   1\n",
      "  b   7  71  99  49\n",
      "B a  68  23   3  14\n",
      "  b  47  95  51  14\n"
     ]
    }
   ],
   "source": [
    "df = pd.DataFrame(np.random.randint(1, 100, size=(4, 4)), index=[['A','A','B','B'],['a','b','a','b']], columns=[['가가','가가','나나','나나'],['가','나','가','나']])\n",
    "print(df)"
   ]
  },
  {
   "cell_type": "code",
   "execution_count": 114,
   "metadata": {},
   "outputs": [
    {
     "data": {
      "text/html": [
       "<div>\n",
       "<style scoped>\n",
       "    .dataframe tbody tr th:only-of-type {\n",
       "        vertical-align: middle;\n",
       "    }\n",
       "\n",
       "    .dataframe tbody tr th {\n",
       "        vertical-align: top;\n",
       "    }\n",
       "\n",
       "    .dataframe thead th {\n",
       "        text-align: right;\n",
       "    }\n",
       "</style>\n",
       "<table border=\"1\" class=\"dataframe\">\n",
       "  <thead>\n",
       "    <tr style=\"text-align: right;\">\n",
       "      <th></th>\n",
       "      <th></th>\n",
       "      <th>가</th>\n",
       "      <th>나</th>\n",
       "    </tr>\n",
       "  </thead>\n",
       "  <tbody>\n",
       "    <tr>\n",
       "      <th rowspan=\"2\" valign=\"top\">A</th>\n",
       "      <th>a</th>\n",
       "      <td>92</td>\n",
       "      <td>85</td>\n",
       "    </tr>\n",
       "    <tr>\n",
       "      <th>b</th>\n",
       "      <td>7</td>\n",
       "      <td>71</td>\n",
       "    </tr>\n",
       "    <tr>\n",
       "      <th rowspan=\"2\" valign=\"top\">B</th>\n",
       "      <th>a</th>\n",
       "      <td>68</td>\n",
       "      <td>23</td>\n",
       "    </tr>\n",
       "    <tr>\n",
       "      <th>b</th>\n",
       "      <td>47</td>\n",
       "      <td>95</td>\n",
       "    </tr>\n",
       "  </tbody>\n",
       "</table>\n",
       "</div>"
      ],
      "text/plain": [
       "      가   나\n",
       "A a  92  85\n",
       "  b   7  71\n",
       "B a  68  23\n",
       "  b  47  95"
      ]
     },
     "execution_count": 114,
     "metadata": {},
     "output_type": "execute_result"
    }
   ],
   "source": [
    "df['가가']"
   ]
  },
  {
   "cell_type": "code",
   "execution_count": 115,
   "metadata": {},
   "outputs": [
    {
     "data": {
      "text/html": [
       "<div>\n",
       "<style scoped>\n",
       "    .dataframe tbody tr th:only-of-type {\n",
       "        vertical-align: middle;\n",
       "    }\n",
       "\n",
       "    .dataframe tbody tr th {\n",
       "        vertical-align: top;\n",
       "    }\n",
       "\n",
       "    .dataframe thead tr th {\n",
       "        text-align: left;\n",
       "    }\n",
       "</style>\n",
       "<table border=\"1\" class=\"dataframe\">\n",
       "  <thead>\n",
       "    <tr>\n",
       "      <th></th>\n",
       "      <th colspan=\"2\" halign=\"left\">가가</th>\n",
       "      <th colspan=\"2\" halign=\"left\">나나</th>\n",
       "    </tr>\n",
       "    <tr>\n",
       "      <th></th>\n",
       "      <th>가</th>\n",
       "      <th>나</th>\n",
       "      <th>가</th>\n",
       "      <th>나</th>\n",
       "    </tr>\n",
       "  </thead>\n",
       "  <tbody>\n",
       "    <tr>\n",
       "      <th>a</th>\n",
       "      <td>92</td>\n",
       "      <td>85</td>\n",
       "      <td>29</td>\n",
       "      <td>1</td>\n",
       "    </tr>\n",
       "    <tr>\n",
       "      <th>b</th>\n",
       "      <td>7</td>\n",
       "      <td>71</td>\n",
       "      <td>99</td>\n",
       "      <td>49</td>\n",
       "    </tr>\n",
       "  </tbody>\n",
       "</table>\n",
       "</div>"
      ],
      "text/plain": [
       "   가가      나나    \n",
       "    가   나   가   나\n",
       "a  92  85  29   1\n",
       "b   7  71  99  49"
      ]
     },
     "execution_count": 115,
     "metadata": {},
     "output_type": "execute_result"
    }
   ],
   "source": [
    "df.loc['A']"
   ]
  },
  {
   "cell_type": "code",
   "execution_count": 118,
   "metadata": {},
   "outputs": [
    {
     "name": "stdout",
     "output_type": "stream",
     "text": [
      "MultiIndex([('A', 'a'),\n",
      "            ('A', 'b'),\n",
      "            ('B', 'a'),\n",
      "            ('B', 'b')],\n",
      "           )\n",
      "MultiIndex([('가가', '가'),\n",
      "            ('가가', '나'),\n",
      "            ('나나', '가'),\n",
      "            ('나나', '나')],\n",
      "           )\n"
     ]
    }
   ],
   "source": [
    "print(df.index)\n",
    "print(df.columns)"
   ]
  },
  {
   "cell_type": "markdown",
   "metadata": {},
   "source": [
    "# GroupBy"
   ]
  },
  {
   "cell_type": "code",
   "execution_count": 120,
   "metadata": {},
   "outputs": [
    {
     "name": "stdout",
     "output_type": "stream",
     "text": [
      "         판매  재고\n",
      "A창고 사과   81  79\n",
      "    배    93  84\n",
      "    바나나  27   5\n",
      "    사과   61  46\n",
      "B창고 사과   57  78\n",
      "    배    74   5\n",
      "    바나나  55  16\n",
      "    배    21  10\n"
     ]
    }
   ],
   "source": [
    "df = pd.DataFrame(np.random.randint(1, 100, size=(8, 2)), index=[['A창고','A창고','A창고','A창고','B창고','B창고','B창고','B창고'], ['사과','배','바나나','사과','사과','배','바나나','배']], columns=['판매','재고'])\n",
    "print(df)"
   ]
  },
  {
   "cell_type": "code",
   "execution_count": 128,
   "metadata": {},
   "outputs": [
    {
     "name": "stdout",
     "output_type": "stream",
     "text": [
      "         판매  재고\n",
      "창고명 상품명        \n",
      "A창고 사과   81  79\n",
      "    배    93  84\n",
      "    바나나  27   5\n",
      "    사과   61  46\n",
      "B창고 사과   57  78\n",
      "    배    74   5\n",
      "    바나나  55  16\n",
      "    배    21  10\n"
     ]
    }
   ],
   "source": [
    "df.index.names = ['창고명','상품명']\n",
    "print(df)"
   ]
  },
  {
   "cell_type": "code",
   "execution_count": 129,
   "metadata": {},
   "outputs": [
    {
     "name": "stdout",
     "output_type": "stream",
     "text": [
      "      판매   재고\n",
      "창고명          \n",
      "A창고  262  214\n",
      "B창고  207  109\n"
     ]
    }
   ],
   "source": [
    "print(df.groupby('창고명').sum())"
   ]
  },
  {
   "cell_type": "code",
   "execution_count": 130,
   "metadata": {},
   "outputs": [
    {
     "name": "stdout",
     "output_type": "stream",
     "text": [
      "      판매   재고\n",
      "상품명          \n",
      "바나나   82   21\n",
      "배    188   99\n",
      "사과   199  203\n"
     ]
    }
   ],
   "source": [
    "print(df.groupby('상품명').sum())"
   ]
  },
  {
   "cell_type": "code",
   "execution_count": 131,
   "metadata": {},
   "outputs": [
    {
     "name": "stdout",
     "output_type": "stream",
     "text": [
      "          판매   재고\n",
      "창고명 상품명          \n",
      "A창고 바나나   27    5\n",
      "    배     93   84\n",
      "    사과   142  125\n",
      "B창고 바나나   55   16\n",
      "    배     95   15\n",
      "    사과    57   78\n"
     ]
    }
   ],
   "source": [
    "print(df.groupby(['창고명','상품명']).sum())"
   ]
  },
  {
   "cell_type": "markdown",
   "metadata": {},
   "source": [
    "# sort_values"
   ]
  },
  {
   "cell_type": "code",
   "execution_count": 132,
   "metadata": {},
   "outputs": [
    {
     "name": "stdout",
     "output_type": "stream",
     "text": [
      "         판매  재고\n",
      "A창고 사과   24  90\n",
      "    배    88  14\n",
      "    바나나  98  11\n",
      "    사과   41  40\n",
      "B창고 사과   68  66\n",
      "    배    49  75\n",
      "    바나나  22  92\n",
      "    배    73   8\n"
     ]
    }
   ],
   "source": [
    "df = pd.DataFrame(np.random.randint(1, 100, size=(8, 2)), index=[['A창고','A창고','A창고','A창고','B창고','B창고','B창고','B창고'], ['사과','배','바나나','사과','사과','배','바나나','배']], columns=['판매','재고'])\n",
    "print(df)"
   ]
  },
  {
   "cell_type": "code",
   "execution_count": 137,
   "metadata": {},
   "outputs": [
    {
     "name": "stdout",
     "output_type": "stream",
     "text": [
      "         판매  재고\n",
      "B창고 바나나  22  92\n",
      "A창고 사과   24  90\n",
      "    사과   41  40\n",
      "B창고 배    49  75\n",
      "    사과   68  66\n",
      "    배    73   8\n",
      "A창고 배    88  14\n",
      "    바나나  98  11\n",
      "\n",
      "         판매  재고\n",
      "A창고 바나나  98  11\n",
      "    배    88  14\n",
      "B창고 배    73   8\n",
      "    사과   68  66\n",
      "    배    49  75\n",
      "A창고 사과   41  40\n",
      "    사과   24  90\n",
      "B창고 바나나  22  92\n"
     ]
    }
   ],
   "source": [
    "print(df.sort_values(by=\"판매\", ascending=True))\n",
    "print()\n",
    "print(df.sort_values(by=\"판매\", ascending=False))"
   ]
  },
  {
   "cell_type": "code",
   "execution_count": 134,
   "metadata": {},
   "outputs": [
    {
     "name": "stdout",
     "output_type": "stream",
     "text": [
      "         판매  재고\n",
      "B창고 바나나  22  92\n",
      "A창고 사과   24  90\n",
      "    사과   41  40\n",
      "B창고 배    49  75\n",
      "    사과   68  66\n",
      "    배    73   8\n",
      "A창고 배    88  14\n",
      "    바나나  98  11\n"
     ]
    }
   ],
   "source": [
    "print(df.sort_values(by=[\"판매\", \"재고\"], ascending=[True, False]))"
   ]
  },
  {
   "cell_type": "markdown",
   "metadata": {},
   "source": [
    "# Matplotlib"
   ]
  },
  {
   "cell_type": "markdown",
   "metadata": {},
   "source": [
    "### 라인그래프 그리기"
   ]
  },
  {
   "cell_type": "code",
   "execution_count": 18,
   "metadata": {},
   "outputs": [
    {
     "data": {
      "image/png": "[encoded data removed]",
      "text/plain": [
       "<Figure size 432x288 with 1 Axes>"
      ]
     },
     "metadata": {
      "needs_background": "light"
     },
     "output_type": "display_data"
    }
   ],
   "source": [
    "import matplotlib.pyplot as plt\n",
    "import numpy as np\n",
    "x = [10, 14, 19, 20, 25]\n",
    "plt.plot(x)\n",
    "plt.show()"
   ]
  },
  {
   "cell_type": "code",
   "execution_count": 17,
   "metadata": {},
   "outputs": [
    {
     "name": "stderr",
     "output_type": "stream",
     "text": [
      "C:\\Users\\minch\\anaconda3\\envs\\abangues\\lib\\site-packages\\matplotlib\\backends\\backend_agg.py:238: RuntimeWarning: Glyph 8722 missing from current font.\n",
      "  font.set_text(s, 0.0, flags=flags)\n",
      "C:\\Users\\minch\\anaconda3\\envs\\abangues\\lib\\site-packages\\matplotlib\\backends\\backend_agg.py:201: RuntimeWarning: Glyph 8722 missing from current font.\n",
      "  font.set_text(s, 0, flags=flags)\n"
     ]
    },
    {
     "data": {
      "image/png": "[encoded data removed]",
      "text/plain": [
       "<Figure size 432x288 with 1 Axes>"
      ]
     },
     "metadata": {
      "needs_background": "light"
     },
     "output_type": "display_data"
    }
   ],
   "source": [
    "x = np.arange(-4.5, 5, 0.5)\n",
    "y = x**2\n",
    "plt.plot(x, y)\n",
    "plt.show()"
   ]
  },
  {
   "cell_type": "markdown",
   "metadata": {},
   "source": [
    "## 한번에 여러그래프 그리기"
   ]
  },
  {
   "cell_type": "code",
   "execution_count": 4,
   "metadata": {},
   "outputs": [
    {
     "data": {
      "image/png": "[encoded data removed]",
      "text/plain": [
       "<Figure size 432x288 with 1 Axes>"
      ]
     },
     "metadata": {
      "needs_background": "light"
     },
     "output_type": "display_data"
    }
   ],
   "source": [
    "x = np.arange(-4.5, 5, 0.5)\n",
    "\n",
    "y1 = x**2\n",
    "y2 = x+30\n",
    "y3 = x**2+10\n",
    "\n",
    "plt.plot(x, y1)\n",
    "plt.plot(x, y2)\n",
    "plt.plot(x, y3)\n",
    "plt.show()"
   ]
  },
  {
   "cell_type": "markdown",
   "metadata": {},
   "source": [
    "## plot 옵션"
   ]
  },
  {
   "cell_type": "code",
   "execution_count": 7,
   "metadata": {},
   "outputs": [
    {
     "data": {
      "image/png": "[encoded data removed]",
      "text/plain": [
       "<Figure size 432x288 with 1 Axes>"
      ]
     },
     "metadata": {
      "needs_background": "light"
     },
     "output_type": "display_data"
    }
   ],
   "source": [
    "x = np.arange(-4.5, 5, 0.5)\n",
    "\n",
    "y1 = x**2\n",
    "y2 = x+30\n",
    "y3 = x**2+10\n",
    "\n",
    "plt.plot(x, y1, color=\"red\", linestyle=\"dashed\")\n",
    "plt.plot(x, y2, \"b:\")\n",
    "plt.plot(x, y3, color=\"#00FF00\", linestyle=\"-.\") \n",
    "plt.show()"
   ]
  },
  {
   "cell_type": "markdown",
   "metadata": {},
   "source": [
    "### 축의범위조정"
   ]
  },
  {
   "cell_type": "code",
   "execution_count": 19,
   "metadata": {},
   "outputs": [
    {
     "name": "stderr",
     "output_type": "stream",
     "text": [
      "C:\\Users\\minch\\anaconda3\\envs\\abangues\\lib\\site-packages\\matplotlib\\backends\\backend_agg.py:238: RuntimeWarning: Glyph 8722 missing from current font.\n",
      "  font.set_text(s, 0.0, flags=flags)\n",
      "C:\\Users\\minch\\anaconda3\\envs\\abangues\\lib\\site-packages\\matplotlib\\backends\\backend_agg.py:201: RuntimeWarning: Glyph 8722 missing from current font.\n",
      "  font.set_text(s, 0, flags=flags)\n"
     ]
    },
    {
     "data": {
      "image/png": "[encoded data removed]",
      "text/plain": [
       "<Figure size 432x288 with 1 Axes>"
      ]
     },
     "metadata": {
      "needs_background": "light"
     },
     "output_type": "display_data"
    }
   ],
   "source": [
    "x = np.linspace(0, 10, 100)\n",
    "y = x ** 2\n",
    "\n",
    "plt.plot(x, y, '--r')\n",
    "#plt.xlim(-20, 30)\n",
    "#plt.ylim(-20, 120)\n",
    "plt.axis([-20, 30, -20, 120])\n",
    "plt.show()"
   ]
  },
  {
   "cell_type": "markdown",
   "metadata": {},
   "source": [
    "### label 과 legend"
   ]
  },
  {
   "cell_type": "code",
   "execution_count": 15,
   "metadata": {},
   "outputs": [
    {
     "data": {
      "image/png": "[encoded data removed]",
      "text/plain": [
       "<Figure size 432x288 with 1 Axes>"
      ]
     },
     "metadata": {
      "needs_background": "light"
     },
     "output_type": "display_data"
    }
   ],
   "source": [
    "# plt.rc('font', family='AppleGothic') # mac\n",
    "plt.rc('font', family='Malgun Gothic') # window\n",
    "\n",
    "x = np.linspace(0, 10, 100)\n",
    "y1 = x ** 2\n",
    "y2 = x ** 3\n",
    "\n",
    "plt.plot(x, y1, 'r', label='라인1')\n",
    "plt.plot(x, y2, 'g', label='라인2')\n",
    "\n",
    "plt.xlabel('x라벨')\n",
    "plt.ylabel('y라벨')\n",
    "\n",
    "# plt.legend(loc=2) # 선 라벨표 위치(그래프 내)\n",
    "plt.legend(bbox_to_anchor=(1.04, 1)) # 선 라벨표 위치(그래프 밖)\n",
    "plt.show()"
   ]
  },
  {
   "cell_type": "markdown",
   "metadata": {},
   "source": [
    "### subplot\n",
    "- 한번에 여러개 차트를 표시, plt.subplot(행열순번)"
   ]
  },
  {
   "cell_type": "code",
   "execution_count": 21,
   "metadata": {},
   "outputs": [
    {
     "data": {
      "image/png": "[encoded data removed]",
      "text/plain": [
       "<Figure size 432x288 with 3 Axes>"
      ]
     },
     "metadata": {
      "needs_background": "light"
     },
     "output_type": "display_data"
    }
   ],
   "source": [
    "plt.subplot(131)\n",
    "plt.plot([1, 2], color='r')\n",
    "\n",
    "plt.subplot(132)\n",
    "plt.plot([1, 2], color='g')\n",
    "\n",
    "plt.subplot(133)\n",
    "plt.plot([1, 2], color='b')\n",
    "\n",
    "plt.show()"
   ]
  },
  {
   "cell_type": "code",
   "execution_count": 23,
   "metadata": {},
   "outputs": [
    {
     "data": {
      "image/png": "[encoded data removed]",
      "text/plain": [
       "<Figure size 432x288 with 4 Axes>"
      ]
     },
     "metadata": {
      "needs_background": "light"
     },
     "output_type": "display_data"
    }
   ],
   "source": [
    "plt.subplot(221)\n",
    "plt.plot([1, 2], color='r')\n",
    "\n",
    "plt.subplot(222)\n",
    "plt.plot([1, 2], color='g')\n",
    "\n",
    "plt.subplot(223)\n",
    "plt.plot([1, 2], color='b')\n",
    "\n",
    "plt.subplot(224)\n",
    "plt.plot([1, 2], color='r')\n",
    "\n",
    "plt.show()"
   ]
  },
  {
   "cell_type": "markdown",
   "metadata": {},
   "source": [
    "###  subplot & gird"
   ]
  },
  {
   "cell_type": "code",
   "execution_count": 29,
   "metadata": {},
   "outputs": [
    {
     "data": {
      "image/png": "[encoded data removed]",
      "text/plain": [
       "<Figure size 360x360 with 5 Axes>"
      ]
     },
     "metadata": {
      "needs_background": "light"
     },
     "output_type": "display_data"
    }
   ],
   "source": [
    "plt.figure(figsize=(5,5)) # 그래프 전체 크기\n",
    "grid = plt.GridSpec(2,3) # GirdSpec(행, 열)\n",
    "\n",
    "plt.subplot(grid[0,0])\n",
    "plt.plot([1,2], color='r')\n",
    "\n",
    "plt.subplot(grid[0,1])\n",
    "plt.plot([1,2], color='g')\n",
    "\n",
    "plt.subplot(grid[0,2])\n",
    "plt.plot([1,2], color='b')\n",
    "\n",
    "plt.subplot(grid[1,:2])\n",
    "plt.plot([1,2], color='b')\n",
    "\n",
    "plt.subplot(grid[1,2])\n",
    "plt.plot([1,2], color='r')\n",
    "\n",
    "plt.show()"
   ]
  },
  {
   "cell_type": "markdown",
   "metadata": {},
   "source": [
    "### Scatter(산점도)"
   ]
  },
  {
   "cell_type": "code",
   "execution_count": 31,
   "metadata": {},
   "outputs": [
    {
     "data": {
      "image/png": "[encoded data removed]",
      "text/plain": [
       "<Figure size 432x288 with 1 Axes>"
      ]
     },
     "metadata": {
      "needs_background": "light"
     },
     "output_type": "display_data"
    }
   ],
   "source": [
    "x = np.random.rand(30)\n",
    "y = np.random.rand(30)\n",
    "a = np.random.rand(30)\n",
    "b = np.random.rand(30)\n",
    "e = np.random.rand(30)\n",
    "f = np.random.rand(30)\n",
    "color = np.random.rand(30)\n",
    "\n",
    "size = 100 * np.random.rand(30)\n",
    "\n",
    "plt.scatter(x, y, s=size, c=color, alpha=0.5, marker='o')\n",
    "plt.scatter(a, b, s=size, c=color, alpha=0.5, marker='^')\n",
    "plt.scatter(e, f, s=size, c=color, alpha=0.5, marker='+')\n",
    "\n",
    "plt.show()"
   ]
  },
  {
   "cell_type": "markdown",
   "metadata": {},
   "source": [
    "### Histogram(히스토그램)"
   ]
  },
  {
   "cell_type": "code",
   "execution_count": 34,
   "metadata": {},
   "outputs": [
    {
     "data": {
      "image/png": "[encoded data removed]",
      "text/plain": [
       "<Figure size 432x288 with 1 Axes>"
      ]
     },
     "metadata": {
      "needs_background": "light"
     },
     "output_type": "display_data"
    }
   ],
   "source": [
    "data = [np.random.randint(1,7) for i in range(10)]\n",
    "plt.hist(data, bins=6, alpha=1)\n",
    "plt.show()"
   ]
  },
  {
   "cell_type": "markdown",
   "metadata": {},
   "source": [
    "### Bar(바차트)"
   ]
  },
  {
   "cell_type": "code",
   "execution_count": 36,
   "metadata": {},
   "outputs": [
    {
     "data": {
      "image/png": "[encoded data removed]",
      "text/plain": [
       "<Figure size 432x288 with 1 Axes>"
      ]
     },
     "metadata": {
      "needs_background": "light"
     },
     "output_type": "display_data"
    },
    {
     "data": {
      "image/png": "[encoded data removed]",
      "text/plain": [
       "<Figure size 432x288 with 1 Axes>"
      ]
     },
     "metadata": {
      "needs_background": "light"
     },
     "output_type": "display_data"
    }
   ],
   "source": [
    "#가로 그래프\n",
    "plt.bar(['10대', '20대', '30대', '40대', '50대'], [np.random.randint(1,50) for i in range(5)])\n",
    "\n",
    "plt.title('제목')\n",
    "plt.xlabel('나이')\n",
    "plt.ylabel('값')\n",
    "plt.show()\n",
    "# 세로 그래프\n",
    "plt.barh(['10대', '20대', '30대', '40대', '50대'], [np.random.randint(1,50) for i in range(5)])\n",
    "\n",
    "plt.title('제목')\n",
    "plt.xlabel('나이')\n",
    "plt.ylabel('값')\n",
    "plt.show()"
   ]
  },
  {
   "cell_type": "markdown",
   "metadata": {},
   "source": [
    "# 실습 01 (타이타닉 생존자체크)"
   ]
  },
  {
   "cell_type": "code",
   "execution_count": 48,
   "metadata": {},
   "outputs": [
    {
     "data": {
      "image/png": "[encoded data removed]",
      "text/plain": [
       "<Figure size 864x288 with 2 Axes>"
      ]
     },
     "metadata": {
      "needs_background": "light"
     },
     "output_type": "display_data"
    }
   ],
   "source": [
    "def age_process(n):\n",
    "    if n >= 70:\n",
    "        return '노인'\n",
    "    elif n >= 60:\n",
    "        return '60대'\n",
    "    elif n >= 50:\n",
    "        return '50대'\n",
    "    elif n >= 40:\n",
    "        return '40대'\n",
    "    elif n >= 30:\n",
    "        return '30대'\n",
    "    elif n >= 20:\n",
    "        return '20대'\n",
    "    elif n >= 10:\n",
    "        return '10대'\n",
    "    else :\n",
    "        return '유아'\n",
    "    \n",
    "# 파일 로드\n",
    "import pandas as pd\n",
    "file_name = 'titanic_train.csv'\n",
    "file_path = './data/'\n",
    "titanic_data = pd.read_csv(file_path+file_name, index_col='PassengerId', header=0, sep=',')\n",
    "\n",
    "titanic_data['Age'] = titanic_data['Age'].fillna(titanic_data['Age'].mean())\n",
    "titanic_data['Age_Range'] = titanic_data['Age'].apply(age_process)\n",
    "# titanic_data['Cabin'] = titanic_data['Cabin'].fillna('N')\n",
    "# titanic_data['Embarked'] = titanic_data['Embarked'].fillna('N')\n",
    "\n",
    "age_list=[i for i in range(-1, 8)]\n",
    "x = [titanic_data.groupby('Age_Range').sum()['Survived'].index[i] for i in age_list]\n",
    "y = [titanic_data.groupby('Age_Range').sum()['Survived'].values[i] for i in age_list]\n",
    "\n",
    "plt.figure(figsize=(12,4)) # 그래프 전체 크기\n",
    "grid = plt.GridSpec(1,2) # GirdSpec(행, 열)\n",
    "plt.rc('font', family='Malgun Gothic') \n",
    "\n",
    "plt.subplot(grid[0,0])\n",
    "plt.bar(x, y, color ='g')\n",
    "plt.title('나이대별 타이타닉 생존자')\n",
    "plt.xlabel('나이')\n",
    "plt.ylabel('생존자')\n",
    "\n",
    "plt.subplot(grid[0,1])\n",
    "plt.bar(titanic_data.groupby('Sex').sum()['Survived'].index, titanic_data.groupby('Sex').sum()['Survived'].values, color ='g')\n",
    "plt.rc('font', family='Malgun Gothic') \n",
    "plt.title('성별별 타이타닉 생존자')\n",
    "plt.xlabel('성별')\n",
    "plt.ylabel('생존자')\n",
    "\n",
    "plt.show()"
   ]
  },
  {
   "cell_type": "code",
   "execution_count": 49,
   "metadata": {},
   "outputs": [
    {
     "data": {
      "image/png": "[encoded data removed]",
      "text/plain": [
       "<Figure size 864x432 with 2 Axes>"
      ]
     },
     "metadata": {
      "needs_background": "light"
     },
     "output_type": "display_data"
    }
   ],
   "source": [
    "import pandas as pd\n",
    "import matplotlib.pyplot as plt\n",
    "import numpy as np\n",
    "\n",
    "daily_data = pd.read_csv('./data/kr_daily.csv', index_col=False, header=0, sep=',')\n",
    "x = [str(i)[:10] for i in pd.date_range(start='2020-05-18', end='2020-06-01')]\n",
    "confirmed_list = daily_data[daily_data['date']>20200517]['confirmed']\n",
    "death_list = daily_data[daily_data['date']>20200517]['death']\n",
    "\n",
    "plt.figure(figsize=(12,6)) # 그래프 전체 크기\n",
    "grid = plt.GridSpec(1,2) # GirdSpec(행, 열)\n",
    "plt.rc('font', family='Malgun Gothic') \n",
    "\n",
    "plt.subplot(grid[0,0])\n",
    "plt.plot(x, confirmed_list, color='r', linestyle='dotted')\n",
    "plt.xticks(rotation = x_text_rotation)\n",
    "plt.ylim(11050,11550)\n",
    "plt.title('확진자')\n",
    "\n",
    "plt.subplot(grid[0,1:])\n",
    "plt.bar(x, death_list, color ='r')\n",
    "plt.xticks(rotation = x_text_rotation)\n",
    "plt.ylim(0,275)\n",
    "plt.title('사망자')\n",
    "\n",
    "plt.show()\n"
   ]
  },
  {
   "cell_type": "code",
   "execution_count": null,
   "metadata": {},
   "outputs": [],
   "source": []
  }
 ],
 "metadata": {
  "kernelspec": {
   "display_name": "Python 3",
   "language": "python",
   "name": "python3"
  },
  "language_info": {
   "codemirror_mode": {
    "name": "ipython",
    "version": 3
   },
   "file_extension": ".py",
   "mimetype": "text/x-python",
   "name": "python",
   "nbconvert_exporter": "python",
   "pygments_lexer": "ipython3",
   "version": "3.7.9"
  }
 },
 "nbformat": 4,
 "nbformat_minor": 4
}
