{
 "cells": [
  {
   "cell_type": "markdown",
   "metadata": {},
   "source": [
    "# 1번 실습"
   ]
  },
  {
   "cell_type": "code",
   "execution_count": 22,
   "metadata": {},
   "outputs": [
    {
     "data": {
      "text/plain": [
       "[30, 60, 90, 200, -70, 50]"
      ]
     },
     "execution_count": 22,
     "metadata": {},
     "output_type": "execute_result"
    }
   ],
   "source": [
    "# (1)\n",
    "x = [3,6,9,20,-7,5]\n",
    "for i in range(len(x)):\n",
    "    x[i] = x[i]*10\n",
    "x"
   ]
  },
  {
   "cell_type": "code",
   "execution_count": null,
   "metadata": {},
   "outputs": [],
   "source": [
    "# (2)\n",
    "y = {\"math\":70,\"science\":80,\"english\":20}\n",
    "for i in y:\n",
    "    y[i] += 10\n",
    "print(y)"
   ]
  },
  {
   "cell_type": "code",
   "execution_count": 41,
   "metadata": {},
   "outputs": [
    {
     "name": "stdout",
     "output_type": "stream",
     "text": [
      "몇단을 출력하시겠습니까?9\n",
      "9 * 1 = 9\n",
      "9 * 2 = 18\n",
      "9 * 3 = 27\n",
      "9 * 4 = 36\n",
      "9 * 5 = 45\n",
      "9 * 6 = 54\n",
      "9 * 7 = 63\n",
      "9 * 8 = 72\n",
      "9 * 9 = 81\n"
     ]
    }
   ],
   "source": [
    "# (3)\n",
    "try_n = int(input(\"몇단을 출력하시겠습니까?\"))\n",
    "for i in range(1,10):\n",
    "    print(\"%d * %d = %d\" %(try_n, i, try_n*i))"
   ]
  },
  {
   "cell_type": "markdown",
   "metadata": {},
   "source": [
    "# 2번 실습"
   ]
  },
  {
   "cell_type": "code",
   "execution_count": null,
   "metadata": {},
   "outputs": [],
   "source": [
    "# (1)\n",
    "words = [\"school\", \"game\", \"piano\", \"science\", \"hotel\", \"mountain\"]\n",
    "result_4_1 = []\n",
    "for i in words:\n",
    "    if len(i) > 5:\n",
    "        result_4_1.append(i)\n",
    "    else: pass\n",
    "result_4_1"
   ]
  },
  {
   "cell_type": "code",
   "execution_count": 42,
   "metadata": {},
   "outputs": [
    {
     "name": "stdout",
     "output_type": "stream",
     "text": [
      "1 * 1 = 1\t1 * 2 = 2\t1 * 3 = 3\t1 * 4 = 4\t1 * 5 = 5\t1 * 6 = 6\t1 * 7 = 7\t1 * 8 = 8\t1 * 9 = 9\t\n",
      "\n",
      "2 * 1 = 2\t2 * 2 = 4\t2 * 3 = 6\t2 * 4 = 8\t2 * 5 = 10\t2 * 6 = 12\t2 * 7 = 14\t2 * 8 = 16\t2 * 9 = 18\t\n",
      "\n",
      "3 * 1 = 3\t3 * 2 = 6\t3 * 3 = 9\t3 * 4 = 12\t3 * 5 = 15\t3 * 6 = 18\t3 * 7 = 21\t3 * 8 = 24\t3 * 9 = 27\t\n",
      "\n",
      "4 * 1 = 4\t4 * 2 = 8\t4 * 3 = 12\t4 * 4 = 16\t4 * 5 = 20\t4 * 6 = 24\t4 * 7 = 28\t4 * 8 = 32\t4 * 9 = 36\t\n",
      "\n",
      "5 * 1 = 5\t5 * 2 = 10\t5 * 3 = 15\t5 * 4 = 20\t5 * 5 = 25\t5 * 6 = 30\t5 * 7 = 35\t5 * 8 = 40\t5 * 9 = 45\t\n",
      "\n",
      "6 * 1 = 6\t6 * 2 = 12\t6 * 3 = 18\t6 * 4 = 24\t6 * 5 = 30\t6 * 6 = 36\t6 * 7 = 42\t6 * 8 = 48\t6 * 9 = 54\t\n",
      "\n",
      "7 * 1 = 7\t7 * 2 = 14\t7 * 3 = 21\t7 * 4 = 28\t7 * 5 = 35\t7 * 6 = 42\t7 * 7 = 49\t7 * 8 = 56\t7 * 9 = 63\t\n",
      "\n",
      "8 * 1 = 8\t8 * 2 = 16\t8 * 3 = 24\t8 * 4 = 32\t8 * 5 = 40\t8 * 6 = 48\t8 * 7 = 56\t8 * 8 = 64\t8 * 9 = 72\t\n",
      "\n",
      "9 * 1 = 9\t9 * 2 = 18\t9 * 3 = 27\t9 * 4 = 36\t9 * 5 = 45\t9 * 6 = 54\t9 * 7 = 63\t9 * 8 = 72\t9 * 9 = 81\t\n",
      "\n"
     ]
    }
   ],
   "source": [
    "# (2)\n",
    "for i in range(1,10):\n",
    "    for j in range(1,10):\n",
    "        print(\"%d * %d = %d\" %(i,j,i*j), end = \"\\t\")\n",
    "    print('\\n')"
   ]
  },
  {
   "cell_type": "markdown",
   "metadata": {},
   "source": [
    "# 3번 실습"
   ]
  },
  {
   "cell_type": "code",
   "execution_count": 22,
   "metadata": {},
   "outputs": [
    {
     "name": "stdout",
     "output_type": "stream",
     "text": [
      "[528, 122, 891, 72, 366, 700, 518, 304, 98, 220, 268, 806, 888, 728, 53, 114, 199, 2, 261, 105]\n"
     ]
    }
   ],
   "source": [
    "import random\n",
    "tmp_list = []\n",
    "for i in range(20):\n",
    "    tmp_list.append(random.randint(1,1000))\n",
    "list(set(tmp_list))\n",
    "print(tmp_list)\n",
    "\n",
    "target = tmp_list"
   ]
  },
  {
   "cell_type": "code",
   "execution_count": 26,
   "metadata": {},
   "outputs": [
    {
     "name": "stdout",
     "output_type": "stream",
     "text": [
      "[-7, 3, 5, 6, 9, 20]\n"
     ]
    }
   ],
   "source": [
    "target = [3,6,9,20,-7,5]\n",
    "#target = [5,4,3,2,1]\n",
    "for i in range(len(target)-1):\n",
    "    temp = 0\n",
    "    for j in range(i+1,len(target)):\n",
    "        if i == j:\n",
    "            pass\n",
    "        else: \n",
    "            if target[i] > target[j]:\n",
    "                target[j], target[i] = target[i], target[j]\n",
    "                # temp = target[j]\n",
    "                # target[j] = target[i]\n",
    "                # target[i] = temp\n",
    "\n",
    "print(target)"
   ]
  },
  {
   "cell_type": "code",
   "execution_count": null,
   "metadata": {},
   "outputs": [],
   "source": [
    "# (2)\n",
    "for i in range(1,101):\n",
    "    if i % 3 == 0:\n",
    "        if i % 5 == 0:\n",
    "            print(\"3과 5의 공배수\")\n",
    "        else :\n",
    "            print(\"3의 배수\")\n",
    "    elif i % 5 == 0:\n",
    "        print(\"5의 배수\")\n",
    "    else :\n",
    "        print(i)"
   ]
  },
  {
   "cell_type": "markdown",
   "metadata": {},
   "source": [
    "# 4번 실습"
   ]
  },
  {
   "cell_type": "code",
   "execution_count": null,
   "metadata": {},
   "outputs": [],
   "source": [
    "# (1)\n",
    "num_sum = 0\n",
    "user_input = 1\n",
    "while user_input != 0:\n",
    "    user_input = int(input(\"값을 입력해주세요\"))\n",
    "    num_sum += user_input\n",
    "print(\"합계는? %d\"%num_sum)"
   ]
  },
  {
   "cell_type": "code",
   "execution_count": null,
   "metadata": {},
   "outputs": [],
   "source": [
    "### (2)\n",
    "import random\n",
    "t = True\n",
    "total_try = 0\n",
    "win_rate = 0\n",
    "while t:\n",
    "    user_input = int(input(\"가위(1), 바위(2), 보(3) 을 입력해주세요 : \"))\n",
    "    computer_select = random.randint(1,3)\n",
    "    if user_input == 1:\n",
    "        if computer_select == 1:\n",
    "            print(\"유저 : 가위,컴퓨터 : 가위\")\n",
    "        elif computer_select== 2:\n",
    "            print(\"유저 : 가위,컴퓨터 : 바위\")\n",
    "        elif computer_select == 3:\n",
    "            print(\"유저 : 가위,컴퓨터 : 보\")\n",
    "            win_rate += 1\n",
    "    elif user_input == 2:\n",
    "        if computer_select == 1:\n",
    "            print(\"유저 : 바위,컴퓨터 : 가위\")\n",
    "            win_rate += 1\n",
    "        elif computer_select== 2:\n",
    "            print(\"유저 : 바위,컴퓨터 : 바위\")\n",
    "        elif computer_select == 3:\n",
    "            print(\"유저 : 바위,컴퓨터 : 보\")\n",
    "    elif user_input == 3:\n",
    "        if computer_select == 1:\n",
    "            print(\"유저 : 보,컴퓨터 : 가위\")\n",
    "        elif computer_select== 2:\n",
    "            print(\"유저 : 보,컴퓨터 : 바위\")\n",
    "            win_rate += 1\n",
    "        elif computer_select == 3:\n",
    "            print(\"유저 : 보,컴퓨터 : 보\")\n",
    "    else :\n",
    "        print(\"게임종료 (전체: %d, 승리: %d)\" %(total_try, win_rate))\n",
    "        t = False\n",
    "    \n",
    "    total_try += 1"
   ]
  },
  {
   "cell_type": "code",
   "execution_count": 19,
   "metadata": {},
   "outputs": [
    {
     "name": "stdout",
     "output_type": "stream",
     "text": [
      "가위(1), 바위(2), 보(3) 을 입력해주세요 : 1\n",
      "유저 : 가위, 컴퓨터 : 보\n",
      "가위(1), 바위(2), 보(3) 을 입력해주세요 : 2\n",
      "유저 : 바위, 컴퓨터 : 보\n",
      "가위(1), 바위(2), 보(3) 을 입력해주세요 : 3\n",
      "유저 : 보, 컴퓨터 : 가위\n",
      "가위(1), 바위(2), 보(3) 을 입력해주세요 : 1\n",
      "유저 : 가위, 컴퓨터 : 보\n",
      "가위(1), 바위(2), 보(3) 을 입력해주세요 : 2\n",
      "유저 : 바위, 컴퓨터 : 바위\n",
      "가위(1), 바위(2), 보(3) 을 입력해주세요 : 3\n",
      "유저 : 보, 컴퓨터 : 보\n",
      "가위(1), 바위(2), 보(3) 을 입력해주세요 : 1\n",
      "유저 : 가위, 컴퓨터 : 가위\n",
      "가위(1), 바위(2), 보(3) 을 입력해주세요 : 2\n",
      "유저 : 바위, 컴퓨터 : 바위\n",
      "가위(1), 바위(2), 보(3) 을 입력해주세요 : 3\n",
      "유저 : 보, 컴퓨터 : 가위\n",
      "가위(1), 바위(2), 보(3) 을 입력해주세요 : 1\n",
      "유저 : 가위, 컴퓨터 : 가위\n",
      "가위(1), 바위(2), 보(3) 을 입력해주세요 : 2\n",
      "유저 : 바위, 컴퓨터 : 보\n",
      "가위(1), 바위(2), 보(3) 을 입력해주세요 : 3\n",
      "유저 : 보, 컴퓨터 : 바위\n",
      "가위(1), 바위(2), 보(3) 을 입력해주세요 : 1\n",
      "유저 : 가위, 컴퓨터 : 바위\n",
      "가위(1), 바위(2), 보(3) 을 입력해주세요 : 2\n",
      "유저 : 바위, 컴퓨터 : 가위\n",
      "가위(1), 바위(2), 보(3) 을 입력해주세요 : 3\n",
      "유저 : 보, 컴퓨터 : 보\n",
      "가위(1), 바위(2), 보(3) 을 입력해주세요 : 1\n",
      "유저 : 가위, 컴퓨터 : 바위\n",
      "가위(1), 바위(2), 보(3) 을 입력해주세요 : 2\n",
      "유저 : 바위, 컴퓨터 : 가위\n",
      "가위(1), 바위(2), 보(3) 을 입력해주세요 : 3\n",
      "유저 : 보, 컴퓨터 : 바위\n",
      "가위(1), 바위(2), 보(3) 을 입력해주세요 : 1\n",
      "유저 : 가위, 컴퓨터 : 가위\n",
      "가위(1), 바위(2), 보(3) 을 입력해주세요 : 2\n",
      "유저 : 바위, 컴퓨터 : 가위\n",
      "가위(1), 바위(2), 보(3) 을 입력해주세요 : 3\n",
      "유저 : 보, 컴퓨터 : 보\n",
      "가위(1), 바위(2), 보(3) 을 입력해주세요 : 1\n",
      "유저 : 가위, 컴퓨터 : 바위\n",
      "가위(1), 바위(2), 보(3) 을 입력해주세요 : 2\n",
      "유저 : 바위, 컴퓨터 : 보\n",
      "가위(1), 바위(2), 보(3) 을 입력해주세요 : 3\n",
      "유저 : 보, 컴퓨터 : 바위\n",
      "가위(1), 바위(2), 보(3) 을 입력해주세요 : 1\n",
      "유저 : 가위, 컴퓨터 : 가위\n",
      "가위(1), 바위(2), 보(3) 을 입력해주세요 : 2\n",
      "유저 : 바위, 컴퓨터 : 바위\n",
      "가위(1), 바위(2), 보(3) 을 입력해주세요 : 3\n",
      "유저 : 보, 컴퓨터 : 보\n",
      "가위(1), 바위(2), 보(3) 을 입력해주세요 : 1\n",
      "유저 : 가위, 컴퓨터 : 보\n",
      "가위(1), 바위(2), 보(3) 을 입력해주세요 : 2\n",
      "유저 : 바위, 컴퓨터 : 보\n",
      "가위(1), 바위(2), 보(3) 을 입력해주세요 : 3\n",
      "유저 : 보, 컴퓨터 : 바위\n",
      "가위(1), 바위(2), 보(3) 을 입력해주세요 : 1\n",
      "유저 : 가위, 컴퓨터 : 바위\n",
      "가위(1), 바위(2), 보(3) 을 입력해주세요 : 2\n",
      "유저 : 바위, 컴퓨터 : 가위\n",
      "가위(1), 바위(2), 보(3) 을 입력해주세요 : 3\n",
      "유저 : 보, 컴퓨터 : 바위\n",
      "가위(1), 바위(2), 보(3) 을 입력해주세요 : 1\n",
      "유저 : 가위, 컴퓨터 : 가위\n",
      "가위(1), 바위(2), 보(3) 을 입력해주세요 : 2\n",
      "유저 : 바위, 컴퓨터 : 보\n",
      "가위(1), 바위(2), 보(3) 을 입력해주세요 : 3\n",
      "유저 : 보, 컴퓨터 : 보\n",
      "가위(1), 바위(2), 보(3) 을 입력해주세요 : 1\n",
      "유저 : 가위, 컴퓨터 : 바위\n",
      "가위(1), 바위(2), 보(3) 을 입력해주세요 : 2\n",
      "유저 : 바위, 컴퓨터 : 보\n",
      "가위(1), 바위(2), 보(3) 을 입력해주세요 : 3\n",
      "유저 : 보, 컴퓨터 : 바위\n",
      "가위(1), 바위(2), 보(3) 을 입력해주세요 : 1\n",
      "유저 : 가위, 컴퓨터 : 바위\n",
      "가위(1), 바위(2), 보(3) 을 입력해주세요 : 2\n",
      "유저 : 바위, 컴퓨터 : 보\n",
      "가위(1), 바위(2), 보(3) 을 입력해주세요 : 3\n",
      "유저 : 보, 컴퓨터 : 가위\n",
      "가위(1), 바위(2), 보(3) 을 입력해주세요 : 1\n",
      "유저 : 가위, 컴퓨터 : 바위\n",
      "가위(1), 바위(2), 보(3) 을 입력해주세요 : 2\n",
      "유저 : 바위, 컴퓨터 : 바위\n",
      "가위(1), 바위(2), 보(3) 을 입력해주세요 : 3\n",
      "유저 : 보, 컴퓨터 : 보\n",
      "가위(1), 바위(2), 보(3) 을 입력해주세요 : 1\n",
      "유저 : 가위, 컴퓨터 : 바위\n",
      "가위(1), 바위(2), 보(3) 을 입력해주세요 : 2\n",
      "유저 : 바위, 컴퓨터 : 가위\n",
      "가위(1), 바위(2), 보(3) 을 입력해주세요 : 3\n",
      "유저 : 보, 컴퓨터 : 보\n",
      "가위(1), 바위(2), 보(3) 을 입력해주세요 : 1\n",
      "유저 : 가위, 컴퓨터 : 보\n",
      "가위(1), 바위(2), 보(3) 을 입력해주세요 : 2\n",
      "유저 : 바위, 컴퓨터 : 바위\n",
      "가위(1), 바위(2), 보(3) 을 입력해주세요 : 3\n",
      "유저 : 보, 컴퓨터 : 보\n",
      "가위(1), 바위(2), 보(3) 을 입력해주세요 : 1\n",
      "유저 : 가위, 컴퓨터 : 가위\n",
      "가위(1), 바위(2), 보(3) 을 입력해주세요 : 2\n",
      "유저 : 바위, 컴퓨터 : 보\n",
      "가위(1), 바위(2), 보(3) 을 입력해주세요 : 3\n",
      "유저 : 보, 컴퓨터 : 바위\n",
      "가위(1), 바위(2), 보(3) 을 입력해주세요 : 1\n",
      "유저 : 가위, 컴퓨터 : 바위\n",
      "가위(1), 바위(2), 보(3) 을 입력해주세요 : 2\n",
      "유저 : 바위, 컴퓨터 : 가위\n",
      "가위(1), 바위(2), 보(3) 을 입력해주세요 : 3\n",
      "유저 : 보, 컴퓨터 : 가위\n",
      "가위(1), 바위(2), 보(3) 을 입력해주세요 : 1\n",
      "유저 : 가위, 컴퓨터 : 바위\n",
      "가위(1), 바위(2), 보(3) 을 입력해주세요 : 2\n",
      "유저 : 바위, 컴퓨터 : 보\n",
      "가위(1), 바위(2), 보(3) 을 입력해주세요 : 3\n",
      "유저 : 보, 컴퓨터 : 가위\n",
      "가위(1), 바위(2), 보(3) 을 입력해주세요 : 1\n",
      "유저 : 가위, 컴퓨터 : 가위\n",
      "가위(1), 바위(2), 보(3) 을 입력해주세요 : 3\n",
      "유저 : 보, 컴퓨터 : 가위\n",
      "가위(1), 바위(2), 보(3) 을 입력해주세요 : 2\n",
      "유저 : 바위, 컴퓨터 : 보\n",
      "가위(1), 바위(2), 보(3) 을 입력해주세요 : 2\n",
      "유저 : 바위, 컴퓨터 : 가위\n",
      "가위(1), 바위(2), 보(3) 을 입력해주세요 : 3\n",
      "유저 : 보, 컴퓨터 : 보\n",
      "가위(1), 바위(2), 보(3) 을 입력해주세요 : 2\n",
      "유저 : 바위, 컴퓨터 : 바위\n",
      "가위(1), 바위(2), 보(3) 을 입력해주세요 : 1\n",
      "유저 : 가위, 컴퓨터 : 가위\n",
      "가위(1), 바위(2), 보(3) 을 입력해주세요 : 2\n",
      "유저 : 바위, 컴퓨터 : 바위\n",
      "가위(1), 바위(2), 보(3) 을 입력해주세요 : 3\n",
      "유저 : 보, 컴퓨터 : 보\n",
      "가위(1), 바위(2), 보(3) 을 입력해주세요 : 1\n",
      "유저 : 가위, 컴퓨터 : 보\n",
      "가위(1), 바위(2), 보(3) 을 입력해주세요 : 2\n",
      "유저 : 바위, 컴퓨터 : 보\n",
      "가위(1), 바위(2), 보(3) 을 입력해주세요 : 3\n",
      "유저 : 보, 컴퓨터 : 보\n",
      "가위(1), 바위(2), 보(3) 을 입력해주세요 : 1\n",
      "유저 : 가위, 컴퓨터 : 가위\n",
      "가위(1), 바위(2), 보(3) 을 입력해주세요 : 2\n",
      "유저 : 바위, 컴퓨터 : 보\n",
      "가위(1), 바위(2), 보(3) 을 입력해주세요 : 3\n",
      "유저 : 보, 컴퓨터 : 바위\n",
      "가위(1), 바위(2), 보(3) 을 입력해주세요 : 1\n",
      "유저 : 가위, 컴퓨터 : 가위\n",
      "가위(1), 바위(2), 보(3) 을 입력해주세요 : 2\n",
      "유저 : 바위, 컴퓨터 : 보\n",
      "가위(1), 바위(2), 보(3) 을 입력해주세요 : 3\n",
      "유저 : 보, 컴퓨터 : 가위\n",
      "가위(1), 바위(2), 보(3) 을 입력해주세요 : 1\n",
      "유저 : 가위, 컴퓨터 : 가위\n",
      "가위(1), 바위(2), 보(3) 을 입력해주세요 : 2\n",
      "유저 : 바위, 컴퓨터 : 보\n",
      "가위(1), 바위(2), 보(3) 을 입력해주세요 : 3\n",
      "유저 : 보, 컴퓨터 : 가위\n",
      "가위(1), 바위(2), 보(3) 을 입력해주세요 : 1\n",
      "유저 : 가위, 컴퓨터 : 바위\n",
      "가위(1), 바위(2), 보(3) 을 입력해주세요 : 5\n",
      "게임종료 (전체: 82, 승리: 20)\n"
     ]
    }
   ],
   "source": [
    "### (2)\n",
    "import random\n",
    "skill_name = {1:'가위', 2:'바위', 3:'보'}\n",
    "user_input = 1\n",
    "total_try = 0\n",
    "win_rate = 0\n",
    "\n",
    "while user_input in list(skill_name.keys()):\n",
    "    user_input = int(input(\"가위(1), 바위(2), 보(3) 을 입력해주세요 : \"))\n",
    "    computer_select = random.randint(1,3)\n",
    "    if user_input in list(skill_name.keys()):\n",
    "        total_try += 1\n",
    "        if user_input == 1 and computer_select == 3:\n",
    "            win_rate += 1\n",
    "        elif user_input == 2 and computer_select == 1:\n",
    "            win_rate += 1    \n",
    "        elif user_input == 3 and computer_select== 2:\n",
    "            win_rate += 1\n",
    "        print(\"유저 : \"+skill_name[user_input]+\", 컴퓨터 : \"+skill_name[computer_select])\n",
    "    else :\n",
    "        pass\n",
    "print(\"게임종료 (전체: %d, 승리: %d)\" %(total_try, win_rate))\n",
    "    \n",
    "    "
   ]
  },
  {
   "cell_type": "markdown",
   "metadata": {},
   "source": [
    "# 5번 실습"
   ]
  },
  {
   "cell_type": "markdown",
   "metadata": {},
   "source": [
    "### (1)\n",
    "아래 예시코드의 while문을 완성하여 사용자가 입력한 숫자만큼 출력해주세요. (break 사용)\n",
    "```Python\n",
    "user = int(input(\"숫자를 입력하세요\"))\n",
    "cnt = 0\n",
    "while True:\n",
    "    (여기 코드를 완성해 주세요)\n",
    "```\n",
    "실행 : \n",
    "숫자를 입력하세요 : **20**\n",
    "0\n",
    "1\n",
    "...\n",
    "19\n",
    "20"
   ]
  },
  {
   "cell_type": "code",
   "execution_count": null,
   "metadata": {
    "scrolled": false
   },
   "outputs": [],
   "source": [
    "user = int(input(\"숫자를 입력하세요\"))\n",
    "cnt = 0\n",
    "while True:\n",
    "    if cnt == 21:\n",
    "        break\n",
    "    else :\n",
    "        print(cnt)\n",
    "        cnt = cnt + 1\n",
    "        # cnt += 1"
   ]
  },
  {
   "cell_type": "markdown",
   "metadata": {},
   "source": [
    "### (2)\n",
    "아래 예시코드의 while문을 완성하여 사용자가 입력한 숫자만큼 출력해주세요. (continue 사용)\n",
    "```Python\n",
    "user = int(input(\"숫자를 입력하세요\"))\n",
    "for i in range(user+1):\n",
    "    (여기 코드를 완성해 주세요)\n",
    "    print(i)\n",
    "```\n",
    "실행 : \n",
    "숫자를 입력하세요 : **20**\n",
    "0\n",
    "2\n",
    "...\n",
    "14\n",
    "16\n",
    "18\n",
    "20"
   ]
  },
  {
   "cell_type": "code",
   "execution_count": null,
   "metadata": {},
   "outputs": [],
   "source": [
    "user = int(input(\"숫자를 입력하세요\"))\n",
    "for i in range(user+1):\n",
    "    if i%2 == 1:\n",
    "        continue\n",
    "    print(i)"
   ]
  }
 ],
 "metadata": {
  "kernelspec": {
   "display_name": "Python 3",
   "language": "python",
   "name": "python3"
  },
  "language_info": {
   "codemirror_mode": {
    "name": "ipython",
    "version": 3
   },
   "file_extension": ".py",
   "mimetype": "text/x-python",
   "name": "python",
   "nbconvert_exporter": "python",
   "pygments_lexer": "ipython3",
   "version": "3.7.9"
  }
 },
 "nbformat": 4,
 "nbformat_minor": 4
}
