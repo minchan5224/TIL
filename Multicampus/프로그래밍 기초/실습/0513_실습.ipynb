{
 "cells": [
  {
   "cell_type": "markdown",
   "metadata": {},
   "source": [
    "# 1번 실습"
   ]
  },
  {
   "cell_type": "markdown",
   "metadata": {},
   "source": [
    "### (1)\n",
    "word = [\"school\", \"game\", \"piano\", \"science\", \"hotel\", \"mountain\"] 중 \n",
    "<br>글자수가 6글자 이상인 문자를 모아 새로운 리스트를 생성하세요 \n",
    "<br>(리스트 컴프리핸션 사용)"
   ]
  },
  {
   "cell_type": "code",
   "execution_count": null,
   "metadata": {},
   "outputs": [],
   "source": [
    "word = [\"school\", \"game\", \"piano\", \"science\", \"hotel\", \"mountain\"]\n",
    "new_word_1 = [i for i in word if len(i)>5]\n",
    "print(new_word_1)"
   ]
  },
  {
   "cell_type": "markdown",
   "metadata": {},
   "source": [
    "### (2)\n",
    "word = [\"school\", \"game\", \"piano\", \"science\", \"hotel\", \"mountain\"] \n",
    "<br>리스트의 글자수가 들어갔는 새로운 리스트를 생성하세요\n",
    "<br>(리스트 컴프리핸션 사용)"
   ]
  },
  {
   "cell_type": "code",
   "execution_count": null,
   "metadata": {},
   "outputs": [],
   "source": [
    "word = [\"school\", \"game\", \"piano\", \"science\", \"hotel\", \"mountain\"]\n",
    "new_word_2 = [len(i) for i in word]\n",
    "print(new_word_2)"
   ]
  },
  {
   "cell_type": "markdown",
   "metadata": {},
   "source": [
    "# 2번 실습"
   ]
  },
  {
   "cell_type": "markdown",
   "metadata": {},
   "source": [
    "### (1)\n",
    "아래 두 리스트를 곱해 새로운 리스트 c를 만드세요\n",
    "<br>a = [[10,20],[30,40],[50,60]]\n",
    "<br>b = [[2,3],[4,5],[6,7]]"
   ]
  },
  {
   "cell_type": "code",
   "execution_count": null,
   "metadata": {},
   "outputs": [],
   "source": [
    "a = [[10,20],[30,40],[50,60]]\n",
    "b = [[2,3],[4,5],[6,7]]\n",
    "c = []\n",
    "c1 = []\n",
    "for a_l, b_l in zip(a,b):\n",
    "    temp = []\n",
    "    for i, j in zip(a_l, b_l):\n",
    "        temp.append(i*j)\n",
    "    c.append(temp)\n",
    "print(c)\n",
    "\n",
    "for i in range(len(a)):\n",
    "    print('i:    ',i)\n",
    "    temp = []\n",
    "    for j in range(len(a[i])):\n",
    "        print('a[i][j]: ',a[i][j],\"    b[i][j] :\", b[i][j],\"    j:\",j)\n",
    "        temp.append(a[i][j]*b[i][j])\n",
    "    c1.append(temp)\n",
    "print(c1)"
   ]
  },
  {
   "cell_type": "markdown",
   "metadata": {},
   "source": [
    "# 3번 실습"
   ]
  },
  {
   "cell_type": "markdown",
   "metadata": {},
   "source": [
    "### (1)\n",
    "아래의 학습코드를 가지고 a리스트가[[1,2],[3,4],[5,6]]와 같이 만들어지도록 수정하세요\n",
    "```Python\n",
    "a = []\n",
    "for i in range(3):\n",
    "    temp = []\n",
    "    for j in range(2):\n",
    "        temp.append(0)\n",
    "    a.append(temp)\n",
    "print(a)\n",
    "```"
   ]
  },
  {
   "cell_type": "code",
   "execution_count": null,
   "metadata": {},
   "outputs": [],
   "source": [
    "a = []\n",
    "create_num = 0\n",
    "for i in range(3): # 0 1 2\n",
    "    temp = []\n",
    "    for j in range(2): # 0 1\n",
    "        create_num += 1\n",
    "        temp.append(create_num)\n",
    "    a.append(temp)\n",
    "print(a)\n",
    "\n",
    "a2 = []\n",
    "for i in range(3): # 0 1 2\n",
    "    temp = []\n",
    "    for j in range(2): # 0 1\n",
    "        temp.append((i*2)+(j+1))\n",
    "    a2.append(temp)\n",
    "print(a2)\n",
    "\n",
    "a3 = []\n",
    "n = int(input(\"input number\\n\"))\n",
    "for i in range(3): # 0 1 2\n",
    "    temp = []\n",
    "    for j in range(n):\n",
    "        temp.append((i*n)+(j+1))\n",
    "    a3.append(temp)\n",
    "print(a3)"
   ]
  },
  {
   "cell_type": "markdown",
   "metadata": {},
   "source": [
    "# 별 출력하기"
   ]
  },
  {
   "cell_type": "markdown",
   "metadata": {},
   "source": [
    "사각형 별`"
   ]
  },
  {
   "cell_type": "code",
   "execution_count": null,
   "metadata": {},
   "outputs": [],
   "source": [
    "for i in range(1,6):\n",
    "    for j in range(1,6):\n",
    "        print('*', end='')\n",
    "    print('')"
   ]
  },
  {
   "cell_type": "markdown",
   "metadata": {},
   "source": [
    "계단식 별"
   ]
  },
  {
   "cell_type": "code",
   "execution_count": null,
   "metadata": {},
   "outputs": [],
   "source": [
    "hight_n = 0\n",
    "for i in range(1,6):\n",
    "    start_str = '*'\n",
    "    hight_n += 1\n",
    "    for j in range(1,6):\n",
    "        if j > hight_n:\n",
    "            start_str=' '\n",
    "        print('{0}'.format(start_str),end='')\n",
    "    print('')"
   ]
  },
  {
   "cell_type": "markdown",
   "metadata": {},
   "source": [
    "대각선 별"
   ]
  },
  {
   "cell_type": "code",
   "execution_count": null,
   "metadata": {
    "scrolled": true
   },
   "outputs": [],
   "source": [
    "for i in range(1,6):\n",
    "    for j in range(1,6):\n",
    "        if i == j:\n",
    "            print('*', end='')\n",
    "        else :\n",
    "            print(' ', end='')\n",
    "    print('')"
   ]
  },
  {
   "cell_type": "markdown",
   "metadata": {},
   "source": [
    "계단식(역순)"
   ]
  },
  {
   "cell_type": "code",
   "execution_count": null,
   "metadata": {},
   "outputs": [],
   "source": [
    "\n",
    "for i in range(1,6):\n",
    "    start_str='*'\n",
    "    hight_n = 6 - i\n",
    "    for j in range(1,6):\n",
    "        if hight_n == 0:\n",
    "            start_str=' '\n",
    "        print('{0}'.format(start_str),end='')\n",
    "        hight_n -= 1\n",
    "    print('')"
   ]
  },
  {
   "cell_type": "raw",
   "metadata": {},
   "source": [
    "계단식(역순)"
   ]
  },
  {
   "cell_type": "code",
   "execution_count": null,
   "metadata": {},
   "outputs": [],
   "source": [
    "hight_n = 0\n",
    "for i in range(1,6):\n",
    "    start_str=' '\n",
    "    hight_n += 1\n",
    "    for j in range(1,6):\n",
    "        if j >= hight_n:\n",
    "            start_str='*'\n",
    "        print('{0}'.format(start_str),end='')\n",
    "    print('')"
   ]
  },
  {
   "cell_type": "code",
   "execution_count": null,
   "metadata": {},
   "outputs": [],
   "source": [
    "import pickle\n",
    "\n",
    "name = ['222','333']\n",
    "with open(\"./data/test.pkl\",\"wb\") as file:\n",
    "    # 절대경로는 C:/Users/minch/abangues/data/pickle_test.pkl이다.\n",
    "    pickle.dump(name,file)"
   ]
  },
  {
   "cell_type": "code",
   "execution_count": null,
   "metadata": {},
   "outputs": [],
   "source": [
    "with open(\"C:/Users/minch/abangues/data/test.pkl\",\"rb\") as file:\n",
    "    # 상대경로는 ./data/pickle_test.pkl 이다.\n",
    "    for i in pickle.load(file):\n",
    "        print(i)\n",
    "print(name2)"
   ]
  },
  {
   "cell_type": "code",
   "execution_count": null,
   "metadata": {},
   "outputs": [],
   "source": [
    "import pickle\n",
    "\n",
    "with open(\"./data/pickle_test.pkl\",\"wb\") as file:\n",
    "    pickle.dump(0,file)\n",
    "    pickle.dump(0,file)"
   ]
  },
  {
   "cell_type": "code",
   "execution_count": null,
   "metadata": {},
   "outputs": [],
   "source": [
    "##### (2)\n",
    "import pickle\n",
    "import os.path # 함수 사용을 위해 import\n",
    "import random\n",
    "\n",
    "\n",
    "with open(\"./data/pickle_test.pkl\",\"rb\") as file: # 읽어온다\n",
    "    total_try = pickle.load(file)\n",
    "    win_rate = pickle.load(file)\n",
    "\n",
    "\n",
    "skill_name = {1:'가위', 2:'바위', 3:'보'}\n",
    "user_input = 1\n",
    "\n",
    "while user_input in list(skill_name.keys()):\n",
    "    user_input = int(input(\"가위(1), 바위(2), 보(3) 을 입력해주세요 : \"))\n",
    "    computer_select = random.randint(1,3)\n",
    "    if user_input in list(skill_name.keys()):\n",
    "        total_try += 1\n",
    "        if user_input == 1 and computer_select == 3:\n",
    "            win_rate += 1\n",
    "        elif user_input == 2 and computer_select == 1:\n",
    "            win_rate += 1    \n",
    "        elif user_input == 3 and computer_select== 2:\n",
    "            win_rate += 1\n",
    "        print(\"유저 : \"+skill_name[user_input]+\", 컴퓨터 : \"+skill_name[computer_select])\n",
    "    else :\n",
    "        pass\n",
    "\n",
    "print(\"게임종료 (전체: %d, 승리: %d)\" %(total_try, win_rate))\n",
    "\n",
    "with open(\"./data/pickle_test.pkl\",\"wb\") as file:\n",
    "    pickle.dump(total_try,file)\n",
    "    pickle.dump(win_rate,file)"
   ]
  },
  {
   "cell_type": "code",
   "execution_count": 1,
   "metadata": {},
   "outputs": [
    {
     "name": "stdout",
     "output_type": "stream",
     "text": [
      "메뉴를 선택해주세요 (1:입력, 2:조회, 3:삭제, 0:종료) : 2\n",
      "[0] 이름 : 예시1, 수학 : 60, 과학 : 80, 영어 : 90\n",
      "[1] 이름 : 예시4, 수학 : 90, 과학 : 50, 영어 : 39\n",
      "메뉴를 선택해주세요 (1:입력, 2:조회, 3:삭제, 0:종료) : 0\n",
      "종료되었습니다.\n"
     ]
    }
   ],
   "source": [
    "import os.path # 파일 유뮤체크 위한 함수 import\n",
    "import pickle\n",
    "\n",
    "file_name = './data/pickle_test_2.pkl'\n",
    "if os.path.isfile(file_name): #파일 유무체크\n",
    "    with open(file_name,\"rb\") as file:#해당 파일이 존재한다면 읽어온다\n",
    "        student_list = pickle.load(file)# 읽어온 파일의 내용으로 리스트 선언\n",
    "else :#존재하지 않는다면 사용할 리스트 초기화해 선언\n",
    "    student_list = []\n",
    "    \n",
    "while True:\n",
    "    menu_selected = input(\"메뉴를 선택해주세요 (1:입력, 2:조회, 3:삭제, 0:종료) : \")\n",
    "    if menu_selected == '1':\n",
    "        name = input(\"이름 : \")\n",
    "        math = int(input(\"수학 : \"))\n",
    "        science = int(input(\"과학 : \"))\n",
    "        english = int(input(\"영어 : \"))\n",
    "        student_list.append([name, math, science, english])\n",
    "    \n",
    "    elif menu_selected == '2':\n",
    "        for i in range(len(student_list)):\n",
    "            print(\"[{0}] 이름 : {1}, 수학 : {2}, 과학 : {3}, 영어 : {4}\".format(i, student_list[i][0], student_list[i][1], student_list[i][2], student_list[i][3]))\n",
    "    elif menu_selected == '3':\n",
    "        for i in range(len(student_list)):\n",
    "            print(\"[{0}] 이름 : {1}, 수학 : {2}, 과학 : {3}, 영어 : {4}\".format(i, student_list[i][0], student_list[i][1], student_list[i][2], student_list[i][3]))\n",
    "        del_index = int(input(\"삭제할 번호를 입력해주세요 : \"))\n",
    "        del student_list[del_index]\n",
    "        print(\"삭제가 완료되었습니다.\")\n",
    "    else :\n",
    "        print(\"종료되었습니다.\")\n",
    "        with open(file_name,\"wb\") as file:\n",
    "            pickle.dump(student_list,file) # 종료시 pickle파일 업데이트\n",
    "        break"
   ]
  }
 ],
 "metadata": {
  "kernelspec": {
   "display_name": "Python 3",
   "language": "python",
   "name": "python3"
  },
  "language_info": {
   "codemirror_mode": {
    "name": "ipython",
    "version": 3
   },
   "file_extension": ".py",
   "mimetype": "text/x-python",
   "name": "python",
   "nbconvert_exporter": "python",
   "pygments_lexer": "ipython3",
   "version": "3.7.9"
  }
 },
 "nbformat": 4,
 "nbformat_minor": 4
}
