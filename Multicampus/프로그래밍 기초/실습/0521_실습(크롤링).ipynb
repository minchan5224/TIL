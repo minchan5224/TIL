{
 "cells": [
  {
   "cell_type": "markdown",
   "metadata": {},
   "source": [
    "# HTML 기본 크롤링"
   ]
  },
  {
   "cell_type": "markdown",
   "metadata": {},
   "source": [
    "# requests객체\n",
    "- HTTP 요청을 보내는 모듈(웹사이트 접속)"
   ]
  },
  {
   "cell_type": "code",
   "execution_count": 2,
   "metadata": {},
   "outputs": [
    {
     "name": "stdout",
     "output_type": "stream",
     "text": [
      "200\n",
      "\n"
     ]
    }
   ],
   "source": [
    "import requests\n",
    "URL = ''\n",
    "\n",
    "response = requests.get(URL)\n",
    "\n",
    "print(response.status_code)\n",
    "print()\n",
    "#print(response.text)"
   ]
  },
  {
   "cell_type": "code",
   "execution_count": 3,
   "metadata": {},
   "outputs": [
    {
     "name": "stdout",
     "output_type": "stream",
     "text": [
      "200\n"
     ]
    }
   ],
   "source": [
    "headers = {'':''}\n",
    "response = requests.get(\"\",headers=headers) # 위에서 사용한 URL과 같다.\n",
    "\n",
    "print(response.status_code) # [HTTP 상태코드](https://ko.wikipedia.org/wiki/HTTP_%EC%83%81%ED%83%9C_%EC%BD%94%EB%93%9C) 반환 -> 200 (정상 작동)\n",
    "# print(response.text) # 페이지 html 코드 반환."
   ]
  },
  {
   "cell_type": "markdown",
   "metadata": {},
   "source": [
    "### GET방식 데이터 전송"
   ]
  },
  {
   "cell_type": "code",
   "execution_count": 4,
   "metadata": {},
   "outputs": [
    {
     "name": "stdout",
     "output_type": "stream",
     "text": [
      "200\n",
      "<!DOCTYPE html>\n",
      "<html>\n",
      "<head>\n",
      "<title>크롤링 연습사이트 01</title>\n",
      "</head>\n",
      "<body>\n",
      "<h1>저의 첫 웹사이트 오신것을 환영합니다.</h1>\n",
      "<h1 title=\"welcome\">인사이트캠퍼스.</h1>\n",
      "<h2>이곳은 크롤링 연습을 위한 웹사이트입니다.</h2>\n",
      "<table border=\"1\">\n",
      "    <thead>\n",
      "      <tr>\n",
      "      \t<th class=\"tablehead\">이름</th>\n",
      "        <th class=\"tablehead\">나이</th>\n",
      "      </tr>\n",
      "    </thead>\n",
      "    <tbody>\n",
      "      <tr>\n",
      "          <td>이몽룡</td>\n",
      "          <td>34</td>\n",
      "      </tr>\n",
      "      <tr>\n",
      "          <td>홍길동</td>\n",
      "          <td>23</td>\n",
      "      </tr>\n",
      "     </tbody>\n",
      "</table>\n",
      "<p id=\"hello\">\n",
      "    이탈리아 요리의 시작은 기원전 4세기로 거슬러 올라갈 수 있다. 대항해시대를 거치면서 아메리카 대륙에서 감자·토마토·후추·옥수수 등이 유입되어 그 종류와 풍미가 다양해졌고 현대에 이르러서는 피자와 파스타 등 많은 이탈리아 요리가 널리 퍼지게 되었다.\n",
      "</p>\n",
      "<p id=\"cook\">\n",
      "    전통적인 요리법이나 양식은 상당한 차이가 있지만, 이탈리아 요리는 다른 국가의 요리 문화에서 다양한 영감을 줄 만큼 다양하고 혁신적인 것으로 평가되고 있다. 각 지방마다 고유의 특색이 있어 그 양식도 다양하지만 크게 북부와 남부로 나눌 수 있다. 다른 나라와 국경을 맞대고 있던 북부 지방은 산업화되어 경제적으로 풍족하고 농업이 발달해 쌀이 풍부해 유제품이 다양한 반면 경제적으로 침체되었던 남부 지방은 올리브와 토마토, 모차렐라 치즈가 유명하고 특별히 해산물을 활용한 요리가 많다. 식재료와 치즈 등의 차이는 파스타의 종류와 소스와 수프 등도 다름을 의미한다.\n",
      "</p>\n",
      "<a href=\"01.html\">1페이지 바로가기</a>\n",
      "<a href=\"02.html\">2페이지 바로가기</a>\n",
      "<a href=\"03.html\">3페이지 바로가기</a>\n",
      "<a href=\"04.html\">4페이지 바로가기</a>\n",
      "</body>\n",
      "</html>\n",
      "\n"
     ]
    }
   ],
   "source": [
    "data = {'name':'ronen'} # 딕셔너리 형\n",
    "response = requests.get(URL, data=data) #뒤에 data에 알맞은 변수 전달. \n",
    "\n",
    "print(response.status_code) # [HTTP 상태코드](https://ko.wikipedia.org/wiki/HTTP_%EC%83%81%ED%83%9C_%EC%BD%94%EB%93%9C) 반환 -> 200 (정상 작동)\n",
    "print(response.text) # 페이지 html 코드 반환."
   ]
  },
  {
   "cell_type": "markdown",
   "metadata": {},
   "source": [
    "# Beautiful Soup\n",
    "- HTML에서 손쉽게 원하는 데이터를 가져올수있도록 지원\n",
    "- pip install beautifulsoup4 로 패키지 설치\n",
    "\n"
   ]
  },
  {
   "cell_type": "code",
   "execution_count": 5,
   "metadata": {},
   "outputs": [
    {
     "name": "stdout",
     "output_type": "stream",
     "text": [
      "<title>크롤링 연습사이트 01</title>\n",
      "크롤링 연습사이트 01\n"
     ]
    }
   ],
   "source": [
    "import requests\n",
    "from bs4 import BeautifulSoup\n",
    "\n",
    "URL = ''\n",
    "response = requests.get(URL)\n",
    "soup = BeautifulSoup(response.text, \"html.parser\")\n",
    "result = soup.find(\"title\")\n",
    "print(result)\n",
    "print(result.text)"
   ]
  },
  {
   "cell_type": "code",
   "execution_count": 6,
   "metadata": {},
   "outputs": [
    {
     "name": "stdout",
     "output_type": "stream",
     "text": [
      "soup.find(\"p\")\n",
      " <p id=\"hello\">\n",
      "    이탈리아 요리의 시작은 기원전 4세기로 거슬러 올라갈 수 있다. 대항해시대를 거치면서 아메리카 대륙에서 감자·토마토·후추·옥수수 등이 유입되어 그 종류와 풍미가 다양해졌고 현대에 이르러서는 피자와 파스타 등 많은 이탈리아 요리가 널리 퍼지게 되었다.\n",
      "</p>\n",
      "soup.find_all(\"p\", limit=2)\n",
      " [<p id=\"hello\">\n",
      "    이탈리아 요리의 시작은 기원전 4세기로 거슬러 올라갈 수 있다. 대항해시대를 거치면서 아메리카 대륙에서 감자·토마토·후추·옥수수 등이 유입되어 그 종류와 풍미가 다양해졌고 현대에 이르러서는 피자와 파스타 등 많은 이탈리아 요리가 널리 퍼지게 되었다.\n",
      "</p>, <p id=\"cook\">\n",
      "    전통적인 요리법이나 양식은 상당한 차이가 있지만, 이탈리아 요리는 다른 국가의 요리 문화에서 다양한 영감을 줄 만큼 다양하고 혁신적인 것으로 평가되고 있다. 각 지방마다 고유의 특색이 있어 그 양식도 다양하지만 크게 북부와 남부로 나눌 수 있다. 다른 나라와 국경을 맞대고 있던 북부 지방은 산업화되어 경제적으로 풍족하고 농업이 발달해 쌀이 풍부해 유제품이 다양한 반면 경제적으로 침체되었던 남부 지방은 올리브와 토마토, 모차렐라 치즈가 유명하고 특별히 해산물을 활용한 요리가 많다. 식재료와 치즈 등의 차이는 파스타의 종류와 소스와 수프 등도 다름을 의미한다.\n",
      "</p>]\n",
      "soup.find(\"th\", \"tablehead\")\n",
      " <th class=\"tablehead\">이름</th>\n",
      "soup.find(\"th\", class_=\"tablehead\")\n",
      " <th class=\"tablehead\">이름</th>\n",
      "soup.find(\"th\", attrs={\"class\":\"tablehead\"})\n",
      " <th class=\"tablehead\">이름</th>\n",
      "soup.find(\"h1\", attrs={\"title\":\"welcome\"})\n",
      " <h1 title=\"welcome\">인사이트캠퍼스.</h1>\n",
      "soup.find(id=\"hello\")\n",
      " <p id=\"hello\">\n",
      "    이탈리아 요리의 시작은 기원전 4세기로 거슬러 올라갈 수 있다. 대항해시대를 거치면서 아메리카 대륙에서 감자·토마토·후추·옥수수 등이 유입되어 그 종류와 풍미가 다양해졌고 현대에 이르러서는 피자와 파스타 등 많은 이탈리아 요리가 널리 퍼지게 되었다.\n",
      "</p>\n"
     ]
    }
   ],
   "source": [
    "print(\"soup.find(\\\"p\\\")\\n\",soup.find(\"p\")) # 가장 상단에 있는 p태그 하나만\n",
    "print(\"soup.find_all(\\\"p\\\", limit=2)\\n\",soup.find_all(\"p\", limit=2)) # 일치하는 모든 탸그(limit: 가져올 갯수제한., 생략가능)\n",
    "print(\"soup.find(\\\"th\\\", \\\"tablehead\\\")\\n\",soup.find(\"th\", \"tablehead\")) # 옵션값이 class가 tablehead인것\n",
    "print(\"soup.find(\\\"th\\\", class_=\\\"tablehead\\\")\\n\",soup.find(\"th\", class_=\"tablehead\")) # 옵션값이 class가 tablehead인것\n",
    "print(\"soup.find(\\\"th\\\", attrs={\\\"class\\\":\\\"tablehead\\\"})\\n\",soup.find(\"th\", attrs={\"class\":\"tablehead\"})) # 옵션값이 class가 tablehead인것(옵션명 변경 가능)\n",
    "print(\"soup.find(\\\"h1\\\", attrs={\\\"title\\\":\\\"welcome\\\"})\\n\",soup.find(\"h1\", attrs={\"title\":\"welcome\"})) # 옵션값이 title가 welcome인것(옵션명 변경 가능)\n",
    "print(\"soup.find(id=\\\"hello\\\")\\n\",soup.find(id=\"hello\")) # 옵션값이 id가 hello인것."
   ]
  },
  {
   "cell_type": "code",
   "execution_count": 7,
   "metadata": {},
   "outputs": [
    {
     "name": "stdout",
     "output_type": "stream",
     "text": [
      "1페이지 바로가기\n",
      "01.html\n"
     ]
    }
   ],
   "source": [
    "URL = ''\n",
    "response = requests.get(URL)\n",
    "soup = BeautifulSoup(response.text, \"html.parser\")\n",
    "result = soup.find(\"a\")\n",
    "print(result.text) # .text - 태그내에 내용만 추출\n",
    "print(result.attrs[\"href\"]) # .attrs[\"옵션명\"] - 태그내에 옵션을 추출\n",
    "\n",
    "# 결과값에서 다시 검색가능\n",
    "result = soup.find(\"table\")\n",
    "result2 = soup.find(\"table\")"
   ]
  },
  {
   "cell_type": "markdown",
   "metadata": {},
   "source": [
    "# 실습 01"
   ]
  },
  {
   "cell_type": "code",
   "execution_count": 8,
   "metadata": {},
   "outputs": [
    {
     "data": {
      "text/plain": [
       "'전통적인 요리법이나 양식은 상당한 차이가 있지만, 이탈리아 요리는 다른 국가의 요리 문화에서 다양한 영감을 줄 만큼 다양하고 혁신적인 것으로 평가되고 있다. 각 지방마다 고유의 특색이 있어 그 양식도 다양하지만 크게 북부와 남부로 나눌 수 있다. 다른 나라와 국경을 맞대고 있던 북부 지방은 산업화되어 경제적으로 풍족하고 농업이 발달해 쌀이 풍부해 유제품이 다양한 반면 경제적으로 침체되었던 남부 지방은 올리브와 토마토, 모차렐라 치즈가 유명하고 특별히 해산물을 활용한 요리가 많다. 식재료와 치즈 등의 차이는 파스타의 종류와 소스와 수프 등도 다름을 의미한다.'"
      ]
     },
     "execution_count": 8,
     "metadata": {},
     "output_type": "execute_result"
    }
   ],
   "source": [
    "import re\n",
    "URL = ''\n",
    "response = requests.get(URL)\n",
    "soup = BeautifulSoup(response.text, \"html.parser\")\n",
    "\n",
    "re.sub(\"\\n*(  )*\",'',soup.find(id=\"cook\").text)"
   ]
  },
  {
   "cell_type": "markdown",
   "metadata": {},
   "source": [
    "# 실습 02"
   ]
  },
  {
   "cell_type": "code",
   "execution_count": 9,
   "metadata": {},
   "outputs": [
    {
     "name": "stdout",
     "output_type": "stream",
     "text": [
      "[{'이름': '이몽룡', '나이': '34'}, {'이름': '홍길동', '나이': '23'}]\n"
     ]
    }
   ],
   "source": [
    "tablehead_list = []\n",
    "tableitem_list = []\n",
    "answer = []\n",
    "for tr_item in soup.find_all(\"tr\"):\n",
    "    if tr_item.find_all(\"th\", \"tablehead\") != []:\n",
    "        tablehead_list = [re.sub(\"<\\w*>[^<]\",'',td_item.text) for td_item in tr_item.find_all(\"th\", \"tablehead\")]\n",
    "    else :\n",
    "        tableitem_list += [[re.sub(\"<\\w*>[^<]\",'',td_item.text) for td_item in tr_item.find_all(\"td\")]]\n",
    "\n",
    "answer = [{tablehead_list[0]:tableitem_list[i][0], tablehead_list[1]:tableitem_list[i][1]} for i in range(len(tableitem_list)) ]\n",
    "\n",
    "print(answer)"
   ]
  },
  {
   "cell_type": "markdown",
   "metadata": {},
   "source": [
    "# 실습 03"
   ]
  },
  {
   "cell_type": "code",
   "execution_count": 10,
   "metadata": {
    "scrolled": true
   },
   "outputs": [
    {
     "name": "stdout",
     "output_type": "stream",
     "text": [
      "크롤링 연습사이트 01-1 페이지입니다.\n",
      "크롤링 연습사이트 01-2 페이지입니다.\n",
      "크롤링 연습사이트 01-3 페이지입니다.\n",
      "크롤링 연습사이트 01-4 페이지입니다.\n"
     ]
    }
   ],
   "source": [
    "import requests\n",
    "from bs4 import BeautifulSoup\n",
    "URL = \"\"\n",
    "response = requests.get(URL)\n",
    "soup = BeautifulSoup(response.text, \"html.parser\")\n",
    "for i in soup.find_all(\"a\"):\n",
    "    response = requests.get(URL+i[\"href\"])\n",
    "    soup = BeautifulSoup(response.text, \"html.parser\")\n",
    "    print(soup.find(\"p\").text.strip())\n",
    "#\n"
   ]
  },
  {
   "cell_type": "markdown",
   "metadata": {},
   "source": [
    "# CSS 셀렉터"
   ]
  },
  {
   "cell_type": "code",
   "execution_count": 11,
   "metadata": {},
   "outputs": [
    {
     "name": "stdout",
     "output_type": "stream",
     "text": [
      "<!DOCTYPE html>\n",
      "\n",
      "<html>\n",
      "<head>\n",
      "<meta charset=\"utf-8\"/>\n",
      "<link href=\"mystyle.css\" rel=\"stylesheet\" type=\"text/css\"/>\n",
      "<title>크롤링 연습사이트 02</title>\n",
      "</head>\n",
      "<body>\n",
      "<div class=\"bold blue\" id=\"title\">\n",
      "        안녕하세요 \n",
      "    </div>\n",
      "<div class=\"bold\" id=\"content\">\n",
      "<ul>\n",
      "<li>첫번쨰리스트</li>\n",
      "<li class=\"blue\">두번째리스트</li>\n",
      "<li class=\"blue\">세번째리스트</li>\n",
      "<li>네번째리스트</li>\n",
      "</ul>\n",
      "</div>\n",
      "<div id=\"winter\">\n",
      "<p>온세상이 떨릴듯</p>\n",
      "<p class=\"blue\">두근거리고 <span>익숙한 듯 편안해</span></p>\n",
      "<div>\n",
      "<p>네가 느껴져</p>\n",
      "<p class=\"blue\">오래된 친구같아</p>\n",
      "<span>안녕하세요!</span>\n",
      "</div>\n",
      "</div>\n",
      "<a href=\"http://naver.com\" target=\"_blank\">네이버</a>\n",
      "<a href=\"http://daum.net\" target=\"_self\">다음</a>\n",
      "<a href=\"http://google.com\" target=\"_self\">구글</a>\n",
      "</body>\n",
      "</html>\n"
     ]
    }
   ],
   "source": [
    "import requests\n",
    "from bs4 import BeautifulSoup\n",
    "URL = \"\"\n",
    "response = requests.get(URL)\n",
    "soup = BeautifulSoup(response.text, \"html.parser\")\n",
    "print(soup)\n",
    "# soup.select_one(셀렉터) # 셀렉터에 일치하는 하나의 태그만\n",
    "# soup.select(셀렉터) # 셀렉터에 일자하는 모든 태그"
   ]
  },
  {
   "cell_type": "markdown",
   "metadata": {},
   "source": [
    "### ID 셀렉터(ID 속성을 활용) - #title"
   ]
  },
  {
   "cell_type": "code",
   "execution_count": 12,
   "metadata": {},
   "outputs": [
    {
     "name": "stdout",
     "output_type": "stream",
     "text": [
      "[<div class=\"bold blue\" id=\"title\">\n",
      "        안녕하세요 \n",
      "    </div>]\n",
      "\n",
      "<div class=\"bold blue\" id=\"title\">\n",
      "        안녕하세요 \n",
      "    </div>\n"
     ]
    }
   ],
   "source": [
    "# id=\"title\" 인것 가져옴\n",
    "print(soup.select(\"#title\"))\n",
    "print()\n",
    "print(soup.select_one(\"#title\"))"
   ]
  },
  {
   "cell_type": "markdown",
   "metadata": {},
   "source": [
    "### 태그 셀렉터(HTML 태그를 활용) - p, h1, h2"
   ]
  },
  {
   "cell_type": "code",
   "execution_count": 13,
   "metadata": {},
   "outputs": [
    {
     "name": "stdout",
     "output_type": "stream",
     "text": [
      "[<title>크롤링 연습사이트 02</title>]\n",
      "\n",
      "<title>크롤링 연습사이트 02</title>\n"
     ]
    }
   ],
   "source": [
    "# id=\"title\" 인것 가져옴\n",
    "print(soup.select(\"title\"))\n",
    "print()\n",
    "print(soup.select_one(\"title\"))"
   ]
  },
  {
   "cell_type": "markdown",
   "metadata": {},
   "source": [
    "### class 셀렉터(class 속성을 활용) - .content"
   ]
  },
  {
   "cell_type": "code",
   "execution_count": 14,
   "metadata": {},
   "outputs": [
    {
     "name": "stdout",
     "output_type": "stream",
     "text": [
      "[<div class=\"bold blue\" id=\"title\">\n",
      "        안녕하세요 \n",
      "    </div>, <div class=\"bold\" id=\"content\">\n",
      "<ul>\n",
      "<li>첫번쨰리스트</li>\n",
      "<li class=\"blue\">두번째리스트</li>\n",
      "<li class=\"blue\">세번째리스트</li>\n",
      "<li>네번째리스트</li>\n",
      "</ul>\n",
      "</div>]\n",
      "\n",
      "[<div class=\"bold blue\" id=\"title\">\n",
      "        안녕하세요 \n",
      "    </div>]\n",
      "\n",
      "<div class=\"bold blue\" id=\"title\">\n",
      "        안녕하세요 \n",
      "    </div>\n"
     ]
    }
   ],
   "source": [
    "print(soup.select(\".bold\")) # 2개\n",
    "print()\n",
    "print(soup.select(\".bold.blue\")) # 1개\n",
    "print()\n",
    "print(soup.select_one(\".bold\"))"
   ]
  },
  {
   "cell_type": "markdown",
   "metadata": {},
   "source": [
    "### 속성 셀렉터(태그내 속성을 활용) -a[href], a[target=\"_blank\"]\n",
    "- 셀렉터[어트리뷰트~=\"값\"] - 해당 단어를 포함\n",
    "- 셀렉터[어트리뷰트^=\"값\"] - 해당 값으로 시작\n",
    "- 셀렉터[어트리뷰트$=\"값\"] - 해당 값으로 끝나는\n",
    "- 셀렉터[어트리뷰트*=\"값\"] - 해당 값을 포함하는"
   ]
  },
  {
   "cell_type": "code",
   "execution_count": 84,
   "metadata": {},
   "outputs": [
    {
     "name": "stdout",
     "output_type": "stream",
     "text": [
      "[<a href=\"http://naver.com\" target=\"_blank\">네이버</a>]\n",
      "\n",
      "[<a href=\"http://naver.com\" target=\"_blank\">네이버</a>, <a href=\"http://daum.net\" target=\"_self\">다음</a>, <a href=\"http://google.com\" target=\"_self\">구글</a>]\n",
      "\n",
      "[<a href=\"http://naver.com\" target=\"_blank\">네이버</a>, <a href=\"http://google.com\" target=\"_self\">구글</a>]\n"
     ]
    }
   ],
   "source": [
    "print(soup.select('a[target=\"_blank\"]'))\n",
    "print()\n",
    "print(soup.select('a[href]'))\n",
    "print()\n",
    "print(soup.select('a[href$=\".com\"]'))"
   ]
  },
  {
   "cell_type": "markdown",
   "metadata": {},
   "source": [
    "## 후손셀렉터(해당 태그 내에 포함되는 태그) - div p"
   ]
  },
  {
   "cell_type": "code",
   "execution_count": 85,
   "metadata": {},
   "outputs": [
    {
     "name": "stdout",
     "output_type": "stream",
     "text": [
      "[<p>온세상이 떨릴듯</p>, <p class=\"blue\">두근거리고 <span>익숙한 듯 편안해</span></p>, <p>네가 느껴져</p>, <p class=\"blue\">오래된 친구같아</p>]\n"
     ]
    }
   ],
   "source": [
    "print(soup.select('div#winter p'))"
   ]
  },
  {
   "cell_type": "markdown",
   "metadata": {},
   "source": [
    "## 자식셀렉터(해당 태그 바로 안에 포함되는 태그) -div > p"
   ]
  },
  {
   "cell_type": "code",
   "execution_count": 86,
   "metadata": {},
   "outputs": [
    {
     "name": "stdout",
     "output_type": "stream",
     "text": [
      "[<p>온세상이 떨릴듯</p>, <p class=\"blue\">두근거리고 <span>익숙한 듯 편안해</span></p>]\n"
     ]
    }
   ],
   "source": [
    "print(soup.select('div#winter > p'))"
   ]
  },
  {
   "cell_type": "markdown",
   "metadata": {},
   "source": [
    "# 실습 01 \n",
    "- 사이트내에 인기검색 종목과 주요해외지수를 각각 크롤링하여 종목명과 주가지수를 아래와 같이 리스트로 정리해주세요"
   ]
  },
  {
   "cell_type": "code",
   "execution_count": 15,
   "metadata": {},
   "outputs": [],
   "source": [
    "import requests\n",
    "from bs4 import BeautifulSoup\n",
    "URL = \"\"\n",
    "response = requests.get(URL)\n",
    "soup = BeautifulSoup(response.text, \"html.parser\")\n",
    "#print(soup)"
   ]
  },
  {
   "cell_type": "code",
   "execution_count": 88,
   "metadata": {},
   "outputs": [
    {
     "name": "stdout",
     "output_type": "stream",
     "text": [
      "[['써니전자', '5,000'], ['삼성전자', '55,200'], ['안랩', '81,000'], ['케이엠더블..', '57,300'], ['피피아이', '12,600'], ['KT&G', '92,500'], ['삼성전자우', '45,600'], ['대양금속', '10,550'], ['SK하이닉스', '94,700'], ['SK텔레콤', '234,000']]\n",
      "[['다우산업', '28,647.43'], ['나스닥', '9,015.03'], ['홍콩H', '11,320.56'], ['상해종합', '3,085.20'], ['니케이225', '23,656.62']]\n"
     ]
    }
   ],
   "source": [
    "popularItem_list = []\n",
    "lst_major = []\n",
    "popularItem_result = soup.select('ul#popularItemList > li')\n",
    "lst_major_result = soup.select('ul.lst_major > li')\n",
    "\n",
    "for i in popularItem_result:\n",
    "    popularItem_list.append([i.select('a')[0].text,i.select('span')[0].text])\n",
    "\n",
    "\n",
    "for i in lst_major_result:\n",
    "    lst_major.append([i.select('a')[0].text,i.select('span')[0].text])\n",
    "print(popularItem_list)\n",
    "print(lst_major)\n",
    "    "
   ]
  },
  {
   "cell_type": "code",
   "execution_count": 89,
   "metadata": {},
   "outputs": [
    {
     "name": "stdout",
     "output_type": "stream",
     "text": [
      "[['써니전자', '상한'], ['삼성전자', '하락'], ['안랩', '상승'], ['케이엠더블..', '상승'], ['피피아이', '상한'], ['KT&G', '하락'], ['삼성전자우', '상승'], ['대양금속', '하한'], ['SK하이닉스', '상승'], ['SK텔레콤', '하락']]\n",
      "[['다우산업', '상한'], ['나스닥', '상한'], ['홍콩H', '상한'], ['상해종합', '상한'], ['니케이225', '하락']]\n"
     ]
    }
   ],
   "source": [
    "up_down_p = []\n",
    "up_down_m = []\n",
    "for i in popularItem_result:\n",
    "    up_down_p.append([i.select('a')[0].text, i.select('img')[0]['alt']])    \n",
    "\n",
    "\n",
    "for i in lst_major_result:\n",
    "    up_down_m.append([i.select('a')[0].text,i.select('img')[0]['alt']])\n",
    "print(up_down_p)\n",
    "print(up_down_m)"
   ]
  },
  {
   "cell_type": "code",
   "execution_count": 90,
   "metadata": {},
   "outputs": [
    {
     "name": "stdout",
     "output_type": "stream",
     "text": [
      "[['써니전자', '5,000'], ['안랩', '81,000'], ['케이엠더블..', '57,300'], ['피피아이', '12,600'], ['삼성전자우', '45,600'], ['SK하이닉스', '94,700']]\n",
      "[['다우산업', '28,647.43'], ['나스닥', '9,015.03'], ['홍콩H', '11,320.56'], ['상해종합', '3,085.20']]\n"
     ]
    }
   ],
   "source": [
    "up_down_p_2 = []\n",
    "up_down_m_2 = []\n",
    "up_list = ['상한', '상승']\n",
    "for i in popularItem_result:\n",
    "    if i.select('img')[0]['alt'] in up_list:\n",
    "        up_down_p_2.append([i.select('a')[0].text, i.select('span')[0].text])\n",
    "\n",
    "\n",
    "for i in lst_major_result:\n",
    "    if i.select('img')[0]['alt'] in up_list:\n",
    "        up_down_m_2.append([i.select('a')[0].text, i.select('span')[0].text])\n",
    "print(up_down_p_2)\n",
    "print(up_down_m_2)"
   ]
  },
  {
   "cell_type": "code",
   "execution_count": 99,
   "metadata": {},
   "outputs": [
    {
     "name": "stdout",
     "output_type": "stream",
     "text": [
      "[{'이름': 'H하우스장위', '분양가': '16000', '유형': '아파트', '분양유형': '일반민간임대', '세대수': '분양 134세대', '평형': '45㎡~65㎡'}, {'이름': '고덕리엔파크2단지 장기전세', '분양가': '38400', '유형': '아파트', '분양유형': '장기전세주택', '세대수': '분양 1세대', '평형': '149㎡'}, {'이름': '신정이펜하우스3단지 장기전세', '분양가': '39040', '유형': '아파트', '분양유형': '장기전세주택', '세대수': '분양 1세대', '평형': '148㎡'}, {'이름': '천왕이펜하우스2단지 장기전세', '분양가': '38240', '유형': '아파트', '분양유형': '장기전세주택', '세대수': '분양 1세대', '평형': '142㎡'}, {'이름': '송파파크데일2단지 장기전세', '분양가': '45600', '유형': '아파트', '분양유형': '장기전세주택', '세대수': '분양 1세대', '평형': '150㎡'}]\n"
     ]
    }
   ],
   "source": [
    "answer = []\n",
    "\n",
    "for i in soup.select(\"div.sale_box\"):\n",
    "    answer.append({'이름':i.select_one('a').text, '분양가':re.sub(\",*( 만원)*\",\"\",i.select('dd')[0].text), \n",
    "                 '유형':i.select('dd')[1].text.split('|')[0], '분양유형':i.select('dd')[1].text.split('|')[1]\n",
    "                 , '세대수':i.select('dd')[2].text.split('|')[0], '평형':i.select('dd')[2].text.split('|')[1]})\n",
    "print(answer)"
   ]
  }
 ],
 "metadata": {
  "kernelspec": {
   "display_name": "Python 3",
   "language": "python",
   "name": "python3"
  },
  "language_info": {
   "codemirror_mode": {
    "name": "ipython",
    "version": 3
   },
   "file_extension": ".py",
   "mimetype": "text/x-python",
   "name": "python",
   "nbconvert_exporter": "python",
   "pygments_lexer": "ipython3",
   "version": "3.8.5"
  }
 },
 "nbformat": 4,
 "nbformat_minor": 4
}
