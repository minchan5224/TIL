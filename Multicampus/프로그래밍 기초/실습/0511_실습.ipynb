{
 "cells": [
  {
   "cell_type": "markdown",
   "metadata": {},
   "source": [
    "# 1번 실습\n",
    "\n",
    "같은 결과 다른 코드"
   ]
  },
  {
   "cell_type": "code",
   "execution_count": null,
   "metadata": {},
   "outputs": [],
   "source": [
    "input_num = int(input('숫자를 입력해주세요 : '))\n",
    "result_list = [i for i in range(2,input_num+1,2)]\n",
    "\"\"\"c\n",
    "for i in range(2, input_num+1, 2):\n",
    "    result.append(i)\n",
    "\"\"\"\n",
    "result_list.append(input_num)\n",
    "print(result_list)\n",
    "\n",
    "                "
   ]
  },
  {
   "cell_type": "code",
   "execution_count": null,
   "metadata": {},
   "outputs": [],
   "source": [
    "num = int(input(\"input number: \"))\n",
    "a = list(range(2, num+1, 2))\n",
    "a.append(num)\n",
    "a"
   ]
  },
  {
   "cell_type": "markdown",
   "metadata": {},
   "source": [
    "# 2번 실습"
   ]
  },
  {
   "cell_type": "code",
   "execution_count": null,
   "metadata": {},
   "outputs": [],
   "source": [
    "# (1)\n",
    "name_1 = input('이름을 입력해주세요 : ')\n",
    "age_1 = input('나이를 입력해주세요 : ')\n",
    "phone_1 = input('연락처를 입력해주세요 : ')\n",
    "dict_test1 = {'이름':name_1,'나이':age_1,'연락처':phone_1}\n",
    "print(dict_test1)\n",
    "# (2)\n",
    "list_1 = []\n",
    "name_2 = input('이름을 입력해주세요 : ')\n",
    "age_2 = input('나이를 입력해주세요 : ')\n",
    "phone_2 = input('연락처를 입력해주세요 : ')\n",
    "list_1.append({'이름':name_2,'나이':age_2,'연락처':phone_2})\n",
    "name_2 = input('이름을 입력해주세요 : ')\n",
    "age_2 = input('나이를 입력해주세요 : ')\n",
    "phone_2 = input('연락처를 입력해주세요 : ')\n",
    "list_1.append({'이름':name_2,'나이':age_2,'연락처':phone_2})\n",
    "print(list_1)"
   ]
  },
  {
   "cell_type": "markdown",
   "metadata": {},
   "source": [
    "# 3번 실습"
   ]
  },
  {
   "cell_type": "code",
   "execution_count": 20,
   "metadata": {},
   "outputs": [
    {
     "name": "stdout",
     "output_type": "stream",
     "text": [
      "첫번째 점수를 입력해주세요 : -1\n",
      "두번째 점수를 입력해주세요 : 70\n",
      "세번째 점수를 입력해주세요 : 70\n",
      "잘못된 점수가 입력 되었습니다.\n"
     ]
    }
   ],
   "source": [
    "score_1 = int(input(\"첫번째 점수를 입력해주세요 : \"))\n",
    "score_2 = int(input(\"두번째 점수를 입력해주세요 : \"))\n",
    "score_3 = int(input(\"세번째 점수를 입력해주세요 : \"))\n",
    "if score_1 < 0 or score_1 > 100 or score_2 < 0 or score_2 > 100 or score_3 < 0 or score_3 > 100:\n",
    "    print(\"잘못된 점수가 입력 되었습니다.\")\n",
    "\"\"\"\n",
    "if score_1 < 0 or score_1 > 100:\n",
    "    print(\"잘못된 점수가 입력 되었습니다.\")\n",
    "elif score_2 < 0 or score_2 > 100:\n",
    "    print(\"잘못된 점수가 입력 되었습니다.\")\n",
    "elif score_3 < 0 or score_3 > 100:\n",
    "    print(\"잘못된 점수가 입력 되었습니다.\")\n",
    "\"\"\"\n",
    "else :\n",
    "    if score_1 > 65 and score_2 >65 and score_3 >65:\n",
    "        print(\"합격\")\n",
    "    else :\n",
    "        print(\"불합격\")"
   ]
  },
  {
   "cell_type": "markdown",
   "metadata": {},
   "source": [
    "# 4번 실습"
   ]
  },
  {
   "cell_type": "code",
   "execution_count": 27,
   "metadata": {},
   "outputs": [
    {
     "name": "stdout",
     "output_type": "stream",
     "text": [
      "등록할 카테고리를 선택해주세요 (과일,채소) : 과일\n",
      "등록할 과일을 입력해주세요 : 수박\n",
      "['사과', '오렌지', '수박']\n"
     ]
    }
   ],
   "source": [
    "#(1)\n",
    "fruit = ['사과', '오렌지']\n",
    "vegetable = ['당근', '호박']\n",
    "\n",
    "selected_vegetable = ''\n",
    "selected_fruit = ''\n",
    " \n",
    "selected_categorie = input(\"등록할 카테고리를 선택해주세요 (과일,채소) : \")\n",
    "\n",
    "if selected_categorie == '채소':\n",
    "    selected_vegetable = input(\"등록할 채소를 입력해주세요 : \")\n",
    "    if selected_vegetable in vegetable:\n",
    "        print(\"이미등록된 채소입니다.\")\n",
    "    else :\n",
    "        vegetable.append(selected_vegetable)\n",
    "        print(vegetable)\n",
    "elif selected_categorie == '과일':\n",
    "    selected_fruit = input(\"등록할 과일을 입력해주세요 : \")\n",
    "    if selected_fruit in fruit:\n",
    "        print(\"이미등록된 과일입니다.\")\n",
    "    else :\n",
    "        fruit.append(selected_fruit)\n",
    "        print(fruit)\n",
    "else :\n",
    "    input(\"등록할 %s를 입력해주세요 : \"%(selected_categorie))\n",
    "    print(\"존재하지 않는 카테고리입니다.\")\n",
    "\n"
   ]
  }
 ],
 "metadata": {
  "kernelspec": {
   "display_name": "Python 3",
   "language": "python",
   "name": "python3"
  },
  "language_info": {
   "codemirror_mode": {
    "name": "ipython",
    "version": 3
   },
   "file_extension": ".py",
   "mimetype": "text/x-python",
   "name": "python",
   "nbconvert_exporter": "python",
   "pygments_lexer": "ipython3",
   "version": "3.7.9"
  }
 },
 "nbformat": 4,
 "nbformat_minor": 4
}
