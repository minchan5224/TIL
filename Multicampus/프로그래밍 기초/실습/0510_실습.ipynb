{
 "cells": [
  {
   "cell_type": "code",
   "execution_count": 3,
   "metadata": {},
   "outputs": [],
   "source": [
    "import sys"
   ]
  },
  {
   "cell_type": "code",
   "execution_count": 4,
   "metadata": {},
   "outputs": [
    {
     "name": "stdout",
     "output_type": "stream",
     "text": [
      "C:\\Users\\minch\\anaconda3\\envs\\abangues\\python.exe\n"
     ]
    }
   ],
   "source": [
    "print(sys.executable) #사용하는 python의 경로 확인"
   ]
  },
  {
   "cell_type": "code",
   "execution_count": 11,
   "metadata": {},
   "outputs": [
    {
     "name": "stdout",
     "output_type": "stream",
     "text": [
      "hello world\n",
      "나는 김민찬입니다.\n"
     ]
    }
   ],
   "source": [
    "print('hello world')\n",
    "print('나는 김민찬입니다.')"
   ]
  },
  {
   "cell_type": "code",
   "execution_count": 6,
   "metadata": {},
   "outputs": [],
   "source": [
    "import numpy as np\n",
    "import matplotlib.pyplot as plt"
   ]
  },
  {
   "cell_type": "code",
   "execution_count": 9,
   "metadata": {},
   "outputs": [
    {
     "data": {
      "image/png": "[encoded data removed]",
      "text/plain": [
       "<Figure size 432x288 with 1 Axes>"
      ]
     },
     "metadata": {
      "needs_background": "light"
     },
     "output_type": "display_data"
    }
   ],
   "source": [
    "plt.plot([1,2,3,4])\n",
    "plt.ylabel('Number')\n",
    "plt.show()"
   ]
  },
  {
   "cell_type": "code",
   "execution_count": 2,
   "metadata": {},
   "outputs": [
    {
     "name": "stdout",
     "output_type": "stream",
     "text": [
      "당신의 나이를 입력40\n",
      "40\n"
     ]
    }
   ],
   "source": [
    "x = input('당신의 나이를 입력')\n",
    "print(x)"
   ]
  },
  {
   "cell_type": "code",
   "execution_count": 11,
   "metadata": {},
   "outputs": [
    {
     "name": "stdout",
     "output_type": "stream",
     "text": [
      "{'k': 2}\n"
     ]
    },
    {
     "data": {
      "text/plain": [
       "'\\n값을 복사하는 것이 아닌 같은 메모리 주소를 가리킨다. \\n따라서 copy.deepcopy()를 이용하자.\\n'"
      ]
     },
     "execution_count": 11,
     "metadata": {},
     "output_type": "execute_result"
    }
   ],
   "source": [
    "d1 = {'k':1}\n",
    "a1 = d1\n",
    "d1['k'] = 2\n",
    "print(a1)\n",
    "\n",
    "\"\"\"\n",
    "값을 복사하는 것이 아닌 같은 메모리 주소를 가리킨다. \n",
    "따라서 copy.deepcopy()를 이용하자.\n",
    "\"\"\"\n"
   ]
  },
  {
   "cell_type": "code",
   "execution_count": 1,
   "metadata": {},
   "outputs": [
    {
     "name": "stdout",
     "output_type": "stream",
     "text": [
      "{'k': 1}\n"
     ]
    }
   ],
   "source": [
    "import copy\n",
    "d2 = {'k':1}\n",
    "a2 = copy.deepcopy(d2)\n",
    "d2['k'] = 2\n",
    "print(a2)"
   ]
  },
  {
   "cell_type": "code",
   "execution_count": 46,
   "metadata": {},
   "outputs": [
    {
     "data": {
      "text/plain": [
       "dict_keys(['name', 'math', 'english'])"
      ]
     },
     "execution_count": 46,
     "metadata": {},
     "output_type": "execute_result"
    }
   ],
   "source": [
    "score = {'name':'Tom','math':80,'english':70}\n",
    "score.keys() "
   ]
  },
  {
   "cell_type": "code",
   "execution_count": 25,
   "metadata": {},
   "outputs": [
    {
     "name": "stdout",
     "output_type": "stream",
     "text": [
      "x값을 입력해주세요 : 20\n",
      "y값을 입력해주세요 : 3\n",
      "결과:\n",
      "23\n",
      "60\n"
     ]
    }
   ],
   "source": [
    "x = int(input('x값을 입력해주세요 : '))\n",
    "y = int(input('y값을 입력해주세요 : '))\n",
    "print('결과:\\n%d\\n%d'%(x+y, x*y))"
   ]
  },
  {
   "cell_type": "code",
   "execution_count": 27,
   "metadata": {},
   "outputs": [
    {
     "name": "stdout",
     "output_type": "stream",
     "text": [
      "\n",
      "안녕\n",
      "그래\n"
     ]
    }
   ],
   "source": [
    "print('\\n%s\\n%s'%('안녕','그래'))"
   ]
  },
  {
   "cell_type": "code",
   "execution_count": 32,
   "metadata": {},
   "outputs": [
    {
     "name": "stdout",
     "output_type": "stream",
     "text": [
      "첫번째 점수 : 66\n",
      "두번째 점수 : 76\n",
      "세번째 점수 : 77\n",
      "False\n"
     ]
    }
   ],
   "source": [
    "if int(input('첫번째 점수 : ')) > 65 and int(input('두번째 점수 : ')) > int(input('세번째 점수 : ')) and n3> 65:\n",
    "    print(True)\n",
    "else:\n",
    "    print(False)"
   ]
  },
  {
   "cell_type": "code",
   "execution_count": 50,
   "metadata": {},
   "outputs": [
    {
     "name": "stdout",
     "output_type": "stream",
     "text": [
      "아무 문자나 입력해주세요 : 1d            333kd\n",
      "1d333kd\n",
      "이름을 입력해 주세요 : 홍길동\n",
      "첫번째 점수를 입력해 주세요 : 80\n",
      "두번째 점수를 입력해 주세요 : 70\n",
      "세번째 점수를 입력해 주세요 : 60\n",
      "저의 이름은 홍길동 이고 총점은 210 입니다.\n"
     ]
    }
   ],
   "source": [
    "print(input('아무 문자나 입력해주세요 : ').replace(' ',''))\n",
    "print('저의 이름은 %s 이고 총점은 %d 입니다.' %(input('이름을 입력해 주세요 : '), (int(input('첫번째 점수를 입력해 주세요 : '))+int(input('두번째 점수를 입력해 주세요 : '))+int(input('세번째 점수를 입력해 주세요 : ')))))\n",
    "\n"
   ]
  },
  {
   "cell_type": "code",
   "execution_count": 17,
   "metadata": {},
   "outputs": [
    {
     "name": "stdout",
     "output_type": "stream",
     "text": [
      "숫자를 입력해주세요 : 20\n"
     ]
    }
   ],
   "source": [
    "input_num = int(input('숫자를 입력해주세요 : '))\n",
    "result_list = [i for i in range(2,input_num+1,2)]\n",
    "\"\"\"c\n",
    "for i in range(2, input_num+1, 2):\n",
    "    result.append(i)\n",
    "\"\"\"\n",
    "result_list.append(input_num)\n",
    "print(result_list)\n",
    "\n",
    "                "
   ]
  },
  {
   "cell_type": "code",
   "execution_count": 21,
   "metadata": {},
   "outputs": [
    {
     "name": "stdout",
     "output_type": "stream",
     "text": [
      "input number: 20\n"
     ]
    },
    {
     "data": {
      "text/plain": [
       "[2, 4, 6, 8, 10, 12, 14, 16, 18, 20, 20]"
      ]
     },
     "execution_count": 21,
     "metadata": {},
     "output_type": "execute_result"
    }
   ],
   "source": [
    "num = int(input(\"input number: \"))\n",
    "a = list(range(2, num+1, 2))\n",
    "a.append(num)\n",
    "a"
   ]
  },
  {
   "cell_type": "code",
   "execution_count": 33,
   "metadata": {},
   "outputs": [
    {
     "name": "stdout",
     "output_type": "stream",
     "text": [
      "0,1\n",
      "1,2\n",
      "2,3\n",
      "3,4\n",
      "4,5\n",
      "5,6\n",
      "6,7\n"
     ]
    }
   ],
   "source": [
    "a = [1,2,3,4,5,6,7]\n",
    "for idx, val in enumerate(a):\n",
    "    print(idx, val, sep=',')"
   ]
  },
  {
   "cell_type": "code",
   "execution_count": 25,
   "metadata": {},
   "outputs": [
    {
     "name": "stdout",
     "output_type": "stream",
     "text": [
      "이름을 입력해주세요 : 김\n",
      "나이를 입력해주세요 : 222\n",
      "연락처를 입력해주세요 : 2\n",
      "{'이름': '김', '나이': '222', '연락처': '2'}\n",
      "이름을 입력해주세요 : 이\n",
      "나이를 입력해주세요 : 3\n",
      "연락처를 입력해주세요 : 4\n",
      "이름을 입력해주세요 : 박\n",
      "나이를 입력해주세요 : 4\n",
      "연락처를 입력해주세요 : 2\n",
      "[{'이름': '이', '나이': '3', '연락처': '4'}, {'이름': '박', '나이': '4', '연락처': '2'}]\n"
     ]
    }
   ],
   "source": [
    "name_1 = input('이름을 입력해주세요 : ')\n",
    "age_1 = input('나이를 입력해주세요 : ')\n",
    "phone_1 = input('연락처를 입력해주세요 : ')\n",
    "dict_test1 = {'이름':name_1,'나이':age_1,'연락처':phone_1}\n",
    "print(dict_test1)\n",
    "list_1 = []\n",
    "name_2 = input('이름을 입력해주세요 : ')\n",
    "age_2 = input('나이를 입력해주세요 : ')\n",
    "phone_2 = input('연락처를 입력해주세요 : ')\n",
    "list_1.append({'이름':name_2,'나이':age_2,'연락처':phone_2})\n",
    "name_2 = input('이름을 입력해주세요 : ')\n",
    "age_2 = input('나이를 입력해주세요 : ')\n",
    "phone_2 = input('연락처를 입력해주세요 : ')\n",
    "list_1.append({'이름':name_2,'나이':age_2,'연락처':phone_2})\n",
    "print(list_1)"
   ]
  },
  {
   "cell_type": "code",
   "execution_count": 16,
   "metadata": {},
   "outputs": [
    {
     "name": "stdout",
     "output_type": "stream",
     "text": [
      "이름을 입력해주세요 : 홍길동\n",
      "나이를 입력해주세요 : 27\n",
      "연락처를 입력해주세요 : 010-2030-0202\n",
      "{'이름': '홍길동', '나이': '27', '연락처': '010-2030-0202'}\n",
      "이름을 입력해주세요 : 홍길동\n",
      "나이를 입력해주세요 : 27\n",
      "연락처를 입력해주세요 : 010-3030-3030\n",
      "이름을 입력해주세요 : 이몽룡\n",
      "나이를 입력해주세요 : 30\n",
      "연락처를 입력해주세요 : 010-3030-3030\n",
      "[{'이름': '홍길동', '나이': '27', '연락처': '010-3030-3030'}, {'이름': '이몽룡', '나이': '30', '연락처': '010-3030-3030'}]\n"
     ]
    }
   ],
   "source": [
    "\n",
    "name_1 = input('이름을 입력해주세요 : ')\n",
    "age_1 = input('나이를 입력해주세요 : ')\n",
    "phone_1 = input('연락처를 입력해주세요 : ')\n",
    "dict_test1 = {'이름':name_1,'나이':age_1,'연락처':phone_1}\n",
    "print(dict_test1)\n",
    "list_2 = []\n",
    "for i in range(0,2):\n",
    "    name_2 = input('이름을 입력해주세요 : ')\n",
    "    age_2 = input('나이를 입력해주세요 : ')\n",
    "    phone_2 = input('연락처를 입력해주세요 : ')\n",
    "    dict_test2 = {'이름':name_2,'나이':age_2,'연락처':phone_2}\n",
    "    list_2.append(dict_test2)\n",
    "print(list_2)"
   ]
  },
  {
   "cell_type": "code",
   "execution_count": null,
   "metadata": {},
   "outputs": [],
   "source": []
  }
 ],
 "metadata": {
  "kernelspec": {
   "display_name": "Python 3",
   "language": "python",
   "name": "python3"
  },
  "language_info": {
   "codemirror_mode": {
    "name": "ipython",
    "version": 3
   },
   "file_extension": ".py",
   "mimetype": "text/x-python",
   "name": "python",
   "nbconvert_exporter": "python",
   "pygments_lexer": "ipython3",
   "version": "3.7.9"
  }
 },
 "nbformat": 4,
 "nbformat_minor": 4
}
