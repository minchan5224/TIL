{
 "cells": [
  {
   "cell_type": "markdown",
   "metadata": {},
   "source": [
    "# 함수응용 실습 01"
   ]
  },
  {
   "cell_type": "code",
   "execution_count": 1,
   "metadata": {},
   "outputs": [
    {
     "name": "stdout",
     "output_type": "stream",
     "text": [
      "[0, 3, 6]\n"
     ]
    }
   ],
   "source": [
    "def allindex(list_name,find_num):\n",
    "    return_list = []\n",
    "    for i in range(len(list_name)):\n",
    "        if list_name[i] == find_num:\n",
    "            return_list.append(i)\n",
    "    return return_list\n",
    "    \n",
    "lis = [1,2,3,1,4,2,1]\n",
    "print(allindex(lis,1))\n",
    "# print(lis.count(1))"
   ]
  },
  {
   "cell_type": "markdown",
   "metadata": {},
   "source": [
    "# 실습 02"
   ]
  },
  {
   "cell_type": "code",
   "execution_count": 3,
   "metadata": {},
   "outputs": [
    {
     "name": "stdout",
     "output_type": "stream",
     "text": [
      "15\n",
      "120\n"
     ]
    }
   ],
   "source": [
    "def calc(*args):\n",
    "    temp = 0\n",
    "    for i in range(1,len(args)):\n",
    "        if args[0] == '+':\n",
    "            temp += args[i]\n",
    "        elif args[0] == '*':\n",
    "            if i == 1:\n",
    "                temp += 1\n",
    "            temp *= args[i]\n",
    "    return temp\n",
    "print(calc('+',1,2,3,4,5))\n",
    "print(calc('*',1,2,3,4,5))"
   ]
  },
  {
   "cell_type": "markdown",
   "metadata": {},
   "source": [
    "# 실습 03 \n",
    "### 재귀함수\n",
    "아직 익숙하지 않아서 어려움.."
   ]
  },
  {
   "cell_type": "code",
   "execution_count": 3,
   "metadata": {},
   "outputs": [
    {
     "name": "stdout",
     "output_type": "stream",
     "text": [
      "120\n"
     ]
    }
   ],
   "source": [
    "# 재귀함수\n",
    "def fac(n):\n",
    "    if n == 1 :\n",
    "        return 1\n",
    "    else :\n",
    "        return fac(n-1)*n\n",
    "print(fac(5))"
   ]
  },
  {
   "cell_type": "code",
   "execution_count": 4,
   "metadata": {},
   "outputs": [
    {
     "name": "stdout",
     "output_type": "stream",
     "text": [
      "15\n"
     ]
    }
   ],
   "source": [
    "# (1)\n",
    "def f_sum(n):\n",
    "    if n == 1:\n",
    "        return 1\n",
    "    return f_sum(n-1)+n\n",
    "\n",
    "\n",
    "\n",
    "print(f_sum(5))   "
   ]
  },
  {
   "cell_type": "code",
   "execution_count": 12,
   "metadata": {},
   "outputs": [
    {
     "name": "stdout",
     "output_type": "stream",
     "text": [
      "\n",
      "1234 --------\n",
      "\n",
      "4 --------!!!!!!!!!!!\n",
      "\n",
      "123 --------\n",
      "\n",
      "3 --------!!!!!!!!!!!\n",
      "\n",
      "12 --------\n",
      "\n",
      "2 --------!!!!!!!!!!!\n",
      "\n",
      "1 --------\n",
      "\n",
      "4\n",
      "3\n",
      "2\n",
      "1\n",
      "\n",
      "4\n"
     ]
    }
   ],
   "source": [
    "# (2)\n",
    "def f_number(n):\n",
    "    print()\n",
    "    print(n,\"--------\")\n",
    "    print()\n",
    "    if len(str(n))==1:\n",
    "        return n\n",
    "    print(str(n)[-1:],\"--------!!!!!!!!!!!\")\n",
    "    return str(n)[-1:]+\"\\n\"+f_number(str(n)[:-1])\n",
    "        \n",
    "print(f_number(1234))\n",
    "print()\n",
    "print(str(1234)[-1:])"
   ]
  },
  {
   "cell_type": "markdown",
   "metadata": {},
   "source": [
    "# 실습 04\n",
    "### 람다"
   ]
  },
  {
   "cell_type": "code",
   "execution_count": 21,
   "metadata": {},
   "outputs": [
    {
     "name": "stdout",
     "output_type": "stream",
     "text": [
      "8 0\n",
      "8 1\n",
      "7 2\n",
      "7 3\n",
      "6 4\n",
      "5 5\n"
     ]
    },
    {
     "ename": "IndexError",
     "evalue": "list index out of range",
     "output_type": "error",
     "traceback": [
      "\u001b[1;31m---------------------------------------------------------------------------\u001b[0m",
      "\u001b[1;31mIndexError\u001b[0m                                Traceback (most recent call last)",
      "\u001b[1;32m<ipython-input-21-674c6a19971d>\u001b[0m in \u001b[0;36m<module>\u001b[1;34m\u001b[0m\n\u001b[0;32m      3\u001b[0m \u001b[1;33m\u001b[0m\u001b[0m\n\u001b[0;32m      4\u001b[0m     \u001b[0mprint\u001b[0m\u001b[1;33m(\u001b[0m\u001b[0mlen\u001b[0m\u001b[1;33m(\u001b[0m\u001b[0mnumber\u001b[0m\u001b[1;33m)\u001b[0m\u001b[1;33m,\u001b[0m \u001b[0mi\u001b[0m\u001b[1;33m)\u001b[0m\u001b[1;33m\u001b[0m\u001b[1;33m\u001b[0m\u001b[0m\n\u001b[1;32m----> 5\u001b[1;33m     \u001b[1;32mif\u001b[0m \u001b[0mnumber\u001b[0m\u001b[1;33m[\u001b[0m\u001b[0mi\u001b[0m\u001b[1;33m]\u001b[0m \u001b[1;33m<\u001b[0m \u001b[1;36m0\u001b[0m\u001b[1;33m:\u001b[0m\u001b[1;33m\u001b[0m\u001b[1;33m\u001b[0m\u001b[0m\n\u001b[0m\u001b[0;32m      6\u001b[0m         \u001b[0mnumber\u001b[0m\u001b[1;33m.\u001b[0m\u001b[0mremove\u001b[0m\u001b[1;33m(\u001b[0m\u001b[0mnumber\u001b[0m\u001b[1;33m[\u001b[0m\u001b[0mi\u001b[0m\u001b[1;33m]\u001b[0m\u001b[1;33m)\u001b[0m\u001b[1;33m\u001b[0m\u001b[1;33m\u001b[0m\u001b[0m\n\u001b[0;32m      7\u001b[0m     \u001b[1;32melse\u001b[0m \u001b[1;33m:\u001b[0m\u001b[1;33m\u001b[0m\u001b[1;33m\u001b[0m\u001b[0m\n",
      "\u001b[1;31mIndexError\u001b[0m: list index out of range"
     ]
    }
   ],
   "source": [
    "number = [0, -11, 31, 22, -11, 33, -44, -55]\n",
    "for i in range(len(number)):\n",
    "    \n",
    "    print(len(number), i)\n",
    "    if number[i] < 0:\n",
    "        number.remove(number[i])\n",
    "    else :\n",
    "        pass\n",
    "print(number)"
   ]
  },
  {
   "cell_type": "code",
   "execution_count": 25,
   "metadata": {},
   "outputs": [
    {
     "name": "stdout",
     "output_type": "stream",
     "text": [
      "[0, -11, 31, 22, -11, 33, -44, -55] 0\n",
      "[0, 31, 22, -11, 33, -44, -55] -11\n",
      "[0, 31, 22, -11, 33, -44, -55] 22\n",
      "[0, 31, 22, 33, -44, -55] -11\n",
      "[0, 31, 22, 33, -55] -44\n"
     ]
    }
   ],
   "source": [
    "number = [0, -11, 31, 22, -11, 33, -44, -55]\n",
    "for i in number:\n",
    "    if i < 0:\n",
    "        number.remove(i)\n",
    "    else :\n",
    "        pass\n",
    "    print(number, i)\n",
    "# print(number)"
   ]
  },
  {
   "cell_type": "code",
   "execution_count": 6,
   "metadata": {},
   "outputs": [
    {
     "name": "stdout",
     "output_type": "stream",
     "text": [
      "['불합격', '불합격', '대기', '불합격', '불합격', '불합격', '합격', '대기']\n"
     ]
    }
   ],
   "source": [
    "#(1)\n",
    "number = [12,32,55,12,32,4,86,50]\n",
    "new_number = list(map(lambda x:'합격' if x > 60 else '불합격' if x < 50 else '대기',number))\n",
    "print(new_number)"
   ]
  },
  {
   "cell_type": "code",
   "execution_count": 80,
   "metadata": {},
   "outputs": [
    {
     "name": "stdout",
     "output_type": "stream",
     "text": [
      "['1.jpg', '23.jpg', '223.jpg']\n"
     ]
    }
   ],
   "source": [
    "#(2)\n",
    "files = [\"memo.txt\", \"1.jpg\", \"32.png\", \"23.jpg\", \"223.jpg\"]\n",
    "files = (list(filter(lambda x:x.find('jpg') != -1,files)))\n",
    "print(files)\n",
    "# x.find('jpg')는 x에'jpg'가 들어 있다면 해당 인덱스를 반환한다. 즉, 위에선 1,3,4 를 반환한다 \n",
    "# 하지만 'jpg'가 들어있지 않다면 -1을 반환한다.\n",
    "# 이를 통해 x.find('jpg') != -1이 True일때만 filter을 통해 'jpg'가 있는 것들만 들어간다. "
   ]
  },
  {
   "cell_type": "code",
   "execution_count": 81,
   "metadata": {},
   "outputs": [
    {
     "name": "stdout",
     "output_type": "stream",
     "text": [
      "[]\n"
     ]
    }
   ],
   "source": [
    "files = [\"memo.txt\", \"1.jpg\", \"32.png\", \"23.jpg\", \"223.jpg\"]\n",
    "files = (list(filter(lambda x:x.find('jpg') == True,files)))\n",
    "print(files)\n",
    "# x.find('jpg')는 -1또는 조건을 만족하는 문자열의 인덱스를 반환한다.\n",
    "# 따라서 x.find('jpg') == True 의 결과는 항상 False가 나오므로\n",
    "# filter에서 빈 리스트인 []가 나온다."
   ]
  },
  {
   "cell_type": "code",
   "execution_count": 60,
   "metadata": {},
   "outputs": [
    {
     "name": "stdout",
     "output_type": "stream",
     "text": [
      "memo.txt\n",
      "-1\n",
      "1.jpg\n",
      "2\n",
      "32.png\n",
      "-1\n",
      "23.jpg\n",
      "3\n",
      "223.jpg\n",
      "4\n"
     ]
    }
   ],
   "source": [
    "files = [\"memo.txt\", \"1.jpg\", \"32.png\", \"23.jpg\", \"223.jpg\"]\n",
    "for i in files:\n",
    "    print(i)\n",
    "    print(i.find('jpg'))"
   ]
  },
  {
   "cell_type": "markdown",
   "metadata": {},
   "source": [
    "# 클래스 실습 01"
   ]
  },
  {
   "cell_type": "code",
   "execution_count": 8,
   "metadata": {},
   "outputs": [],
   "source": [
    "class Car:\n",
    "    car_count = 0\n",
    "    \n",
    "    def __init__(self, name, cc, age):\n",
    "        self.name = name\n",
    "        self.cc = cc\n",
    "        self.age = age\n",
    "        Car.car_count += 1\n",
    "\n",
    "    def car_size(self):\n",
    "        if self.cc > 2000:\n",
    "            print('{0}cc 대형차'.format(self.cc))\n",
    "        elif self.cc > 999:\n",
    "            print('{0}cc 중형차'.format(self.cc))\n",
    "        else:\n",
    "            print('{0}cc 소형차'.format(self.cc))\n",
    "    \n",
    "    def car_age(self):\n",
    "        print(\"연식은 {0}식 입니다.\".format(self.age))\n",
    "\n",
    "    def carCount(self):\n",
    "        print(\"등록된 차량은 {0}대 입니다.\".format(Car.car_count))"
   ]
  },
  {
   "cell_type": "code",
   "execution_count": 9,
   "metadata": {},
   "outputs": [],
   "source": [
    "my_car = Car(\"ace\", 1000, 1994)"
   ]
  },
  {
   "cell_type": "code",
   "execution_count": 10,
   "metadata": {},
   "outputs": [
    {
     "name": "stdout",
     "output_type": "stream",
     "text": [
      "등록된 차량은 1대 입니다.\n",
      "1000cc 중형차\n",
      "연식은 1994식 입니다.\n"
     ]
    }
   ],
   "source": [
    "my_car.carCount()\n",
    "my_car.car_size()\n",
    "my_car.car_age()"
   ]
  },
  {
   "cell_type": "code",
   "execution_count": 95,
   "metadata": {},
   "outputs": [
    {
     "name": "stdout",
     "output_type": "stream",
     "text": [
      "[1 2 3]\t\t[10 20 30]\n",
      "[4 5 6]\t\t[40 50 60]\n",
      "[7 8 9]\t\t[70 80 90]\n",
      "[[11 22 33]\n",
      " [44 55 66]\n",
      " [77 88 99]]\n",
      "[[ 300  360  420]\n",
      " [ 660  810  960]\n",
      " [1020 1260 1500]]\n"
     ]
    }
   ],
   "source": [
    "import numpy as np\n",
    "x = np.array([1,2,3,4,5,6,7,8,9]).reshape(3,3)\n",
    "y = np.array([10,20,30,40,50,60,70,80,90]).reshape(3,3)\n",
    "for i in range(len(x)):\n",
    "    print(\"{0}\\t\\t{1}\".format(x[i], y[i]))\n",
    "print(x+y)\n",
    "print(x.dot(y))"
   ]
  },
  {
   "cell_type": "code",
   "execution_count": 96,
   "metadata": {},
   "outputs": [
    {
     "name": "stdout",
     "output_type": "stream",
     "text": [
      "[ 1.          1.65517241  2.31034483  2.96551724  3.62068966  4.27586207\n",
      "  4.93103448  5.5862069   6.24137931  6.89655172  7.55172414  8.20689655\n",
      "  8.86206897  9.51724138 10.17241379 10.82758621 11.48275862 12.13793103\n",
      " 12.79310345 13.44827586 14.10344828 14.75862069 15.4137931  16.06896552\n",
      " 16.72413793 17.37931034 18.03448276 18.68965517 19.34482759 20.        ]\n"
     ]
    }
   ],
   "source": [
    "print(np.linspace(1,20,30))"
   ]
  },
  {
   "cell_type": "code",
   "execution_count": 127,
   "metadata": {},
   "outputs": [
    {
     "name": "stdout",
     "output_type": "stream",
     "text": [
      "[[1 2 2 2 1 2 1 1 1 1]\n",
      " [2 2 1 1 1 1 1 1 2 1]\n",
      " [1 2 2 2 2 2 1 2 2 2]\n",
      " [1 1 2 2 2 1 1 2 1 2]\n",
      " [2 2 2 1 2 1 1 1 1 2]\n",
      " [2 2 1 2 2 2 2 1 2 2]\n",
      " [2 1 2 2 1 2 1 1 2 2]\n",
      " [1 2 2 2 1 2 1 2 1 1]\n",
      " [2 1 2 1 1 2 1 1 1 2]\n",
      " [1 2 2 1 1 1 1 2 1 1]]\n",
      "\n",
      "[[2 1 1 2 2 2 2 1 2 2]\n",
      " [2 2 2 1 2 1 1 1 1 2]\n",
      " [2 1 2 1 2 2 2 2 1 2]\n",
      " [2 2 1 2 1 2 1 2 2 1]\n",
      " [1 2 1 2 1 1 1 1 2 2]\n",
      " [1 1 2 2 1 1 2 1 1 2]\n",
      " [1 1 1 2 1 1 2 2 2 2]\n",
      " [2 2 2 1 1 1 1 1 1 1]\n",
      " [2 2 2 1 2 2 1 1 1 1]\n",
      " [2 2 1 1 2 2 1 2 2 1]]\n",
      "\n",
      "[[1 2 1 1 2]\n",
      " [1 2 2 2 2]\n",
      " [1 1 1 1 1]\n",
      " [2 1 1 1 1]\n",
      " [2 1 2 2 1]]\n"
     ]
    }
   ],
   "source": [
    "temp = np.random.choice(100, size=(2,10,10)) # 1~100의 랜덤한 숫자로 채운 10*10 배열 2개 생성\n",
    "temp = np.where(temp >= 50, temp, 1) # 넘파이 배열 내 50이상인 값을 1로 변환\n",
    "temp = np.where(temp < 50, temp, 2) # 넘파이 배열 내 50미만인 값을 2로 변환\n",
    "temp_2 = np.split(temp[1],2) # 가로로 자르고 2개로 반환 (위=[0], 아래=[1])\n",
    "temp_3 = np.split(temp_2[1],2, axis=1) # 세로로 자르고 2개로 반환 (왼쪽=[0], 오른쪽=[1])\n",
    "print(\"{0}\\n\\n{1}\\n\\n{2}\".format(temp[0], temp[1], temp_3[1]))"
   ]
  },
  {
   "cell_type": "code",
   "execution_count": 115,
   "metadata": {},
   "outputs": [
    {
     "name": "stdout",
     "output_type": "stream",
     "text": [
      "[[ 0  1  2  3]\n",
      " [ 4  5  6  7]\n",
      " [ 8  9 10 11]\n",
      " [12 13 14 15]]\n"
     ]
    },
    {
     "data": {
      "text/plain": [
       "[array([[0, 1, 2, 3],\n",
       "        [4, 5, 6, 7]]),\n",
       " array([[ 8,  9, 10, 11],\n",
       "        [12, 13, 14, 15]])]"
      ]
     },
     "execution_count": 115,
     "metadata": {},
     "output_type": "execute_result"
    }
   ],
   "source": [
    "x = np.arange(16).reshape(4,4)\n",
    "print(x)\n",
    "np.split(x,2)"
   ]
  }
 ],
 "metadata": {
  "kernelspec": {
   "display_name": "Python 3",
   "language": "python",
   "name": "python3"
  },
  "language_info": {
   "codemirror_mode": {
    "name": "ipython",
    "version": 3
   },
   "file_extension": ".py",
   "mimetype": "text/x-python",
   "name": "python",
   "nbconvert_exporter": "python",
   "pygments_lexer": "ipython3",
   "version": "3.7.9"
  }
 },
 "nbformat": 4,
 "nbformat_minor": 4
}
