{
 "cells": [
  {
   "cell_type": "markdown",
   "metadata": {
    "id": "q1Q9mWDrgMUn"
   },
   "source": [
    "# 8장. 핵심 키워드 추출 (Keyword Extraction)"
   ]
  },
  {
   "cell_type": "markdown",
   "metadata": {
    "id": "PSZIeetL8Yym"
   },
   "source": [
    "# 8-0 데이터 준비"
   ]
  },
  {
   "cell_type": "markdown",
   "metadata": {
    "id": "hpTxmnbx8v6m"
   },
   "source": [
    "## Mecab 설치 (필요시)"
   ]
  },
  {
   "cell_type": "code",
   "execution_count": null,
   "metadata": {
    "colab": {
     "base_uri": "https://localhost:8080/"
    },
    "executionInfo": {
     "elapsed": 15411,
     "status": "ok",
     "timestamp": 1624977751445,
     "user": {
      "displayName": "홍경수",
      "photoUrl": "",
      "userId": "10514684854108920109"
     },
     "user_tz": -540
    },
    "id": "qsWnZkd78qCA",
    "outputId": "c551176f-1543-47d2-9584-b5b866fcf91d"
   },
   "outputs": [
    {
     "name": "stdout",
     "output_type": "stream",
     "text": [
      "Reading package lists... Done\n",
      "Building dependency tree       \n",
      "Reading state information... Done\n",
      "Package openjdk-7-jdk is not available, but is referred to by another package.\n",
      "This may mean that the package is missing, has been obsoleted, or\n",
      "is only available from another source\n",
      "\n",
      "E: Package 'openjdk-7-jdk' has no installation candidate\n",
      "Reading package lists... Done\n",
      "Building dependency tree       \n",
      "Reading state information... Done\n",
      "python-dev is already the newest version (2.7.15~rc1-1).\n",
      "0 upgraded, 0 newly installed, 0 to remove and 81 not upgraded.\n",
      "Requirement already satisfied: konlpy in /usr/local/lib/python3.7/dist-packages (0.5.2)\n",
      "Requirement already satisfied: tweepy>=3.7.0 in /usr/local/lib/python3.7/dist-packages (from konlpy) (3.10.0)\n",
      "Requirement already satisfied: numpy>=1.6 in /usr/local/lib/python3.7/dist-packages (from konlpy) (1.19.5)\n",
      "Requirement already satisfied: lxml>=4.1.0 in /usr/local/lib/python3.7/dist-packages (from konlpy) (4.2.6)\n",
      "Requirement already satisfied: colorama in /usr/local/lib/python3.7/dist-packages (from konlpy) (0.4.4)\n",
      "Requirement already satisfied: beautifulsoup4==4.6.0 in /usr/local/lib/python3.7/dist-packages (from konlpy) (4.6.0)\n",
      "Requirement already satisfied: JPype1>=0.7.0 in /usr/local/lib/python3.7/dist-packages (from konlpy) (1.3.0)\n",
      "Requirement already satisfied: six>=1.10.0 in /usr/local/lib/python3.7/dist-packages (from tweepy>=3.7.0->konlpy) (1.15.0)\n",
      "Requirement already satisfied: requests[socks]>=2.11.1 in /usr/local/lib/python3.7/dist-packages (from tweepy>=3.7.0->konlpy) (2.23.0)\n",
      "Requirement already satisfied: requests-oauthlib>=0.7.0 in /usr/local/lib/python3.7/dist-packages (from tweepy>=3.7.0->konlpy) (1.3.0)\n",
      "Requirement already satisfied: typing-extensions; python_version < \"3.8\" in /usr/local/lib/python3.7/dist-packages (from JPype1>=0.7.0->konlpy) (3.7.4.3)\n",
      "Requirement already satisfied: urllib3!=1.25.0,!=1.25.1,<1.26,>=1.21.1 in /usr/local/lib/python3.7/dist-packages (from requests[socks]>=2.11.1->tweepy>=3.7.0->konlpy) (1.24.3)\n",
      "Requirement already satisfied: idna<3,>=2.5 in /usr/local/lib/python3.7/dist-packages (from requests[socks]>=2.11.1->tweepy>=3.7.0->konlpy) (2.10)\n",
      "Requirement already satisfied: certifi>=2017.4.17 in /usr/local/lib/python3.7/dist-packages (from requests[socks]>=2.11.1->tweepy>=3.7.0->konlpy) (2021.5.30)\n",
      "Requirement already satisfied: chardet<4,>=3.0.2 in /usr/local/lib/python3.7/dist-packages (from requests[socks]>=2.11.1->tweepy>=3.7.0->konlpy) (3.0.4)\n",
      "Requirement already satisfied: PySocks!=1.5.7,>=1.5.6; extra == \"socks\" in /usr/local/lib/python3.7/dist-packages (from requests[socks]>=2.11.1->tweepy>=3.7.0->konlpy) (1.7.1)\n",
      "Requirement already satisfied: oauthlib>=3.0.0 in /usr/local/lib/python3.7/dist-packages (from requests-oauthlib>=0.7.0->tweepy>=3.7.0->konlpy) (3.1.1)\n",
      "Reading package lists... Done\n",
      "Building dependency tree       \n",
      "Reading state information... Done\n",
      "python3-dev is already the newest version (3.6.7-1~18.04).\n",
      "0 upgraded, 0 newly installed, 0 to remove and 81 not upgraded.\n",
      "Requirement already satisfied: konlpy in /usr/local/lib/python3.7/dist-packages (0.5.2)\n",
      "Requirement already satisfied: beautifulsoup4==4.6.0 in /usr/local/lib/python3.7/dist-packages (from konlpy) (4.6.0)\n",
      "Requirement already satisfied: lxml>=4.1.0 in /usr/local/lib/python3.7/dist-packages (from konlpy) (4.2.6)\n",
      "Requirement already satisfied: numpy>=1.6 in /usr/local/lib/python3.7/dist-packages (from konlpy) (1.19.5)\n",
      "Requirement already satisfied: JPype1>=0.7.0 in /usr/local/lib/python3.7/dist-packages (from konlpy) (1.3.0)\n",
      "Requirement already satisfied: colorama in /usr/local/lib/python3.7/dist-packages (from konlpy) (0.4.4)\n",
      "Requirement already satisfied: tweepy>=3.7.0 in /usr/local/lib/python3.7/dist-packages (from konlpy) (3.10.0)\n",
      "Requirement already satisfied: typing-extensions; python_version < \"3.8\" in /usr/local/lib/python3.7/dist-packages (from JPype1>=0.7.0->konlpy) (3.7.4.3)\n",
      "Requirement already satisfied: six>=1.10.0 in /usr/local/lib/python3.7/dist-packages (from tweepy>=3.7.0->konlpy) (1.15.0)\n",
      "Requirement already satisfied: requests[socks]>=2.11.1 in /usr/local/lib/python3.7/dist-packages (from tweepy>=3.7.0->konlpy) (2.23.0)\n",
      "Requirement already satisfied: requests-oauthlib>=0.7.0 in /usr/local/lib/python3.7/dist-packages (from tweepy>=3.7.0->konlpy) (1.3.0)\n",
      "Requirement already satisfied: certifi>=2017.4.17 in /usr/local/lib/python3.7/dist-packages (from requests[socks]>=2.11.1->tweepy>=3.7.0->konlpy) (2021.5.30)\n",
      "Requirement already satisfied: chardet<4,>=3.0.2 in /usr/local/lib/python3.7/dist-packages (from requests[socks]>=2.11.1->tweepy>=3.7.0->konlpy) (3.0.4)\n",
      "Requirement already satisfied: urllib3!=1.25.0,!=1.25.1,<1.26,>=1.21.1 in /usr/local/lib/python3.7/dist-packages (from requests[socks]>=2.11.1->tweepy>=3.7.0->konlpy) (1.24.3)\n",
      "Requirement already satisfied: idna<3,>=2.5 in /usr/local/lib/python3.7/dist-packages (from requests[socks]>=2.11.1->tweepy>=3.7.0->konlpy) (2.10)\n",
      "Requirement already satisfied: PySocks!=1.5.7,>=1.5.6; extra == \"socks\" in /usr/local/lib/python3.7/dist-packages (from requests[socks]>=2.11.1->tweepy>=3.7.0->konlpy) (1.7.1)\n",
      "Requirement already satisfied: oauthlib>=3.0.0 in /usr/local/lib/python3.7/dist-packages (from requests-oauthlib>=0.7.0->tweepy>=3.7.0->konlpy) (3.1.1)\n",
      "Reading package lists... Done\n",
      "Building dependency tree       \n",
      "Reading state information... Done\n",
      "curl is already the newest version (7.58.0-2ubuntu3.13).\n",
      "0 upgraded, 0 newly installed, 0 to remove and 81 not upgraded.\n",
      "mecab-ko is already installed\n",
      "mecab-ko-dic is already installed\n",
      "mecab-python is already installed\n",
      "Done.\n"
     ]
    }
   ],
   "source": [
    "# !sudo apt-get install g++ openjdk-7-jdk # Install Java 1.7+\n",
    "# !sudo apt-get install python-dev; pip install konlpy     # Python 2.x\n",
    "# !sudo apt-get install python3-dev; pip3 install konlpy   # Python 3.x\n",
    "# !sudo apt-get install curl\n",
    "# !bash <(curl -s https://raw.githubusercontent.com/konlpy/konlpy/master/scripts/mecab.sh)"
   ]
  },
  {
   "cell_type": "markdown",
   "metadata": {
    "id": "jxsBfWirA9ao"
   },
   "source": [
    "# 8-1 TF-IDF 활용 핵심키워드 추출"
   ]
  },
  {
   "cell_type": "markdown",
   "metadata": {
    "id": "u8UYUNHDNMVp"
   },
   "source": [
    "## 실습 1. sklearn 활용\n"
   ]
  },
  {
   "cell_type": "code",
   "execution_count": 6,
   "metadata": {},
   "outputs": [
    {
     "name": "stdout",
     "output_type": "stream",
     "text": [
      "Package                            Version\n",
      "---------------------------------- -------------------\n",
      "alabaster                          0.7.12\n",
      "anaconda-client                    1.7.2\n",
      "anaconda-project                   0.9.1\n",
      "anyio                              2.2.0\n",
      "appdirs                            1.4.4\n",
      "argh                               0.26.2\n",
      "argon2-cffi                        20.1.0\n",
      "asn1crypto                         1.4.0\n",
      "astroid                            2.5\n",
      "astropy                            4.2.1\n",
      "async-generator                    1.10\n",
      "atomicwrites                       1.4.0\n",
      "attrs                              20.3.0\n",
      "autopep8                           1.5.6\n",
      "Babel                              2.9.0\n",
      "backcall                           0.2.0\n",
      "backports.shutil-get-terminal-size 1.0.0\n",
      "bcrypt                             3.2.0\n",
      "beautifulsoup4                     4.6.0\n",
      "bitarray                           1.9.2\n",
      "bkcharts                           0.2\n",
      "black                              19.10b0\n",
      "bleach                             3.3.0\n",
      "bokeh                              2.3.2\n",
      "boto                               2.49.0\n",
      "Bottleneck                         1.3.2\n",
      "brotlipy                           0.7.0\n",
      "certifi                            2020.12.5\n",
      "cffi                               1.14.5\n",
      "chardet                            4.0.0\n",
      "click                              7.1.2\n",
      "cloudpickle                        1.6.0\n",
      "clyent                             1.2.2\n",
      "colorama                           0.4.4\n",
      "comtypes                           1.1.9\n",
      "contextlib2                        0.6.0.post1\n",
      "cryptography                       3.4.7\n",
      "cycler                             0.10.0\n",
      "Cython                             0.29.21\n",
      "cytoolz                            0.11.0\n",
      "dask                               2021.4.0\n",
      "decorator                          5.0.6\n",
      "defusedxml                         0.7.1\n",
      "diff-match-patch                   20200713\n",
      "distributed                        2021.4.0\n",
      "docutils                           0.17\n",
      "entrypoints                        0.3\n",
      "et-xmlfile                         1.0.1\n",
      "fastcache                          1.1.0\n",
      "filelock                           3.0.12\n",
      "flake8                             3.9.0\n",
      "Flask                              1.1.2\n",
      "fsspec                             0.9.0\n",
      "future                             0.18.2\n",
      "gensim                             4.0.1\n",
      "gevent                             21.1.2\n",
      "glob2                              0.7\n",
      "greenlet                           1.0.0\n",
      "h5py                               2.10.0\n",
      "HeapDict                           1.0.1\n",
      "html5lib                           1.1\n",
      "idna                               2.10\n",
      "imagecodecs                        2021.3.31\n",
      "imageio                            2.9.0\n",
      "imagesize                          1.2.0\n",
      "importlib-metadata                 3.10.0\n",
      "iniconfig                          1.1.1\n",
      "intervaltree                       3.1.0\n",
      "ipykernel                          5.3.4\n",
      "ipython                            7.22.0\n",
      "ipython-genutils                   0.2.0\n",
      "ipywidgets                         7.6.3\n",
      "isort                              5.8.0\n",
      "itsdangerous                       1.1.0\n",
      "jdcal                              1.4.1\n",
      "jedi                               0.17.2\n",
      "Jinja2                             2.11.3\n",
      "joblib                             1.0.1\n",
      "JPype1                             1.1.2\n",
      "json5                              0.9.5\n",
      "jsonschema                         3.2.0\n",
      "jupyter                            1.0.0\n",
      "jupyter-client                     6.1.12\n",
      "jupyter-console                    6.4.0\n",
      "jupyter-core                       4.7.1\n",
      "jupyter-packaging                  0.7.12\n",
      "jupyter-server                     1.4.1\n",
      "jupyterlab                         3.0.14\n",
      "jupyterlab-pygments                0.1.2\n",
      "jupyterlab-server                  2.4.0\n",
      "jupyterlab-widgets                 1.0.0\n",
      "keyring                            22.3.0\n",
      "kiwisolver                         1.3.1\n",
      "konlpy                             0.5.2\n",
      "lazy-object-proxy                  1.6.0\n",
      "libarchive-c                       2.9\n",
      "llvmlite                           0.36.0\n",
      "locket                             0.2.1\n",
      "lxml                               4.6.3\n",
      "MarkupSafe                         1.1.1\n",
      "matplotlib                         3.3.4\n",
      "mccabe                             0.6.1\n",
      "mecab-python                       0.996-ko-0.9.2-msvc\n",
      "menuinst                           1.4.16\n",
      "mistune                            0.8.4\n",
      "mkl-fft                            1.3.0\n",
      "mkl-random                         1.2.1\n",
      "mkl-service                        2.3.0\n",
      "mock                               4.0.3\n",
      "more-itertools                     8.7.0\n",
      "mpmath                             1.2.1\n",
      "msgpack                            1.0.2\n",
      "multipledispatch                   0.6.0\n",
      "mypy-extensions                    0.4.3\n",
      "nbclassic                          0.2.6\n",
      "nbclient                           0.5.3\n",
      "nbconvert                          6.0.7\n",
      "nbformat                           5.1.3\n",
      "nest-asyncio                       1.5.1\n",
      "networkx                           2.5\n",
      "nltk                               3.6.1\n",
      "nose                               1.3.7\n",
      "notebook                           6.3.0\n",
      "numba                              0.53.1\n",
      "numexpr                            2.7.3\n",
      "numpy                              1.20.1\n",
      "numpydoc                           1.1.0\n",
      "oauthlib                           3.1.1\n",
      "olefile                            0.46\n",
      "openpyxl                           3.0.7\n",
      "packaging                          20.9\n",
      "pandas                             1.2.4\n",
      "pandocfilters                      1.4.3\n",
      "paramiko                           2.7.2\n",
      "parso                              0.7.0\n",
      "partd                              1.2.0\n",
      "path                               15.1.2\n",
      "pathlib2                           2.3.5\n",
      "pathspec                           0.7.0\n",
      "patsy                              0.5.1\n",
      "pep8                               1.7.1\n",
      "pexpect                            4.8.0\n",
      "pickleshare                        0.7.5\n",
      "Pillow                             8.2.0\n",
      "pip                                21.0.1\n",
      "pkginfo                            1.7.0\n",
      "pluggy                             0.13.1\n",
      "ply                                3.11\n",
      "prometheus-client                  0.10.1\n",
      "prompt-toolkit                     3.0.17\n",
      "psutil                             5.8.0\n",
      "ptyprocess                         0.7.0\n",
      "py                                 1.10.0\n",
      "pycodestyle                        2.6.0\n",
      "pycosat                            0.6.3\n",
      "pycparser                          2.20\n",
      "pycrypto                           2.6.1\n",
      "pycurl                             7.43.0.6\n",
      "pydocstyle                         6.0.0\n",
      "pyerfa                             1.7.3\n",
      "pyflakes                           2.2.0\n",
      "Pygments                           2.8.1\n",
      "pylint                             2.7.4\n",
      "pyls-black                         0.4.6\n",
      "pyls-spyder                        0.3.2\n",
      "PyNaCl                             1.4.0\n",
      "pyodbc                             4.0.0-unsupported\n",
      "pyOpenSSL                          20.0.1\n",
      "pyparsing                          2.4.7\n",
      "pyreadline                         2.1\n",
      "pyrsistent                         0.17.3\n",
      "PySocks                            1.7.1\n",
      "pytest                             6.2.3\n",
      "python-dateutil                    2.8.1\n",
      "python-jsonrpc-server              0.4.0\n",
      "python-language-server             0.36.2\n",
      "pytz                               2021.1\n",
      "PyWavelets                         1.1.1\n",
      "pywin32                            227\n",
      "pywin32-ctypes                     0.2.0\n",
      "pywinpty                           0.5.7\n",
      "PyYAML                             5.4.1\n",
      "pyzmq                              20.0.0\n",
      "QDarkStyle                         2.8.1\n",
      "QtAwesome                          1.0.2\n",
      "qtconsole                          5.0.3\n",
      "QtPy                               1.9.0\n",
      "regex                              2021.4.4\n",
      "requests                           2.25.1\n",
      "requests-oauthlib                  1.3.0\n",
      "rope                               0.18.0\n",
      "Rtree                              0.9.7\n",
      "ruamel-yaml-conda                  0.15.100\n",
      "scikit-image                       0.18.1\n",
      "scikit-learn                       0.24.1\n",
      "scipy                              1.6.2\n",
      "seaborn                            0.11.1\n",
      "Send2Trash                         1.5.0\n",
      "setuptools                         52.0.0.post20210125\n",
      "simplegeneric                      0.8.1\n",
      "singledispatch                     0.0.0\n",
      "six                                1.15.0\n",
      "smart-open                         5.1.0\n",
      "sniffio                            1.2.0\n",
      "snowballstemmer                    2.1.0\n",
      "sortedcollections                  2.1.0\n",
      "sortedcontainers                   2.3.0\n",
      "soupsieve                          2.2.1\n",
      "Sphinx                             4.0.1\n",
      "sphinxcontrib-applehelp            1.0.2\n",
      "sphinxcontrib-devhelp              1.0.2\n",
      "sphinxcontrib-htmlhelp             1.0.3\n",
      "sphinxcontrib-jsmath               1.0.1\n",
      "sphinxcontrib-qthelp               1.0.3\n",
      "sphinxcontrib-serializinghtml      1.1.4\n",
      "sphinxcontrib-websupport           1.2.4\n",
      "spyder                             4.2.5\n",
      "spyder-kernels                     1.10.2\n",
      "SQLAlchemy                         1.4.7\n",
      "statsmodels                        0.12.2\n",
      "sympy                              1.8\n",
      "tables                             3.6.1\n",
      "tblib                              1.7.0\n",
      "terminado                          0.9.4\n",
      "testpath                           0.4.4\n",
      "textdistance                       4.2.1\n",
      "threadpoolctl                      2.1.0\n",
      "three-merge                        0.1.1\n",
      "tifffile                           2021.4.8\n",
      "toml                               0.10.2\n",
      "toolz                              0.11.1\n",
      "tornado                            6.1\n",
      "tqdm                               4.59.0\n",
      "traitlets                          5.0.5\n",
      "tweepy                             3.10.0\n",
      "typed-ast                          1.4.2\n",
      "typing-extensions                  3.7.4.3\n",
      "ujson                              4.0.2\n",
      "unicodecsv                         0.14.1\n",
      "urllib3                            1.26.4\n",
      "watchdog                           1.0.2\n",
      "wcwidth                            0.2.5\n",
      "webencodings                       0.5.1\n",
      "Werkzeug                           1.0.1\n",
      "wheel                              0.36.2\n",
      "widgetsnbextension                 3.5.1\n",
      "win-inet-pton                      1.1.0\n",
      "win-unicode-console                0.5\n",
      "wincertstore                       0.2\n",
      "wrapt                              1.12.1\n",
      "xlrd                               2.0.1\n",
      "XlsxWriter                         1.3.8\n",
      "xlwings                            0.23.0\n",
      "xlwt                               1.3.0\n",
      "yapf                               0.31.0\n",
      "zict                               2.0.0\n",
      "zipp                               3.4.1\n",
      "zope.event                         4.5.0\n",
      "zope.interface                     5.3.0\n"
     ]
    }
   ],
   "source": [
    "!pip list"
   ]
  },
  {
   "cell_type": "code",
   "execution_count": 1,
   "metadata": {
    "colab": {
     "base_uri": "https://localhost:8080/"
    },
    "executionInfo": {
     "elapsed": 3212,
     "status": "ok",
     "timestamp": 1624977754645,
     "user": {
      "displayName": "홍경수",
      "photoUrl": "",
      "userId": "10514684854108920109"
     },
     "user_tz": -540
    },
    "id": "fdsHZk1UBtRP",
    "outputId": "79e2724e-63b9-49ea-ff43-d101b235381e"
   },
   "outputs": [
    {
     "output_type": "stream",
     "name": "stdout",
     "text": [
      "['과기정통부, 22일 유영민 장관 등 참석해 기념행사2021년까지 1516억원 투입, 5100여종 데이터 구축민간 클라우드 통한 외부연계체계도..\"개방성 강화\"[이데일리 이재운 기자] 국가 차원의 빅데이터 활용 시대가 열린다. 새로운 산업 창출과 기존 산업의 변화에 이르는 ‘혁신성장’을 위한 센터가 문을 연다. 10개 분야에 걸쳐 ‘데이터 경제’의 발전을 위한 정부의 청사진을 현실로 구현하는데 앞장선다는 계획이다.22일 과학기술정보통신부는 서울 중구 대한상공회의소에서 데이터 생태계 조성과 혁신 성장의 기반 마련을 위한 ‘빅데이터 플랫폼 및 센터’ 출범식 행사를 개최했다. 유영민 과기정통부 장관을 비롯해 노웅래 국회 과학기술정보방송통신위원회 위원장 등 300여명이 참가했다.◇10개 분야 100개 센터..3년간 1516억원 투입이미지: 픽사베이빅데이터는 데이터 활용을 통해 혁신성장을 이루자는 문재인 정부의 경제 성장 핵심 요소중 하나다. 문재인 대통령이 직접 올 들어 데이터 활용과 이에 따른 정보보호(보안)에 대한 중요성을 강조하기도 했다.이런 맥락 속에서 빅데이터센터는 공공과 민간이 협업해 활용도 높은 양질의 데이터를 생산·구축하고, 플랫폼은 이를 수집·분석·유통하는 역할을 담당한다. 과기정통부는 분야별 플랫폼 10개소와 이와 연계된 기관별 센터 100개소를 구축하는데 3년간 총 1516억원을 투입할 계획이며, 올해 우선 640억원 규모의 사업을 추진하고 있다.대상 분야는 △금융(BC카드) △환경(한국수자원공사) △문화(한국문화정보원) △교통(한국교통연구원) △헬스케어(국립암센터) △유통·소비(매일방송) △통신(KT) △중소기업(더존비즈온) △지역경제(경기도청) △산림(한국임업진흥원) 등으로 현재 1차 공모를 통해 72개 빅데이터 센터를 선정했고, 다음달 8일까지 2차 공모를 통해 28개를 추가 선정해 총 100개를 지원, 운영할 계획이다. 이를 통해 데이터 생태계를 혁신하고 기업의 경쟁력을 제고하는 역할을 수행한다.주요 활용 전략·사례를 보면 빅데이터 활용을 통해 ‘신(新) 시장’을 창출하는 방안을 담고 있다. 금융 플랫폼의 경우 소상공인 신용평가 고도화 등을 통해 금융 취약 계층 대상 중금리 대출이자를 2%p 절감해 연간 1조원의 신규대출을 창출할 전망이다. 유통·소비와 중소기업 플랫폼은 소상공인이나 중소기업의 폐업률 감소를, 문화 플랫폼은 문화·예술 관람률과 생활체육 참여율을 높이는 방안을 모색한다. 의료비 절감(헬스케어)과 기업의 매출 향상을 통한 산업 육성(통신·산림) 등도 눈길을 끈다.과기정통부 제공◇2021년까지 5100여종 데이터 구축..AI 알고리즘 제공도센터는 우선 분야별 데이터 부족 문제를 해소하기 위해 올해 말까지 시장 수요가 높은 1400여종 신규 데이터를 생산ㆍ구축하고, 사업이 완료되는 2021년까지 총 5100여종 양질의 풍부한 데이터를 생산·구축해 시장에 공급할 계획이다.특히 공공과 민간 사이 데이터 파일형식 등이 달라 호환이 제대로 이뤄지지 못한 문제를 해소하기 위해 개방형 표준을 적용하고, 품질관리기준도 마련해 운영한다.기업들이 실제 활용 가능한 최신 데이터를 확보하는데도 수개월이 소요된다는 문제점을 개선하기 위한 방안도 추진한다. 센터와 플랫폼 간 연계체계에는 민간 클라우드를 기반으로 활용하고, 센터에 축적된 데이터도 계속 외부와 개방·공유하며 최신·연속성을 확보한다는 계획이다.100개 센터에서 수집된 데이터를 융합·분석한 뒤 맞춤형 데이터 제작 등 양질의 데이터로 재생산하고, 기업들이 필요로 하는 데이터를 원하는 형태로 즉시 활용할 수 있도록 제공할 계획이다. 다양한 분석 도구는 물론 인공지능(AI) 학습 알고리즘도 제공해 이용자가 보다 사용하기 편리한 환경을 제공한다.이밖에 필요한 데이터를 쉽게 등록하고 검색할 수 있도록 기준을 마련하고, 데이터 보유와 관리에 대한 체계(거버넌스)를 논의하는 ‘데이터 얼라이언스’를 구성해 보다 안전하게 이용하는 방안도 마련했다.유영민 과기정통부 장관은 “오늘 출범식은 대한민국이 데이터 강국으로 가기 위한 초석을 놓은 자리”라며 “세계 주요국들보다 데이터 경제로 나아가는 발걸음이 다소 늦었지만, 빅데이터 플랫폼과 센터를 지렛대로 우리나라의 낙후된 데이터 생태계를 혁신하고 기업의 경쟁력을 한 단계 제고할 수 있도록 정책적 역량을 집중하겠다”고 밝혔다.이재운 ', '한국전력공사[한국전력공사 제공]    (나주=연합뉴스) 송형일 기자 = 한국전력은 전력 데이터를 활용한 신(新)서비스 개발 경진대회가 8월 20일 한전 아트센터에서 개최된다고 18일 밝혔다.    산업통상자원부가 주최하고 한전과 전력그룹사, 광주과학기술원이 주관하는 이번 행사는 전력 빅데이터를 활용하는 새로운 사업 모델 발굴을 위해 마련됐다.    대회 참가를 희망하는 학생·일반인, 벤처기업과 새싹기업은 경진대회 홈페이지(http://contest.kepco.co.kr)에서 18일부터 6월 17일까지 제안서를 내면 된다.    1차 서류심사를 통과한 팀이나 개인은 제공된 전력 데이터를 활용해 서비스를 개발하고, 데이터가 외부 반출이 불가한 경우에는 한전 아트센터에 마련된 데이터 공유센터에서 개발한다.    완성도, 기술성, 상용화 가능성, 확장성 등을 기준으로 사내 직원과 사외 전문위원이 함께 평가한다.    시상은 개인(학생·일반인)과 기업 2개의 부문으로 나눠서 진행한다.    최종 선정 팀에는 총 2천150만 원의 상금을 주며, 수상작의 서비스 솔루션은 에너지마켓플레이스(EN:TER)에 등록해 사업화 할 수 있는 기회를 제공한다.    김종갑 한전 사장은 \"한전의 전력 데이터와 다른 공공기관 및 민간의 데이터를 융합해 보다 가치 있는 대국민 편익서비스를 많이 만들어 내길 기대한다\"고 말했다.   ', '판교\\xa0자율주행\\xa0실증단지\\xa0자율주행\\xa0데이터\\xa0개방\\xa0사업\\xa0선정 [파이낸셜뉴스 수원=장충식 기자] 경기도는 경기도 자율주행센터에서 수집되는 자율주행 관련 데이터를 공공에 개방한다고 14일 밝혔다.   이는 정부의 2020년 국가중점 데이터 개방 지원 사업에 경기도 자율주행센터의 판교 자율주행 실증단지 자율주행 데이터가 선정된 데 따른 조치로, 오는 6월부터 ‘경기도 자율주행센터 자율주행 데이터 개방 사업’이 추진될 예정이다.   이에 따라 누구나 공공데이터포털 및 경기도자율주행센터포털에 접속하면 판교 자율주행 실증단지에서 수집되는 자율주행 관련 데이터를 별도의 데이터 가공 처리 없이 편리하게 활용할 수 있게 된다.   올 하반기부터 2022년까지 3개년에 걸쳐 자율주행 산업 발전에 필요한 데이터가 공공에 개방될 예정으로, 자율주행 산업 활성화에 기여할 것으로 도는 기대하고 있다.   임문영 경기도 미래성장정책관은 “경기도 자율주행센터는 작년 개소 이후, 건강하고 발전적인 자율주행 생태계 조성을 위해 힘써오고 있다”며 “센터는 앞으로도 경기도의 선진화된 자율주행기술 및 방대한 양의 데이터를 활용해 국내 자율주행 기술 발전에 앞장설 것”이라고 말했다.   한편, 경기도는 차세대융합기술연구원과 함께 자율주행 분야 산업생태계를 구축하기 위해 지난해 5월 경기도 자율주행센터를 출범했다.   운전자 없이 주행이 가능한 자율주행 레벨4 수준의 자율주행차 ‘제로셔틀’ 개발과 스타트업의 실증 테스트 및 빅데이터 서비스 등을 지원하는 등 자율주행 분야의 세계적인 실증단지 구축 및 운영을 위해 꾸준한 지원을 이어가고 있다.   ', '통계청·SK텔레콤, 모바일 빅데이터 분석…5월 들어 회복세‘코로나19’ 발생 후 4주차·20대 미만 큰 폭 감소돼코로나19 발생 후 인구 이동을 분석한 결과, 발생 후 4주차 토요일인 2월 29일~3월 1일 가장 큰 폭으로 감소했으며 이후 감소폭이 점차 완화돼 5월 첫째 주를 기해 전년 대비 약 83%로 상당 수준 회복된 것으로 나타났다.인구 이동은 사람 간 접촉 가능성이 상대적으로 높은 상업지역, 관광지, 레저스포츠시설이 대형아울렛이나 주거지역보다 이동량 감소가 큰 편이었으나 5월 초 4일 연휴를 기점으로 관광지와 레저스포츠시설에서 큰 폭으로 늘어난 것으로 파악됐다.이 같은 이동결과는 통계청과 SK텔레콤이 모바일 빅데이터를 기반으로 전국 SKT 가입자의 주중과 주말 인구 이동 정보를 이용해 추정한 결과다.ⓒ코로나19 발생 전후 인구 이동 ⓒ통계청코로나19 발생 전후 대비 ⓒ통계청통계청과 SK텔레콤(시장점유율 약 42%)은 지난해 5월 업무협약을 체결한 이후, 정부혁신의 일환으로 공공·민간 협업을 추진하고 있으며, 통계데이터센터 홈페이지를 통해 모바일 유동인구 지도를 서비스 중이다.분석은 성·연령별, 입지유형별, 17개 시도별로 주중과 주말의 인구 이동 변화를 다각적으로 작년 같은 시기와 비교했으며, 인구 이동은 시·군·구 간 이동을 의미하며 본인이 실거주하는 시·군·구 외 타 시·군·구(행정동)를 30분 이상 방문한 경우를 이동 건수로 집계한 것이다.통계청은 인구 이동량을 등록센서스 인구를 모수로 성과 연령(5세별), 지역(읍·면·동)별 가중치를 적용·추정해본 결과, 코로나19 지역 집단감염(2월20일~29일) 영향으로 발생 후 4주차 토요일(2월29일) 인구 이동량은 작년 같은 주 토요일 대비 가장 큰 폭(-41.9%)으로 감소한 이후 3월부터 감소폭은 점차 완화됐다고 설명했다.이어 발생 후 13주차 토요일인 5월 2일에 상당 수준 회복(약 83%)됐다가 발생 후 14주차 토요일인 5월 9일에는 회복세가 주춤(약 75%)한 것으로 집계됐다.이는 13주차 4일간 연휴(4월30일～5월3일) 기간에 일시 이동량이 크게 늘어난 것으로 보였으며, 특히 연휴가 낀 주말에 코로나19로 인한 인구 이동량 변동이 크게 나타났다.성별·연령별로는 전반적으로 남성보다 여성이, 연령별로는 20세 미만·20대·60대·70세 이상에서 이동량 감소가 큰 편이었다.다만 13주차인 4월 27일〜5월 3일에는 4일간 연휴에 따른 가족 동반 이동이 늘어 여성과 20세 미만의 이동량이 큰 폭으로 늘었다.코로나19 발생 후 입지유형별 이동 ⓒ통계청입지유형별로는 레저스포츠시설이 대형아울렛, 주거지역보다 이동량 감소가 큰 편이었으며, 연휴기간에는 관광지, 레저스포츠시설에서 큰 폭의 증가세를 보였다.입지분류로는 △상업지역 △관광지 △대형아울렛 △사무지역 △레저·스포츠시설 △주거지역 등 6개로 한정했다.시·도별 이동으로는 코로나19 발생 후 제주·강원·부산·대구 등 관광지역이나 대규모 확진자 발생지역을 중심으로 인구 유입이 감소했고, 13주차에는 4일간 연로 전남·전북·충남·강원 등 대도시가 아닌 지역으로 인구 유입이 큰 폭으로 늘어났다.통계청은 앞으로도 각종 사회·경제적 이슈 발생될 때 모바일 빅데이터를 활용해 정부정책에 참고할 수 있는 다양한 기초자료를 제공한다는 방침이다.데일리안 이소희 기자 ', '금융결제원·신용정보원 등 지정비씨카드 추가 포함 여부도 논의시행령 발표한 후 빠르게 추진하반기 데이터 유통·판매 급물살정부가 금융결제원과 신용정보원 등 업권별 9곳의 마이데이터 중계기관을 선정했다. 14일 서울 중구 한국신용정보원에서 마이데이터 태스크포스(TF)가 마이데이터 전송항목 표준화 관련 실무회의를 진행하고 있다. 이동근기자']\n"
     ]
    }
   ],
   "source": [
    "import requests\n",
    "from bs4 import BeautifulSoup\n",
    "import re\n",
    "\n",
    "def get_news_by_url(url):\n",
    "    headers = {'User-Agent': 'Mozilla/5.0 (Windows NT 10.0; Win64; x64) AppleWebKit/537.36 (KHTML, like Gecko) Chrome/91.0.4472.124 Safari/537.36'}\n",
    "    response = requests.get(url, headers=headers)\n",
    "\n",
    "    html = response.text\n",
    "    soup = BeautifulSoup(html, \"html.parser\")\n",
    "    \n",
    "    article = soup.select(\"div._article_body_contents\")[0].text\n",
    "    article = article.split('\\n')[8]\n",
    "    \n",
    "    return article[:re.search(\"\\w+@\\w+\\.\\w+(.\\w+)?\",article).start()-1]\n",
    "docs = []\n",
    "docs.append(get_news_by_url('https://news.naver.com/main/read.nhn?mode=LSD&mid=sec&sid1=105&oid=018&aid=0004430108') )\n",
    "docs.append(get_news_by_url('https://news.naver.com/main/read.nhn?mode=LSD&mid=sec&sid1=101&oid=001&aid=0011614790') )\n",
    "docs.append(get_news_by_url('https://news.naver.com/main/read.nhn?mode=LSD&mid=sec&sid1=102&oid=014&aid=0004424362') )\n",
    "docs.append(get_news_by_url('https://news.naver.com/main/read.nhn?mode=LSD&mid=sec&sid1=101&oid=119&aid=0002402191') )\n",
    "docs.append(get_news_by_url('https://news.naver.com/main/read.nhn?mode=LSD&mid=sec&sid1=101&oid=030&aid=0002882728') )\n",
    "print(docs)\n"
   ]
  },
  {
   "cell_type": "markdown",
   "metadata": {
    "id": "Of0dQ_ALpLw6"
   },
   "source": [
    "### 1) 전처리"
   ]
  },
  {
   "cell_type": "code",
   "execution_count": 2,
   "metadata": {
    "colab": {
     "base_uri": "https://localhost:8080/",
     "height": 35
    },
    "executionInfo": {
     "elapsed": 16,
     "status": "ok",
     "timestamp": 1624977754645,
     "user": {
      "displayName": "홍경수",
      "photoUrl": "",
      "userId": "10514684854108920109"
     },
     "user_tz": -540
    },
    "id": "tfGX-_IxAbgt",
    "outputId": "613afff9-44f4-4a89-a202-52f74e910396"
   },
   "outputs": [
    {
     "output_type": "execute_result",
     "data": {
      "text/plain": [
       "'과기 정통부 장관 참석 기념행사 투입 여종 데이터 구축 민간 외부 연계 체계 개방 강화 기자 국가 차원 빅 데이터 활용 시대 산업 창출 기존 산업 변화 이르 혁신 장 센터 문 분야'"
      ]
     },
     "metadata": {},
     "execution_count": 2
    }
   ],
   "source": [
    "\n",
    "from konlpy.tag import Mecab\n",
    "mecab = Mecab()\n",
    "preprocessed_docs = []\n",
    "for doc in docs:\n",
    "    token_list = []\n",
    "    for token in mecab.pos(doc):\n",
    "        if token[1] in ['NNG', 'VV']:\n",
    "            token_list.append(token[0])\n",
    "    preprocessed_docs.append(\" \".join(token_list))\n",
    "\n",
    "preprocessed_docs[0][:100]"
   ]
  },
  {
   "cell_type": "code",
   "execution_count": 3,
   "metadata": {},
   "outputs": [
    {
     "output_type": "execute_result",
     "data": {
      "text/plain": [
       "'과기 정통부 일 유영민 장관 등 참석 기념행사 년 억 원 투입 여종 데이터 구축 민간 클라우드 외부 연계 체계 개방 강화 데일리 이재운 기자 국가 차원 빅 데이터 활용 시대 산업 '"
      ]
     },
     "metadata": {},
     "execution_count": 3
    }
   ],
   "source": [
    "\n",
    "from konlpy.tag import Mecab\n",
    "import re\n",
    "mecab = Mecab()\n",
    "preprocessed_docs = []\n",
    "for doc in docs:\n",
    "    re_doc = re.sub('[^가-힣]', ' ', doc)\n",
    "    pos_docs = mecab.pos(re_doc)\n",
    "    preprocessed_docs.append(\" \".join(mecab.nouns(re_doc)))\n",
    "\n",
    "preprocessed_docs[0][:100]"
   ]
  },
  {
   "cell_type": "markdown",
   "metadata": {},
   "source": [
    "'과기 정통부 일 유영민 장관 등 참석 기념행사 년 억 원 투입 여종 데이터 구축 민간 클라우드 통한 외부 연계 체계 개방 강화 데일리 이재운 기자 국가 차원 빅 데이터 활용 시대 '"
   ]
  },
  {
   "cell_type": "code",
   "execution_count": 4,
   "metadata": {},
   "outputs": [
    {
     "output_type": "stream",
     "name": "stdout",
     "text": [
      "[('과기', 'NNG'), ('정통부', 'NNG'), ('일', 'NNG'), ('유영민', 'NNP'), ('장관', 'NNG'), ('등', 'NNB'), ('참석', 'NNG'), ('기념행사', 'NNG'), ('년', 'NNBC'), ('억', 'NR'), ('원', 'NNBC'), ('투입', 'NNG'), ('여종', 'NNG'), ('데이터', 'NNG'), ('구축', 'NNG'), ('민간', 'NNG'), ('클라우드', 'NNP'), ('외부', 'NNG'), ('연계', 'NNG'), ('체계', 'NNG'), ('개방', 'NNG'), ('강화', 'NNP'), ('데일리', 'NNP'), ('이재운', 'NNP'), ('기자', 'NNG'), ('국가', 'NNG'), ('차원', 'NNG'), ('빅', 'NNG'), ('데이터', 'NNG'), ('활용', 'NNG'), ('시대', 'NNG'), ('산업', 'NNG'), ('창출', 'NNG'), ('기존', 'NNG'), ('산업', 'NNG'), ('변화', 'NNG'), ('혁신', 'NNG'), ('장', 'NNG'), ('센터', 'NNG'), ('문', 'NNG'), ('개', 'NNBC'), ('분야', 'NNG'), ('데이터', 'NNG'), ('경제', 'NNG'), ('발전', 'NNG'), ('정부', 'NNG'), ('청사진', 'NNG'), ('현실', 'NNG'), ('구현', 'NNG'), ('데', 'NNB'), ('계획', 'NNG'), ('일', 'NR'), ('과학', 'NNG'), ('기술', 'NNG'), ('정보', 'NNG'), ('통신부', 'NNG'), ('서울', 'NNP'), ('중구', 'NNP'), ('대한', 'NNP'), ('상공', 'NNG'), ('회의소', 'NNG'), ('데이터', 'NNG'), ('생태', 'NNG'), ('조성', 'NNG'), ('혁신', 'NNG'), ('성장', 'NNG'), ('기반', 'NNG'), ('마련', 'NNG'), ('빅', 'NNG'), ('데이터', 'NNG'), ('플랫', 'NNG'), ('폼', 'NNG'), ('센터', 'NNG'), ('출범식', 'NNG'), ('행사', 'NNG'), ('개최', 'NNG'), ('유영민', 'NNP'), ('과기', 'NNG'), ('정통부', 'NNG'), ('장관', 'NNG'), ('노웅래', 'NNP'), ('국회', 'NNG'), ('과학', 'NNG'), ('기술', 'NNG'), ('정보', 'NNG'), ('방송', 'NNG'), ('통신', 'NNG'), ('위원회', 'NNG'), ('위원장', 'NNG'), ('등', 'NNB'), ('여명', 'NNG'), ('참가', 'NNG'), ('개', 'NNG'), ('분야', 'NNG'), ('개', 'NNG'), ('센터', 'NNG'), ('년', 'NNB'), ('간', 'NNG'), ('억', 'NR'), ('원', 'NNBC'), ('투입', 'NNG'), ('이미지', 'NNG'), ('픽사', 'NNP'), ('베이', 'NNP'), ('빅', 'NNP'), ('데이터', 'NNG'), ('데이터', 'NNG'), ('활용', 'NNG'), ('혁신', 'NNG'), ('장', 'NNG'), ('문재', 'NNG'), ('정부', 'NNG'), ('경제', 'NNG'), ('성장', 'NNG'), ('핵심', 'NNG'), ('요소', 'NNG'), ('중', 'NNB'), ('하나다', 'NNP'), ('문재인', 'NNP'), ('대통령', 'NNG'), ('데이터', 'NNG'), ('활용', 'NNG'), ('이', 'MM'), ('정보', 'NNG'), ('보호', 'NNG'), ('보안', 'NNG'), ('중요', 'NNG'), ('강조', 'NNG'), ('맥락', 'NNG'), ('속', 'NNG'), ('빅', 'NNG'), ('데이터', 'NNG'), ('센터', 'NNG'), ('공공', 'NNG'), ('민간', 'NNG'), ('협업', 'NNG'), ('활용', 'NNG'), ('양질', 'NNG'), ('데이터', 'NNG'), ('생산', 'NNG'), ('구축', 'NNG'), ('플랫', 'NNG'), ('폼', 'NNG'), ('이', 'MM'), ('수집', 'NNG'), ('분석', 'NNG'), ('유통', 'NNG'), ('역할', 'NNG'), ('담당', 'NNG'), ('과기', 'NNG'), ('정통부', 'NNG'), ('분야', 'NNG'), ('플랫', 'NNG'), ('폼', 'NNG'), ('개소', 'NNG'), ('이', 'MM'), ('연계', 'NNG'), ('기관', 'NNG'), ('센터', 'NNG'), ('개소', 'NNG'), ('구축', 'NNG'), ('데', 'NNB'), ('년', 'NNB'), ('간', 'NNG'), ('억', 'NR'), ('원', 'NNBC'), ('투입', 'NNG'), ('계획', 'NNG'), ('올해', 'NNG'), ('억', 'NR'), ('원', 'NNBC'), ('규모', 'NNG'), ('사업', 'NNG'), ('추진', 'NNG'), ('대상', 'NNG'), ('분야', 'NNG'), ('금융', 'NNG'), ('카드', 'NNG'), ('환경', 'NNG'), ('한국', 'NNP'), ('수자원', 'NNG'), ('공사', 'NNG'), ('문화', 'NNG'), ('한국', 'NNP'), ('문화', 'NNG'), ('정보원', 'NNG'), ('교통', 'NNG'), ('한국', 'NNP'), ('교통', 'NNG'), ('연구원', 'NNG'), ('헬스', 'NNG'), ('국립암센터', 'NNP'), ('유통', 'NNG'), ('소비', 'NNG'), ('방송', 'NNG'), ('통신', 'NNG'), ('중소기업', 'NNG'), ('비즈', 'NNG'), ('지역', 'NNG'), ('경제', 'NNG'), ('경기', 'NNG'), ('도청', 'NNG'), ('산림', 'NNG'), ('한국', 'NNP'), ('임업', 'NNG'), ('흥원', 'NNP'), ('등', 'NNB'), ('차', 'NNG'), ('공모', 'NNG'), ('개', 'NNG'), ('빅', 'NNG'), ('데이터', 'NNG'), ('센터', 'NNG'), ('선정', 'NNG'), ('다음', 'NNG'), ('달', 'NNG'), ('일', 'NR'), ('차', 'NNBC'), ('공모', 'NNG'), ('개', 'NNG'), ('추가', 'NNG'), ('선정', 'NNG'), ('개', 'NNG'), ('지원', 'NNG'), ('운영', 'NNG'), ('계획', 'NNG'), ('이', 'MM'), ('데이터', 'NNG'), ('생태', 'NNG'), ('계', 'XSN'), ('혁신', 'NNG'), ('기업', 'NNG'), ('경쟁력', 'NNG'), ('제고', 'NNG'), ('역할', 'NNG'), ('수행', 'NNG'), ('주요', 'NNG'), ('활용', 'NNG'), ('전략', 'NNG'), ('사례', 'NNG'), ('빅', 'NNG'), ('데이터', 'NNG'), ('활용', 'NNG'), ('시장', 'NNG'), ('창출', 'NNG'), ('방안', 'NNG'), ('금융', 'NNG'), ('플랫', 'NNG'), ('폼', 'NNG'), ('경우', 'NNG'), ('소', 'NNG'), ('상공', 'NNG'), ('신용', 'NNG'), ('평가', 'NNG'), ('고도', 'NNG'), ('등', 'NNB'), ('금융', 'NNG'), ('취약', 'NNG'), ('계층', 'NNG'), ('대상', 'NNG'), ('중', 'NNB'), ('금리', 'NNG'), ('대출', 'NNG'), ('이자', 'NNG'), ('절감', 'NNG'), ('연간', 'NNG'), ('조', 'NR'), ('원', 'NNBC'), ('신규', 'NNG'), ('대출', 'NNG'), ('창출', 'NNG'), ('전망', 'NNG'), ('유통', 'NNG'), ('소비', 'NNG'), ('중소기업', 'NNG'), ('플랫', 'NNG'), ('폼', 'NNG'), ('소상', 'NNG'), ('공인', 'NNG'), ('중소기업', 'NNG'), ('폐업', 'NNG'), ('감소', 'NNG'), ('문화', 'NNG'), ('플랫', 'NNG'), ('폼', 'NNG'), ('문화', 'NNG'), ('예술', 'NNG'), ('관람', 'NNG'), ('생활', 'NNG'), ('체육', 'NNG'), ('참여', 'NNG'), ('방안', 'NNG'), ('모색', 'NNG'), ('의료비', 'NNG'), ('절감', 'NNG'), ('헬스', 'NNG'), ('케어', 'NNG'), ('과', 'NNG'), ('기업', 'NNG'), ('매출', 'NNG'), ('향상', 'NNG'), ('산업', 'NNG'), ('육성', 'NNG'), ('통신', 'NNG'), ('산림', 'NNG'), ('등', 'NNB'), ('눈길', 'NNG'), ('과기', 'NNG'), ('정통부', 'NNG'), ('공', 'NR'), ('년', 'NNBC'), ('여종', 'NNG'), ('데이터', 'NNG'), ('구축', 'NNG'), ('알고리즘', 'NNG'), ('제공', 'NNG'), ('센터', 'NNG'), ('분야', 'NNG'), ('데이터', 'NNG'), ('부족', 'NNG'), ('문제', 'NNG'), ('해소', 'NNG'), ('올해', 'NNG'), ('말', 'NNG'), ('시장', 'NNG'), ('수요', 'NNG'), ('여종', 'NNG'), ('신규', 'NNG'), ('데이터', 'NNG'), ('생산', 'NNG'), ('구축', 'NNG'), ('사업', 'NNG'), ('완료', 'NNG'), ('년', 'NNB'), ('여종', 'NNG'), ('양질', 'NNG'), ('데이터', 'NNG'), ('생산', 'NNG'), ('구축', 'NNG'), ('시장', 'NNG'), ('공급', 'NNG'), ('계획', 'NNG'), ('공공', 'NNG'), ('민간', 'NNG'), ('사이', 'NNG'), ('데이터', 'NNG'), ('파일', 'NNG'), ('형식', 'NNG'), ('등', 'NNB'), ('호환', 'NNG'), ('문제', 'NNG'), ('해소', 'NNG'), ('개방', 'NNG'), ('표준', 'NNG'), ('적용', 'NNG'), ('품질', 'NNG'), ('관리', 'NNG'), ('기준', 'NNG'), ('마련', 'NNG'), ('운영', 'NNG'), ('기업', 'NNG'), ('실제', 'NNG'), ('활용', 'NNG'), ('가능', 'NNG'), ('최신', 'NNG'), ('데이터', 'NNG'), ('확보', 'NNG'), ('데', 'NNB'), ('수개월', 'NNG'), ('소요', 'NNG'), ('문제점', 'NNG'), ('개선', 'NNG'), ('방안', 'NNG'), ('추진', 'NNG'), ('센터', 'NNG'), ('플랫', 'NNG'), ('폼', 'NNG'), ('간', 'NNB'), ('연계', 'NNG'), ('체계', 'NNG'), ('민간', 'NNG'), ('클라우드', 'NNP'), ('기반', 'NNG'), ('활용', 'NNG'), ('센터', 'NNG'), ('축적', 'NNG'), ('데이터', 'NNG'), ('외부', 'NNG'), ('개방', 'NNG'), ('공유', 'NNG'), ('최신', 'NNG'), ('연속', 'NNG'), ('확보', 'NNG'), ('계획', 'NNG'), ('개', 'NNBC'), ('센터', 'NNG'), ('수집', 'NNG'), ('데이터', 'NNG'), ('융합', 'NNG'), ('분석', 'NNG'), ('뒤', 'NNG'), ('맞춤', 'VV+EC'), ('데이터', 'NNG'), ('제작', 'NNG'), ('등', 'NNB'), ('양질', 'NNG'), ('데이터', 'NNG'), ('생산', 'NNG'), ('기업', 'NNG'), ('필요', 'NNG'), ('데이터', 'NNG'), ('형태', 'NNG'), ('활용', 'NNG'), ('수', 'NNG'), ('제공', 'NNG'), ('계획', 'NNG'), ('분석', 'NNG'), ('도구', 'NNG'), ('인공지능', 'NNP'), ('학습', 'NNG'), ('알고리즘', 'NNG'), ('제공', 'NNG'), ('이용자', 'NNG'), ('사용', 'NNG'), ('편리', 'NNG'), ('환경', 'NNG'), ('제공', 'NNG'), ('밖', 'NNG'), ('필요', 'NNG'), ('데이터', 'NNG'), ('등록', 'NNG'), ('검색', 'NNG'), ('수', 'NNG'), ('기준', 'NNG'), ('마련', 'NNG'), ('데이터', 'NNG'), ('보유', 'NNG'), ('관리', 'NNG'), ('체계', 'NNG'), ('거버넌스', 'NNP'), ('논의', 'NNG'), ('데이터', 'NNG'), ('얼라이언스', 'NNP'), ('구성', 'NNG'), ('이용', 'NNG'), ('방안', 'NNG'), ('마련', 'NNG'), ('유영민', 'NNP'), ('과기', 'NNG'), ('정통부', 'NNG'), ('장관', 'NNG'), ('출범식', 'NNG'), ('대한민국', 'NNP'), ('데이터', 'NNG'), ('강국', 'NNG'), ('초석', 'NNG'), ('자리', 'NNG'), ('세계', 'NNG'), ('주요', 'NNG'), ('국', 'NNG'), ('데이터', 'NNG'), ('경제', 'NNG'), ('발걸음', 'NNG'), ('빅', 'NNG'), ('데이터', 'NNG'), ('플랫', 'NNG'), ('폼', 'NNG'), ('센터', 'NNG'), ('지렛대', 'NNG'), ('우리나라', 'NNG'), ('낙후', 'NNG'), ('데이터', 'NNG'), ('생태', 'NNG'), ('계', 'XSN'), ('혁신', 'NNG'), ('기업', 'NNG'), ('경쟁력', 'NNG'), ('단계', 'NNG'), ('제고', 'NNG'), ('수', 'NNG'), ('정책', 'NNG'), ('역량', 'NNG'), ('집중', 'NNG'), ('고', 'NNG'), ('이재운', 'NNP')]\n[('한국전력공사', 'NNP'), ('한국전력공사', 'NNP'), ('제공', 'NNG'), ('나주', 'NNG'), ('연합뉴스', 'NNP'), ('송', 'NNP'), ('형', 'NNG'), ('기자', 'NNG'), ('한국전력', 'NNP'), ('전력', 'NNG'), ('데이터', 'NNG'), ('활용', 'NNG'), ('서비스', 'NNG'), ('개발', 'NNG'), ('경진', 'NNG'), ('대회', 'NNG'), ('월', 'NNG'), ('일', 'NNG'), ('한전', 'NNP'), ('아트', 'NNG'), ('센터', 'NNG'), ('개최', 'NNG'), ('일', 'NNG'), ('산업', 'NNG'), ('통상', 'NNG'), ('자원', 'NNG'), ('부', 'NNG'), ('주최', 'NNG'), ('한전', 'NNP'), ('전력', 'NNG'), ('그룹', 'NNG'), ('광주', 'NNP'), ('과학', 'NNG'), ('기술원', 'NNG'), ('주관', 'NNG'), ('이번', 'NNG'), ('행사', 'NNG'), ('전력', 'NNG'), ('빅', 'NNG'), ('데이터', 'NNG'), ('활용', 'NNG'), ('사업', 'NNG'), ('모델', 'NNG'), ('발굴', 'NNG'), ('마련', 'NNG'), ('대회', 'NNG'), ('참가', 'NNG'), ('희망', 'NNG'), ('학생', 'NNG'), ('일반', 'NNG'), ('벤처', 'NNG'), ('기업', 'NNG'), ('새싹', 'NNG'), ('기업', 'NNG'), ('경진', 'NNG'), ('대회', 'NNG'), ('홈페이지', 'NNG'), ('일', 'NR'), ('월', 'NNBC'), ('일', 'NR'), ('제안서', 'NNG'), ('차', 'NNG'), ('서류', 'NNG'), ('심사', 'NNG'), ('통과', 'NNG'), ('팀', 'NNG'), ('개인', 'NNG'), ('제공', 'NNG'), ('전력', 'NNG'), ('데이터', 'NNG'), ('활용', 'NNG'), ('서비스', 'NNG'), ('개발', 'NNG'), ('데이터', 'NNG'), ('외부', 'NNG'), ('반출', 'NNG'), ('불가', 'NNG'), ('경우', 'NNG'), ('한전', 'NNP'), ('아트', 'NNG'), ('센터', 'NNG'), ('마련', 'NNG'), ('데이터', 'NNG'), ('공유', 'NNG'), ('센터', 'NNG'), ('개발', 'NNG'), ('완성', 'NNG'), ('기술', 'NNG'), ('상용', 'NNG'), ('가능', 'NNG'), ('확장', 'NNG'), ('등', 'NNB'), ('기준', 'NNG'), ('사내', 'NNG'), ('직원', 'NNG'), ('사외', 'NNG'), ('전문', 'NNG'), ('위원', 'NNG'), ('평가', 'NNG'), ('시상', 'NNG'), ('개인', 'NNG'), ('학생', 'NNG'), ('일반', 'NNG'), ('과', 'NNG'), ('기업', 'NNG'), ('개', 'NNBC'), ('부문', 'NNG'), ('진행', 'NNG'), ('최종', 'NNG'), ('선정', 'NNG'), ('팀', 'NNG'), ('천', 'NR'), ('만', 'NR'), ('원', 'NNBC'), ('상금', 'NNG'), ('수', 'NNG'), ('상작', 'NNG'), ('서비스', 'NNG'), ('솔루션', 'NNP'), ('에너지', 'NNG'), ('마켓', 'NNP'), ('플레이스', 'NNP'), ('등록', 'NNG'), ('사업', 'NNG'), ('수', 'NNG'), ('기회', 'NNG'), ('제공', 'NNG'), ('김종갑', 'NNP'), ('한전', 'NNP'), ('사장', 'NNG'), ('한전', 'NNP'), ('전력', 'NNG'), ('데이터', 'NNG'), ('공공', 'NNG'), ('기관', 'NNG'), ('민간', 'NNG'), ('데이터', 'NNG'), ('융합', 'NNG'), ('가치', 'NNG'), ('대국민', 'NNG'), ('편익', 'NNG'), ('서비스', 'NNG'), ('기대', 'NNG'), ('말', 'NNG')]\n[('판교', 'NNG'), ('자율', 'NNG'), ('주행', 'NNG'), ('실증', 'NNG'), ('자율', 'NNG'), ('주행', 'NNG'), ('데이터', 'NNG'), ('개방', 'NNG'), ('사업', 'NNG'), ('선정', 'NNG'), ('파이낸셜', 'NNP'), ('뉴스', 'NNG'), ('수원', 'NNP'), ('장충식', 'NNP'), ('기자', 'NNG'), ('경기도', 'NNP'), ('경기도', 'NNP'), ('자율', 'NNG'), ('주행', 'NNG'), ('센터', 'NNG'), ('수집', 'NNG'), ('자율', 'NNG'), ('주행', 'NNG'), ('관련', 'NNG'), ('데이터', 'NNG'), ('공공', 'NNG'), ('개방', 'NNG'), ('일', 'NR'), ('이', 'NR'), ('정부', 'NNG'), ('년', 'NNB'), ('국가', 'NNG'), ('중점', 'NNG'), ('데이터', 'NNG'), ('개방', 'NNG'), ('지원', 'NNG'), ('사업', 'NNG'), ('경기', 'NNG'), ('도', 'JX'), ('자율', 'NNG'), ('주행', 'NNG'), ('센터', 'NNG'), ('판교', 'NNG'), ('자율', 'NNG'), ('주행', 'NNG'), ('실증', 'NNG'), ('자율', 'NNG'), ('주행', 'NNG'), ('데이터', 'NNG'), ('선정', 'NNG'), ('데', 'NNB'), ('조치', 'NNG'), ('월', 'NNG'), ('경기', 'NNG'), ('도', 'JX'), ('자율', 'NNG'), ('주행', 'NNG'), ('센터', 'NNG'), ('자율', 'NNG'), ('주행', 'NNG'), ('데이터', 'NNG'), ('개방', 'NNG'), ('사업', 'NNG'), ('추진', 'NNG'), ('예정', 'NNG'), ('이', 'IC'), ('누구', 'NP'), ('공공', 'NNG'), ('데이터', 'NNG'), ('포털', 'NNP'), ('경기도', 'NNP'), ('자율', 'NNG'), ('주행', 'NNG'), ('센터', 'NNG'), ('포털', 'NNP'), ('접속', 'NNG'), ('판교', 'NNG'), ('자율', 'NNG'), ('주행', 'NNG'), ('실증', 'NNG'), ('단지', 'MAG'), ('수집', 'NNG'), ('자율', 'NNG'), ('주행', 'NNG'), ('관련', 'NNG'), ('데이터', 'NNG'), ('별도', 'NNG'), ('데이터', 'NNG'), ('가공', 'NNG'), ('처리', 'NNG'), ('편리', 'NNG'), ('활용', 'NNG'), ('수', 'NNG'), ('하반기', 'NNG'), ('년', 'NNB'), ('개년', 'NNG'), ('자율', 'NNG'), ('주행', 'NNG'), ('산업', 'NNG'), ('발전', 'NNG'), ('필요', 'NNG'), ('데이터', 'NNG'), ('공공', 'NNG'), ('개방', 'NNG'), ('예정', 'NNG'), ('자율', 'NNG'), ('주행', 'NNG'), ('산업', 'NNG'), ('활성', 'NNG'), ('기여', 'NNG'), ('것', 'NNB'), ('기대', 'NNG'), ('임문영', 'NNP'), ('경기도', 'NNP'), ('미래', 'NNG'), ('장정', 'NNG'), ('책', 'NNG'), ('관', 'NNG'), ('경기', 'NNG'), ('도', 'JX'), ('자율', 'NNG'), ('주행', 'NNG'), ('센터', 'NNG'), ('작년', 'NNG'), ('개소', 'NNG'), ('이후', 'NNG'), ('건강', 'NNG'), ('발전', 'NNG'), ('자율', 'NNG'), ('주행', 'NNG'), ('생태', 'NNG'), ('조성', 'NNG'), ('센터', 'NNG'), ('앞', 'NNG'), ('경기도', 'NNP'), ('선진', 'NNG'), ('자율', 'NNG'), ('주행', 'NNG'), ('기술', 'NNG'), ('양', 'MM'), ('데이터', 'NNG'), ('활용', 'NNG'), ('국내', 'NNG'), ('자율', 'NNG'), ('주행', 'NNG'), ('기술', 'NNG'), ('발전', 'NNG'), ('것', 'NNB'), ('말', 'NNG'), ('경기도', 'NNP'), ('차세대', 'NNG'), ('융합', 'NNG'), ('기술', 'NNG'), ('연구원', 'NNG'), ('자율', 'NNG'), ('주행', 'NNG'), ('분야', 'NNG'), ('산업', 'NNG'), ('생태', 'NNG'), ('계', 'XSN'), ('구축', 'NNG'), ('지난해', 'NNG'), ('월', 'NNG'), ('경기', 'NNG'), ('자율', 'NNG'), ('주행', 'NNG'), ('센터', 'NNG'), ('출범', 'NNG'), ('운전자', 'NNG'), ('주행', 'NNG'), ('가능', 'NNG'), ('자율', 'NNG'), ('주행', 'NNG'), ('레벨', 'NNG'), ('수준', 'NNG'), ('자율', 'NNG'), ('주행', 'NNG'), ('차', 'NNG'), ('제로', 'NR'), ('셔틀', 'NNG'), ('개발', 'NNG'), ('스타트업', 'NNG'), ('실증', 'NNG'), ('테스트', 'NNG'), ('빅', 'NNG'), ('데이터', 'NNG'), ('서비스', 'NNG'), ('등', 'NNB'), ('지원', 'NNG'), ('등', 'NNB'), ('자율', 'NNG'), ('주행', 'NNG'), ('분야', 'NNG'), ('세계', 'NNG'), ('실증', 'NNG'), ('구축', 'NNG'), ('운영', 'NNG'), ('지원', 'NNG')]\n[('통계청', 'NNG'), ('텔레콤', 'NNP'), ('모바일', 'NNP'), ('빅', 'NNP'), ('데이터', 'NNG'), ('분석', 'NNG'), ('월', 'NNG'), ('회복세', 'NNG'), ('코로나', 'NNP'), ('발생', 'NNG'), ('후', 'NNG'), ('주차', 'NNG'), ('미만', 'NNG'), ('폭', 'NNG'), ('감소', 'NNG'), ('코로나', 'NNP'), ('발생', 'NNG'), ('후', 'NNG'), ('인구', 'NNG'), ('이동', 'NNG'), ('분석', 'NNG'), ('결과', 'NNG'), ('발생', 'NNG'), ('후', 'NNG'), ('주차', 'NNG'), ('토요일', 'NNG'), ('월', 'NNG'), ('일', 'NR'), ('월', 'NNBC'), ('일', 'NR'), ('폭', 'NNBC'), ('감소', 'NNG'), ('이후', 'NNG'), ('감소', 'NNG'), ('폭', 'NNG'), ('완화', 'NNG'), ('월', 'NNG'), ('첫째', 'NR'), ('주', 'NNBC'), ('전년', 'NNG'), ('대비', 'NNG'), ('약', 'MM'), ('상당', 'NNG'), ('수준', 'NNG'), ('회복', 'NNG'), ('것', 'NNB'), ('인구', 'NNG'), ('이동은', 'NNP'), ('사람', 'NNG'), ('간', 'NNB'), ('접촉', 'NNG'), ('가능', 'NNG'), ('상대', 'NNG'), ('상업', 'NNG'), ('지역', 'NNG'), ('관광지', 'NNG'), ('레저', 'NNG'), ('스포츠', 'NNG'), ('시설', 'NNG'), ('대형', 'NNG'), ('아울렛', 'NNG'), ('주거', 'NNG'), ('지역', 'NNG'), ('동량', 'NNG'), ('감소', 'NNG'), ('편', 'NNG'), ('월', 'NNG'), ('일', 'NR'), ('연휴', 'NNG'), ('기점', 'NNG'), ('관광지', 'NNG'), ('레저', 'NNG'), ('스포츠', 'NNG'), ('시설', 'NNG'), ('폭', 'NNG'), ('것', 'NNB'), ('파악', 'NNG'), ('이동결', 'NNG'), ('통계청', 'NNG'), ('텔레콤', 'NNP'), ('모바일', 'NNP'), ('빅', 'NNP'), ('데이터', 'NNG'), ('기반', 'NNG'), ('전국', 'NNG'), ('가입자', 'NNG'), ('주중', 'NNG'), ('주말', 'NNG'), ('인구', 'NNG'), ('이동', 'NNG'), ('정보', 'NNG'), ('이용', 'NNG'), ('추정', 'NNG'), ('결과', 'NNG'), ('코로나', 'NNP'), ('발생', 'NNG'), ('전후', 'NNG'), ('인구', 'NNG'), ('이동', 'NNG'), ('통계청', 'NNG'), ('코로나', 'NNP'), ('발생', 'NNG'), ('전후', 'NNG'), ('대비', 'NNG'), ('통계청', 'NNG'), ('통계청', 'NNG'), ('텔레콤', 'NNP'), ('시장', 'NNG'), ('점유', 'NNG'), ('지난해', 'NNG'), ('월', 'NNG'), ('업무', 'NNG'), ('협약', 'NNG'), ('체결', 'NNG'), ('이후', 'NNG'), ('정부', 'NNG'), ('혁신', 'NNG'), ('일환', 'NNG'), ('공공', 'NNG'), ('민간', 'NNG'), ('협업', 'NNG'), ('추진', 'NNG'), ('통계', 'NNG'), ('데이터', 'NNG'), ('센터', 'NNG'), ('홈페이지', 'NNG'), ('모바일', 'NNP'), ('유동', 'NNG'), ('인구', 'NNG'), ('지도', 'NNG'), ('서비스', 'NNG'), ('중', 'NNB'), ('분석', 'NNG'), ('성', 'XSN'), ('연령', 'NNG'), ('입지', 'NNG'), ('유형', 'NNG'), ('개', 'NNBC'), ('시도', 'NNG'), ('주중', 'NNG'), ('주말', 'NNG'), ('인구', 'NNG'), ('이동', 'NNG'), ('변화', 'NNG'), ('다각', 'NNG'), ('작년', 'NNG'), ('시기', 'NNG'), ('비교', 'NNG'), ('인구', 'NNG'), ('이동은', 'NNP'), ('시', 'NNG'), ('군', 'NNG'), ('구', 'NNG'), ('간', 'NNB'), ('이동', 'NNG'), ('의미', 'NNG'), ('본인', 'NNG'), ('실거', 'NNG'), ('주', 'NNG'), ('시', 'NNG'), ('군', 'NNG'), ('구', 'NNG'), ('외', 'NNB'), ('군', 'NNG'), ('행정', 'NNG'), ('동', 'NNG'), ('이상', 'NNG'), ('방문', 'NNG'), ('경우', 'NNG'), ('이동', 'NNG'), ('건수', 'NNG'), ('집계', 'NNG'), ('것', 'NNB'), ('통계청', 'NNG'), ('인구', 'NNG'), ('동량', 'NNG'), ('등록', 'NNG'), ('센서스', 'NNG'), ('인구', 'NNG'), ('모수', 'NNG'), ('성과', 'NNG'), ('연령', 'NNG'), ('세별', 'NNG'), ('지역', 'NNG'), ('읍', 'NNG'), ('면', 'NNG'), ('동', 'NNG'), ('별', 'NNG'), ('가중치', 'NNG'), ('적용', 'NNG'), ('추정', 'NNG'), ('결과', 'NNG'), ('코로나', 'NNG'), ('지역', 'NNG'), ('집단', 'NNG'), ('감염', 'NNG'), ('월', 'NNG'), ('일', 'NR'), ('일', 'NNBC'), ('영향', 'NNG'), ('발생', 'NNG'), ('후', 'NNG'), ('주차', 'NNG'), ('토요일', 'NNG'), ('월', 'NNG'), ('일', 'NR'), ('인구', 'NNG'), ('동량', 'NNG'), ('작년', 'NNG'), ('주', 'NNG'), ('토요일', 'NNG'), ('대비', 'NNG'), ('폭', 'NNG'), ('감소', 'NNG'), ('이후', 'NNG'), ('월', 'NNG'), ('감소', 'NNG'), ('폭', 'NNG'), ('완화', 'NNG'), ('설명', 'NNG'), ('발생', 'NNG'), ('후', 'NNG'), ('주차', 'NNG'), ('토요일', 'NNG'), ('월', 'NNG'), ('일', 'NR'), ('상당', 'NNG'), ('수준', 'NNG'), ('회복', 'NNG'), ('약', 'NNG'), ('발생', 'NNG'), ('후', 'NNG'), ('주차', 'NNG'), ('토요일', 'NNG'), ('월', 'NNG'), ('일', 'NR'), ('회복세', 'NNG'), ('것', 'NNB'), ('집계', 'NNG'), ('이', 'NR'), ('주', 'NNBC'), ('차', 'XSN'), ('일간', 'NNG'), ('연휴', 'NNG'), ('월', 'NNG'), ('일', 'NR'), ('월', 'NNBC'), ('일', 'NR'), ('기간', 'NNG'), ('동량', 'NNG'), ('것', 'NNB'), ('연휴', 'NNG'), ('주말', 'NNG'), ('코로나', 'NNP'), ('인구', 'NNG'), ('동량', 'NNG'), ('변동', 'NNG'), ('성별', 'NNG'), ('연령', 'NNG'), ('전반', 'NNG'), ('남성', 'NNG'), ('여성', 'NNG'), ('연령', 'NNG'), ('미만', 'NNG'), ('대', 'XPN'), ('이상', 'NNG'), ('동량', 'NNG'), ('감소', 'NNG'), ('편', 'NNG'), ('주차', 'NNG'), ('월', 'NNG'), ('일', 'NR'), ('월', 'NNBC'), ('일', 'NR'), ('일', 'NNBC'), ('간', 'NNG'), ('연휴', 'NNG'), ('가족', 'NNG'), ('동반', 'NNG'), ('이동', 'NNG'), ('여성', 'NNG'), ('미만', 'NNG'), ('동량', 'NNG'), ('폭', 'NNG'), ('코로나', 'NNP'), ('발생', 'NNG'), ('후', 'NNG'), ('입지', 'NNG'), ('유형', 'NNG'), ('이동', 'NNG'), ('통계청', 'NNG'), ('입지', 'NNG'), ('유형', 'NNG'), ('레저', 'NNG'), ('스포츠', 'NNG'), ('시설', 'NNG'), ('대형', 'NNG'), ('아울렛', 'NNG'), ('주거', 'NNG'), ('지역', 'NNG'), ('동량', 'NNG'), ('감소', 'NNG'), ('편', 'NNG'), ('연휴', 'NNG'), ('기간', 'NNG'), ('관광지', 'NNG'), ('레저', 'NNG'), ('스포츠', 'NNG'), ('시설', 'NNG'), ('폭', 'NNG'), ('증가세', 'NNG'), ('입지', 'NNG'), ('분류', 'NNG'), ('상업', 'NNG'), ('지역', 'NNG'), ('관광지', 'NNG'), ('대형', 'NNG'), ('아울렛', 'NNG'), ('사무', 'NNG'), ('지역', 'NNG'), ('레저', 'NNG'), ('스포츠', 'NNG'), ('시설', 'NNG'), ('주거', 'NNG'), ('지역', 'NNG'), ('등', 'NNB'), ('개', 'NNG'), ('한정', 'NNG'), ('시', 'NNG'), ('도', 'NNG'), ('이동', 'NNG'), ('코로나', 'NNG'), ('발생', 'NNG'), ('후', 'NNG'), ('제주', 'NNP'), ('강원', 'NNP'), ('부산', 'NNP'), ('대구', 'NNP'), ('등', 'NNB'), ('관광', 'NNG'), ('지역', 'NNG'), ('규모', 'NNG'), ('확진', 'NNG'), ('발생', 'NNG'), ('지역', 'NNG'), ('중심', 'NNG'), ('인구', 'NNG'), ('유입', 'NNG'), ('감소', 'NNG'), ('주차', 'NNG'), ('일간', 'NNG'), ('연', 'NNG'), ('전남', 'NNP'), ('전북', 'NNP'), ('충남', 'NNP'), ('강원', 'NNP'), ('등', 'NNB'), ('도시', 'NNG'), ('지역', 'NNG'), ('인구', 'NNG'), ('유입', 'NNG'), ('폭', 'NNG'), ('통계청', 'NNG'), ('앞', 'NNG'), ('각종', 'NNG'), ('사회', 'NNG'), ('경제', 'NNG'), ('이슈', 'NNG'), ('발생', 'NNG'), ('때', 'NNG'), ('모바일', 'NNP'), ('빅', 'NNP'), ('데이터', 'NNG'), ('활용', 'NNG'), ('정부', 'NNG'), ('정책', 'NNG'), ('참고', 'NNG'), ('수', 'NNG'), ('기초', 'NNG'), ('자료', 'NNG'), ('제공', 'NNG'), ('방침', 'NNG'), ('데일리안', 'NNP'), ('이소희', 'NNP'), ('기자', 'NNG')]\n[('금융', 'NNG'), ('결제', 'NNG'), ('원', 'NNG'), ('신용', 'NNG'), ('정보원', 'NNG'), ('등', 'NNB'), ('지정', 'NNG'), ('비씨', 'NNG'), ('카드', 'NNG'), ('추가', 'NNG'), ('포함', 'NNG'), ('여부', 'NNG'), ('논의', 'NNG'), ('시행령', 'NNG'), ('발표', 'NNG'), ('후', 'NNG'), ('추진', 'NNG'), ('하반기', 'NNG'), ('데이터', 'NNG'), ('유통', 'NNG'), ('판매', 'NNG'), ('급물살', 'NNG'), ('정부', 'NNG'), ('금융', 'NNG'), ('결제', 'NNG'), ('원', 'NNG'), ('신용', 'NNG'), ('정보원', 'NNG'), ('등', 'NNB'), ('업', 'NNG'), ('곳', 'NNG'), ('데이터', 'NNG'), ('중계', 'NNG'), ('기관', 'NNG'), ('선정', 'NNG'), ('일', 'NNG'), ('서울', 'NNP'), ('중구', 'NNP'), ('한국', 'NNP'), ('신용', 'NNG'), ('정보원', 'NNG'), ('데이터', 'NNG'), ('태', 'NNG'), ('포스', 'NNG'), ('데이터', 'NNG'), ('전송', 'NNG'), ('항목', 'NNG'), ('표준', 'NNG'), ('관련', 'NNG'), ('실무', 'NNG'), ('회의', 'NNG'), ('진행', 'NNG'), ('이동근', 'NNP'), ('기자', 'NNG')]\n"
     ]
    }
   ],
   "source": [
    "mecab = Mecab()\n",
    "for preprocessed_doc in preprocessed_docs:것..,\n",
    "    print(mecab.pos(preprocessed_doc))"
   ]
  },
  {
   "cell_type": "markdown",
   "metadata": {
    "id": "JqZ9ONgLpOzv"
   },
   "source": [
    "### 2) TF-IDF 계산"
   ]
  },
  {
   "cell_type": "code",
   "execution_count": 5,
   "metadata": {},
   "outputs": [
    {
     "output_type": "stream",
     "name": "stdout",
     "text": [
      "['가공', '가능', '가입자', '가족', '가중치', '가치', '각종', '감소', '감염', '강국']\n"
     ]
    }
   ],
   "source": [
    "from sklearn.feature_extraction.text import TfidfVectorizer, CountVectorizer\n",
    "count_vect = CountVectorizer(max_df=0.85, max_features=10000)\n",
    "# count_vect = CountVectorizer()\n",
    "# 0.85이상인거 뺀다, vocab를 10000개만 만든다.\n",
    "word_count = count_vect.fit_transform(preprocessed_docs)\n",
    "print(count_vect.get_feature_names()[:10])"
   ]
  },
  {
   "cell_type": "code",
   "execution_count": 6,
   "metadata": {},
   "outputs": [
    {
     "output_type": "execute_result",
     "data": {
      "text/plain": [
       "CountVectorizer(max_df=0.85, max_features=10000)"
      ]
     },
     "metadata": {},
     "execution_count": 6
    }
   ],
   "source": [
    "count_vect.fit(preprocessed_docs)"
   ]
  },
  {
   "cell_type": "code",
   "execution_count": 57,
   "metadata": {},
   "outputs": [
    {
     "output_type": "execute_result",
     "data": {
      "text/plain": [
       "['가공',\n",
       " '가능',\n",
       " '가입자',\n",
       " '가족',\n",
       " '가중치',\n",
       " '가치',\n",
       " '각종',\n",
       " '감소',\n",
       " '감염',\n",
       " '강국',\n",
       " '강원',\n",
       " '강조',\n",
       " '강화',\n",
       " '개년',\n",
       " '개발',\n",
       " '개방',\n",
       " '개선',\n",
       " '개소',\n",
       " '개인',\n",
       " '개최',\n",
       " '거버넌스',\n",
       " '건강',\n",
       " '건수',\n",
       " '검색',\n",
       " '결과',\n",
       " '결제',\n",
       " '경기',\n",
       " '경기도',\n",
       " '경우',\n",
       " '경쟁력',\n",
       " '경제',\n",
       " '경진',\n",
       " '계층',\n",
       " '계획',\n",
       " '고도',\n",
       " '공공',\n",
       " '공급',\n",
       " '공모',\n",
       " '공사',\n",
       " '공유',\n",
       " '공인',\n",
       " '과기',\n",
       " '과학',\n",
       " '관광',\n",
       " '관광지',\n",
       " '관람',\n",
       " '관련',\n",
       " '관리',\n",
       " '광주',\n",
       " '교통',\n",
       " '구성',\n",
       " '구축',\n",
       " '구현',\n",
       " '국가',\n",
       " '국내',\n",
       " '국립암센터',\n",
       " '국회',\n",
       " '규모',\n",
       " '그룹',\n",
       " '금리',\n",
       " '금융',\n",
       " '급물살',\n",
       " '기간',\n",
       " '기관',\n",
       " '기념행사',\n",
       " '기대',\n",
       " '기반',\n",
       " '기술',\n",
       " '기술원',\n",
       " '기업',\n",
       " '기여',\n",
       " '기점',\n",
       " '기존',\n",
       " '기준',\n",
       " '기초',\n",
       " '기회',\n",
       " '김종갑',\n",
       " '나주',\n",
       " '낙후',\n",
       " '남성',\n",
       " '노웅래',\n",
       " '논의',\n",
       " '누구',\n",
       " '눈길',\n",
       " '뉴스',\n",
       " '다각',\n",
       " '다음',\n",
       " '단계',\n",
       " '단지',\n",
       " '담당',\n",
       " '대구',\n",
       " '대국민',\n",
       " '대비',\n",
       " '대상',\n",
       " '대출',\n",
       " '대통령',\n",
       " '대한',\n",
       " '대한민국',\n",
       " '대형',\n",
       " '대회',\n",
       " '데일리',\n",
       " '데일리안',\n",
       " '도구',\n",
       " '도시',\n",
       " '도청',\n",
       " '동량',\n",
       " '동반',\n",
       " '등록',\n",
       " '레벨',\n",
       " '레저',\n",
       " '마련',\n",
       " '마켓',\n",
       " '맞춤',\n",
       " '매출',\n",
       " '맥락',\n",
       " '모델',\n",
       " '모바일',\n",
       " '모색',\n",
       " '모수',\n",
       " '문재',\n",
       " '문재인',\n",
       " '문제',\n",
       " '문제점',\n",
       " '문화',\n",
       " '미래',\n",
       " '미만',\n",
       " '민간',\n",
       " '반출',\n",
       " '발걸음',\n",
       " '발굴',\n",
       " '발생',\n",
       " '발전',\n",
       " '발표',\n",
       " '방문',\n",
       " '방송',\n",
       " '방안',\n",
       " '방침',\n",
       " '베이',\n",
       " '벤처',\n",
       " '변동',\n",
       " '변화',\n",
       " '별도',\n",
       " '보안',\n",
       " '보유',\n",
       " '보호',\n",
       " '본인',\n",
       " '부문',\n",
       " '부산',\n",
       " '부족',\n",
       " '분류',\n",
       " '분석',\n",
       " '분야',\n",
       " '불가',\n",
       " '비교',\n",
       " '비씨',\n",
       " '비즈',\n",
       " '사내',\n",
       " '사람',\n",
       " '사례',\n",
       " '사무',\n",
       " '사업',\n",
       " '사외',\n",
       " '사용',\n",
       " '사이',\n",
       " '사장',\n",
       " '사회',\n",
       " '산림',\n",
       " '산업',\n",
       " '상공',\n",
       " '상금',\n",
       " '상당',\n",
       " '상대',\n",
       " '상업',\n",
       " '상용',\n",
       " '상작',\n",
       " '새싹',\n",
       " '생산',\n",
       " '생태',\n",
       " '생태계',\n",
       " '생활',\n",
       " '서류',\n",
       " '서비스',\n",
       " '서울',\n",
       " '선정',\n",
       " '선진',\n",
       " '설명',\n",
       " '성과',\n",
       " '성별',\n",
       " '성장',\n",
       " '세계',\n",
       " '세별',\n",
       " '센서스',\n",
       " '센터',\n",
       " '셔틀',\n",
       " '소비',\n",
       " '소상',\n",
       " '소요',\n",
       " '솔루션',\n",
       " '수개월',\n",
       " '수요',\n",
       " '수원',\n",
       " '수자원',\n",
       " '수준',\n",
       " '수집',\n",
       " '수행',\n",
       " '스타트업',\n",
       " '스포츠',\n",
       " '시기',\n",
       " '시대',\n",
       " '시도',\n",
       " '시상',\n",
       " '시설',\n",
       " '시장',\n",
       " '시행령',\n",
       " '신규',\n",
       " '신용',\n",
       " '실거',\n",
       " '실무',\n",
       " '실제',\n",
       " '실증',\n",
       " '심사',\n",
       " '아울렛',\n",
       " '아트',\n",
       " '알고리즘',\n",
       " '양질',\n",
       " '얼라이언스',\n",
       " '업무',\n",
       " '에너지',\n",
       " '여명',\n",
       " '여부',\n",
       " '여성',\n",
       " '여종',\n",
       " '역량',\n",
       " '역할',\n",
       " '연간',\n",
       " '연계',\n",
       " '연구원',\n",
       " '연령',\n",
       " '연속',\n",
       " '연합뉴스',\n",
       " '연휴',\n",
       " '영향',\n",
       " '예술',\n",
       " '예정',\n",
       " '올해',\n",
       " '완료',\n",
       " '완성',\n",
       " '완화',\n",
       " '외부',\n",
       " '요소',\n",
       " '우리나라',\n",
       " '운영',\n",
       " '운전자',\n",
       " '위원',\n",
       " '위원장',\n",
       " '위원회',\n",
       " '유동',\n",
       " '유영민',\n",
       " '유입',\n",
       " '유통',\n",
       " '유형',\n",
       " '육성',\n",
       " '융합',\n",
       " '의료비',\n",
       " '의미',\n",
       " '이동',\n",
       " '이동결',\n",
       " '이동근',\n",
       " '이동은',\n",
       " '이미지',\n",
       " '이번',\n",
       " '이상',\n",
       " '이소희',\n",
       " '이슈',\n",
       " '이용',\n",
       " '이용자',\n",
       " '이자',\n",
       " '이재운',\n",
       " '이후',\n",
       " '인공지능',\n",
       " '인구',\n",
       " '일간',\n",
       " '일반',\n",
       " '일환',\n",
       " '임문영',\n",
       " '임업',\n",
       " '입지',\n",
       " '자료',\n",
       " '자리',\n",
       " '자원',\n",
       " '자율',\n",
       " '작년',\n",
       " '장관',\n",
       " '장정',\n",
       " '장충식',\n",
       " '적용',\n",
       " '전국',\n",
       " '전남',\n",
       " '전년',\n",
       " '전략',\n",
       " '전력',\n",
       " '전망',\n",
       " '전문',\n",
       " '전반',\n",
       " '전북',\n",
       " '전송',\n",
       " '전후',\n",
       " '절감',\n",
       " '점유',\n",
       " '접속',\n",
       " '접촉',\n",
       " '정보',\n",
       " '정보원',\n",
       " '정부',\n",
       " '정책',\n",
       " '정통부',\n",
       " '제고',\n",
       " '제공',\n",
       " '제로',\n",
       " '제안서',\n",
       " '제작',\n",
       " '제주',\n",
       " '조성',\n",
       " '조원',\n",
       " '조치',\n",
       " '주거',\n",
       " '주관',\n",
       " '주말',\n",
       " '주요',\n",
       " '주중',\n",
       " '주차',\n",
       " '주최',\n",
       " '주행',\n",
       " '중계',\n",
       " '중구',\n",
       " '중소기업',\n",
       " '중심',\n",
       " '중요',\n",
       " '중점',\n",
       " '증가세',\n",
       " '지난해',\n",
       " '지도',\n",
       " '지렛대',\n",
       " '지역',\n",
       " '지원',\n",
       " '지정',\n",
       " '직원',\n",
       " '진행',\n",
       " '집계',\n",
       " '집단',\n",
       " '집중',\n",
       " '차세대',\n",
       " '차원',\n",
       " '참가',\n",
       " '참고',\n",
       " '참석',\n",
       " '참여',\n",
       " '창출',\n",
       " '처리',\n",
       " '첫째',\n",
       " '청사진',\n",
       " '체결',\n",
       " '체계',\n",
       " '체육',\n",
       " '초석',\n",
       " '최신',\n",
       " '최종',\n",
       " '추가',\n",
       " '추정',\n",
       " '추진',\n",
       " '축적',\n",
       " '출범',\n",
       " '출범식',\n",
       " '충남',\n",
       " '취약',\n",
       " '카드',\n",
       " '케어',\n",
       " '코로나',\n",
       " '클라우드',\n",
       " '테스트',\n",
       " '텔레콤',\n",
       " '토요일',\n",
       " '통계',\n",
       " '통계청',\n",
       " '통과',\n",
       " '통상',\n",
       " '통신',\n",
       " '통신부',\n",
       " '투입',\n",
       " '파악',\n",
       " '파이낸셜',\n",
       " '파일',\n",
       " '판교',\n",
       " '판매',\n",
       " '편리',\n",
       " '편익',\n",
       " '평가',\n",
       " '폐업',\n",
       " '포스',\n",
       " '포털',\n",
       " '포함',\n",
       " '표준',\n",
       " '품질',\n",
       " '플랫',\n",
       " '플랫폼',\n",
       " '플레이스',\n",
       " '픽사',\n",
       " '필요',\n",
       " '하나다',\n",
       " '하반기',\n",
       " '학생',\n",
       " '학습',\n",
       " '한국',\n",
       " '한국전력',\n",
       " '한국전력공사',\n",
       " '한전',\n",
       " '한정',\n",
       " '항목',\n",
       " '해소',\n",
       " '핵심',\n",
       " '행사',\n",
       " '행정',\n",
       " '향상',\n",
       " '헬스',\n",
       " '혁신',\n",
       " '현실',\n",
       " '협약',\n",
       " '협업',\n",
       " '형식',\n",
       " '형태',\n",
       " '호환',\n",
       " '홈페이지',\n",
       " '확보',\n",
       " '확장',\n",
       " '확진',\n",
       " '환경',\n",
       " '활성',\n",
       " '활용',\n",
       " '회복',\n",
       " '회복세',\n",
       " '회의',\n",
       " '회의소',\n",
       " '흥원',\n",
       " '희망']"
      ]
     },
     "metadata": {},
     "execution_count": 57
    }
   ],
   "source": [
    "count_vect.get_feature_names()"
   ]
  },
  {
   "cell_type": "code",
   "execution_count": null,
   "metadata": {
    "colab": {
     "base_uri": "https://localhost:8080/"
    },
    "executionInfo": {
     "elapsed": 782,
     "status": "ok",
     "timestamp": 1624977755413,
     "user": {
      "displayName": "홍경수",
      "photoUrl": "",
      "userId": "10514684854108920109"
     },
     "user_tz": -540
    },
    "id": "Okub07GQ-KJe",
    "outputId": "b911b82e-7b4a-46b0-987a-30ddac24297d"
   },
   "outputs": [
    {
     "data": {
      "text/plain": [
       "['과기', '정통부', '유영민', '장관', '참석', '기념행사', '투입', '여종', '구축', '민간']"
      ]
     },
     "execution_count": 4,
     "metadata": {
      "tags": []
     },
     "output_type": "execute_result"
    }
   ],
   "source": []
  },
  {
   "cell_type": "markdown",
   "metadata": {
    "id": "9oMnmGfp6PAb"
   },
   "source": []
  },
  {
   "cell_type": "code",
   "execution_count": 7,
   "metadata": {},
   "outputs": [
    {
     "output_type": "execute_result",
     "data": {
      "text/plain": [
       "TfidfTransformer()"
      ]
     },
     "metadata": {},
     "execution_count": 7
    }
   ],
   "source": [
    "from sklearn.feature_extraction.text import TfidfTransformer\n",
    "tfidf_transformer = TfidfTransformer(smooth_idf=True, use_idf=True)\n",
    "tfidf_transformer.fit(word_count)"
   ]
  },
  {
   "cell_type": "code",
   "execution_count": null,
   "metadata": {
    "colab": {
     "base_uri": "https://localhost:8080/"
    },
    "executionInfo": {
     "elapsed": 22,
     "status": "ok",
     "timestamp": 1624977755418,
     "user": {
      "displayName": "홍경수",
      "photoUrl": "",
      "userId": "10514684854108920109"
     },
     "user_tz": -540
    },
    "id": "em3l3IS5kRP-",
    "outputId": "db8a26df-5383-46af-afa1-8ff4774eb429"
   },
   "outputs": [
    {
     "data": {
      "text/plain": [
       "TfidfTransformer(norm='l2', smooth_idf=True, sublinear_tf=False, use_idf=True)"
      ]
     },
     "execution_count": 5,
     "metadata": {
      "tags": []
     },
     "output_type": "execute_result"
    }
   ],
   "source": []
  },
  {
   "cell_type": "markdown",
   "metadata": {
    "id": "an6Cngd2Cwjg"
   },
   "source": [
    "### 3) 핵심키워드 추출"
   ]
  },
  {
   "cell_type": "code",
   "execution_count": 8,
   "metadata": {
    "id": "yKrcZ9rh-5Rt"
   },
   "outputs": [],
   "source": [
    "def sort_keywords(keywords):\n",
    "    return sorted(zip(keywords.col, keywords.data), key=lambda x:(x[1], x[0]), reverse=True)\n",
    "    \n",
    "\n",
    "def extract_keywords(feature_names, sorted_keywords, n=5):\n",
    "    \"\"\"\n",
    "    전체 키워드에 대한 상위 n개 획득한다.\\n\n",
    "    n에 대한 기본값 5\n",
    "    \"\"\"\n",
    "    return [(feature_names[idx], score) for idx, score in sorted_keywords[:n]] "
   ]
  },
  {
   "cell_type": "code",
   "execution_count": 9,
   "metadata": {
    "colab": {
     "base_uri": "https://localhost:8080/"
    },
    "executionInfo": {
     "elapsed": 18,
     "status": "ok",
     "timestamp": 1624977755419,
     "user": {
      "displayName": "홍경수",
      "photoUrl": "",
      "userId": "10514684854108920109"
     },
     "user_tz": -540
    },
    "id": "u_8wXmex-1gr",
    "outputId": "b5cd45e3-4c95-4eb4-c299-a8922563176d"
   },
   "outputs": [
    {
     "output_type": "stream",
     "name": "stdout",
     "text": [
      "\n===== 원문 =====\n과기정통부, 22일 유영민 장관 등 참석해 기념행사2021년까지 1516억원 투입, 5100여종 데이터 구축민간 클라우드 통한 외부연계체계도..\"개방성 강화\"[이데일리 이재운 기자\n\n=== 핵심키워드 ===\n('플랫', 0.25211725427472975)\n('센터', 0.223203299489251)\n('계획', 0.2161005036640541)\n('활용', 0.18262088140029625)\n('정통부', 0.18008375305337843)\n"
     ]
    }
   ],
   "source": [
    "doc = preprocessed_docs[0] # 핵심키워드 추출할 문서 조회\n",
    "\n",
    "feature_names = count_vect.get_feature_names()\n",
    "tfidf_vect = tfidf_transformer.transform(count_vect.transform([doc]))\n",
    "sorted_keywords = sort_keywords(tfidf_vect.tocoo())\n",
    "\n",
    "# 사용자가 지정한 갯수만큼 키워드 추출\n",
    "keywords = extract_keywords(feature_names, sorted_keywords, 5)\n",
    " \n",
    "print(\"\\n===== 원문 =====\")\n",
    "print(docs[0][:100])\n",
    "print(\"\\n=== 핵심키워드 ===\")\n",
    "for k in keywords:\n",
    "    print(k)"
   ]
  },
  {
   "cell_type": "markdown",
   "metadata": {
    "id": "lwQjPYuxNy4K"
   },
   "source": [
    "\n",
    "---\n"
   ]
  },
  {
   "cell_type": "markdown",
   "metadata": {
    "id": "XTNnFrNhOrA3"
   },
   "source": [
    "## 실습 2. gensim 활용\n"
   ]
  },
  {
   "cell_type": "markdown",
   "metadata": {
    "id": "aE-YzDI6OrA5"
   },
   "source": [
    "### 1) 전처리"
   ]
  },
  {
   "cell_type": "code",
   "execution_count": 11,
   "metadata": {
    "colab": {
     "base_uri": "https://localhost:8080/",
     "height": 35
    },
    "executionInfo": {
     "elapsed": 9,
     "status": "ok",
     "timestamp": 1624977755420,
     "user": {
      "displayName": "홍경수",
      "photoUrl": "",
      "userId": "10514684854108920109"
     },
     "user_tz": -540
    },
    "id": "edVMwQBuOrA6",
    "outputId": "e329813f-df02-4c4e-e841-df71b464979f"
   },
   "outputs": [
    {
     "output_type": "execute_result",
     "data": {
      "text/plain": [
       "'과기 정통부 일 유영민 장관 등 참석 기념행사 년 억 원 투입 여종 데이터 구축 민간 클라우드 통한 외부 연계 체계 개방 강화 데일리 이재운 기자 국가 차원 빅 데이터 활용 시대 '"
      ]
     },
     "metadata": {},
     "execution_count": 11
    }
   ],
   "source": [
    "from konlpy.tag import Mecab\n",
    "mecab = Mecab()\n",
    "\n",
    "preprocessed_docs = []\n",
    "for doc in docs :\n",
    "  # 명사와 동사만으로 문서 전처리\n",
    "  preprocessed_docs.append(' '.join([token[0] for token in mecab.pos(doc) if token[1][0] in ['N', 'V']]))\n",
    "preprocessed_docs[0][:100]"
   ]
  },
  {
   "cell_type": "markdown",
   "metadata": {
    "id": "cWGsCRJUOrA8"
   },
   "source": [
    "### 2) TF-IDF 계산"
   ]
  },
  {
   "cell_type": "code",
   "execution_count": 39,
   "metadata": {},
   "outputs": [],
   "source": [
    "# !pip install python-Levenshtein"
   ]
  },
  {
   "cell_type": "code",
   "execution_count": 40,
   "metadata": {
    "id": "NCUzeqp3OrA9"
   },
   "outputs": [],
   "source": [
    "from gensim.models import TfidfModel\n",
    "from gensim.corpora import Dictionary\n",
    "\n",
    "document_ls = [doc.split() for doc in preprocessed_docs]\n",
    "dct = Dictionary(document_ls) # 인덱스(key) - 단어(valuue) 인 딕셔너리 생성\n",
    "corpus = [dct.doc2bow(doc) for doc in document_ls] # 각 문서에 포함된 단어를 인덱스로 변환하여 corpus 생성\n",
    "tfidf = TfidfModel(corpus) # TF-IDF 산출"
   ]
  },
  {
   "cell_type": "markdown",
   "metadata": {
    "id": "wBT2h57bOrBF"
   },
   "source": [
    "### 3) 핵심키워드 추출"
   ]
  },
  {
   "cell_type": "code",
   "execution_count": 41,
   "metadata": {
    "id": "Xk0Tbo21RddA"
   },
   "outputs": [],
   "source": [
    "def sort_keywords(tfidf):\n",
    "    return sorted(tfidf, key=lambda x: (x[1], x[0]), reverse=True)\n",
    "\n",
    "def extract_keywords(feature_names, sorted_keywords, n=5):\n",
    "    return [(feature_names[idx], score) for idx, score in sorted_keywords[:n]]"
   ]
  },
  {
   "cell_type": "code",
   "execution_count": 42,
   "metadata": {
    "colab": {
     "base_uri": "https://localhost:8080/"
    },
    "executionInfo": {
     "elapsed": 12,
     "status": "ok",
     "timestamp": 1624977755797,
     "user": {
      "displayName": "홍경수",
      "photoUrl": "",
      "userId": "10514684854108920109"
     },
     "user_tz": -540
    },
    "id": "_8T0QSKVRfUt",
    "outputId": "ff60f197-d8a0-451f-91a4-70923c275575"
   },
   "outputs": [
    {
     "output_type": "stream",
     "name": "stdout",
     "text": [
      "\n=== 핵심키워드 ===\n('플랫', 0.2495222182663338)\n('폼', 0.2495222182663338)\n('계획', 0.21387618708542896)\n('정통부', 0.17823015590452412)\n('위한', 0.17823015590452412)\n"
     ]
    }
   ],
   "source": [
    "doc = corpus[0]\n",
    "\n",
    "sorted_keywords = sort_keywords(tfidf[doc]) # TF-IDF를 기준으로 역순 정렬\n",
    "\n",
    "# 사용자가 지정한 갯수만큼 키워드 추출\n",
    "keywords = extract_keywords(dct, sorted_keywords, 5)\n",
    "\n",
    "print(\"\\n=== 핵심키워드 ===\")\n",
    "for k in keywords:\n",
    "    print(k)"
   ]
  },
  {
   "source": [
    "tfidf[doc]"
   ],
   "cell_type": "code",
   "metadata": {
    "colab": {
     "base_uri": "https://localhost:8080/"
    },
    "executionInfo": {
     "elapsed": 10,
     "status": "ok",
     "timestamp": 1624977755799,
     "user": {
      "displayName": "홍경수",
      "photoUrl": "",
      "userId": "10514684854108920109"
     },
     "user_tz": -540
    },
    "id": "8gBGnkhCZSlw",
    "outputId": "66814b20-b290-4061-975c-951dcc0b9153"
   },
   "execution_count": null,
   "outputs": []
  },
  {
   "cell_type": "markdown",
   "metadata": {
    "id": "hZpm1wtTqxL-"
   },
   "source": [
    "\n",
    "\n",
    "---\n",
    "\n"
   ]
  },
  {
   "cell_type": "markdown",
   "metadata": {
    "id": "mfekkYshBAVS"
   },
   "source": [
    "# 8-2 Textrank\n",
    "https://web.eecs.umich.edu/~mihalcea/papers/mihalcea.emnlp04.pdf"
   ]
  },
  {
   "cell_type": "markdown",
   "metadata": {
    "id": "bn58myMFF-nN"
   },
   "source": [
    "<img src=\"https://3.bp.blogspot.com/-yp0Lr3ec5EY/XIs6znCcO_I/AAAAAAAAAPY/xtZxe_OYtH0xeuWsp4Qd4DQrunGMpVQmQCLcBGAs/s640/keyword-extraction-textrank.png\" />"
   ]
  },
  {
   "cell_type": "markdown",
   "metadata": {
    "id": "kxZBz6vLlyga"
   },
   "source": [
    "## 실습 1. 행렬 활용 \n"
   ]
  },
  {
   "cell_type": "code",
   "execution_count": 16,
   "metadata": {
    "colab": {
     "base_uri": "https://localhost:8080/"
    },
    "executionInfo": {
     "elapsed": 20,
     "status": "ok",
     "timestamp": 1624977756643,
     "user": {
      "displayName": "홍경수",
      "photoUrl": "",
      "userId": "10514684854108920109"
     },
     "user_tz": -540
    },
    "id": "X-WdT3gz3FMc",
    "outputId": "7b7d8d34-5990-42b3-9600-1725f7356bb6"
   },
   "outputs": [
    {
     "output_type": "stream",
     "name": "stdout",
     "text": [
      "['바나나', '사과', '파인애플', '딸기']\n"
     ]
    },
    {
     "output_type": "execute_result",
     "data": {
      "text/plain": [
       "{'바나나': 0, '사과': 1, '파인애플': 2, '딸기': 3}"
      ]
     },
     "metadata": {},
     "execution_count": 16
    }
   ],
   "source": [
    "tokens = ['딸기', '바나나', '사과', '딸기', '파인애플']\n",
    "nodes = ['바나나', '사과', '파인애플', '딸기']\n",
    "vocab = nodes # set(token) 해도댐.\n",
    "\n",
    "\n",
    "vocab2idx = {vocab[i]:i for i in range(0, len(vocab))} #vocab을 인덱스로 변환\n",
    "idx2vocab = {i:vocab[i] for i in range(0, len(vocab))} #인덱스를 vocab으로 변환\n",
    "vocab2idx"
   ]
  },
  {
   "cell_type": "markdown",
   "metadata": {
    "id": "P9Tvibn1lyg3"
   },
   "source": [
    "### 3) 그래프 생성 (weighted edge 계산)\n",
    "\n",
    "*   TextRank는 그래프 기반 모델\n",
    "*   각 단어(토큰)은 그래프의 노드(vertex) \n",
    "*   weighted_edge 행렬은 노드간 가중치 정보를 담고 있음\n",
    "*   weighted_edge[i][j] 는 i번째 단어와 j번째 단어의 가중치를 의미\n",
    "*   weighted_edge[i][j] 가 0인 경우는 노드간 연결이 없음을 의미\n",
    "*   모든 노드는 1로 초기화"
   ]
  },
  {
   "cell_type": "code",
   "execution_count": 45,
   "metadata": {
    "colab": {
     "base_uri": "https://localhost:8080/"
    },
    "executionInfo": {
     "elapsed": 17,
     "status": "ok",
     "timestamp": 1624977756643,
     "user": {
      "displayName": "홍경수",
      "photoUrl": "",
      "userId": "10514684854108920109"
     },
     "user_tz": -540
    },
    "id": "nP8PJUnMlyg3",
    "outputId": "66629252-0223-4dcf-9eef-b27a1c26da9c"
   },
   "outputs": [
    {
     "output_type": "stream",
     "name": "stdout",
     "text": [
      "[1. 1. 1. 1.]\n0 : 2.0\n1 : 2.0\n2 : 1.0\n3 : 3.0\n"
     ]
    },
    {
     "output_type": "execute_result",
     "data": {
      "text/plain": [
       "array([[0.        , 0.5       , 0.        , 0.5       ],\n",
       "       [0.5       , 0.        , 0.        , 0.5       ],\n",
       "       [0.        , 0.        , 0.        , 1.        ],\n",
       "       [0.33333334, 0.33333334, 0.33333334, 0.        ]], dtype=float32)"
      ]
     },
     "metadata": {},
     "execution_count": 45
    }
   ],
   "source": [
    "import numpy as np\n",
    "import math\n",
    "vocab_len = len(vocab)\n",
    "\n",
    "# 토큰별로 그래프 edge를 Matrix 형태로 생성\n",
    "# 처음엔 0으로 생성. dtype=np.float32 안하면 기본적으로 np.float64로 생성된다.(메모리 사이즈 차이)\n",
    "weighted_edge = np.zeros((vocab_len,vocab_len),dtype=np.float32)\n",
    "\n",
    "# 각 토큰 노드별로 스코어 1로 초기화 하기전 0으로 선언\n",
    "score = np.ones((vocab_len),dtype=np.float32)\n",
    "print(score)\n",
    "\n",
    "# coocurrence를 판단하기 위한 window 사이즈 설정\n",
    "window_size = 2\n",
    "\n",
    "# wincow_size를 3개 이상 으로 할 때 중복 작업이 발생한다.\n",
    "# 중복 작업을 건너뛰기 위해 coocurrences를 한다(위치값 기억하기 위해.)\n",
    "covered_coocurrences = [] \n",
    "\n",
    "# tokens = ['딸기', '바나나', '사과', '딸기', '파인애플']\n",
    "for window_start in range(0, (len(tokens) - window_size + 1)):\n",
    "    window = tokens[window_start : window_start + window_size]\n",
    "    for i in range(window_size):\n",
    "        for j in range(i+1, window_size):\n",
    "            if window[i] in vocab2idx.keys() and window[j] in vocab:\n",
    "                index_i, index_j = i + window_start, j + window_start\n",
    "\n",
    "                if (index_i, index_j) not in covered_coocurrences:\n",
    "                    # 각 토큰 노드연결 1로 초기화\n",
    "                    weighted_edge[vocab2idx[window[i]]][vocab2idx[window[j]]] = 1\n",
    "                    weighted_edge[vocab2idx[window[j]]][vocab2idx[window[i]]] = 1\n",
    "                    covered_coocurrences.append((index_i, index_j))\n",
    "\n",
    "for i in range(vocab_len): # 노드별 가중치 셋팅\n",
    "    # 초기 스코어:1 이다. (스코어 = 스코어/해당 노드 연결된 노드수)\n",
    "    row_sum = weighted_edge[i].sum()\n",
    "    print(f\"{i} : {row_sum}\") # 그냥 값 볼라고 사용\n",
    "    weighted_edge[i] = weighted_edge[i]/row_sum\n",
    "\n",
    "weighted_edge\n"
   ]
  },
  {
   "cell_type": "markdown",
   "metadata": {
    "id": "loXJ9c7jlyg8"
   },
   "source": [
    "### 4) 각 노드의 score계산\n",
    "각 노드와 연결된 weighted edge의 값을 합산"
   ]
  },
  {
   "cell_type": "code",
   "execution_count": 46,
   "metadata": {
    "id": "R9IOS9Oolyg8"
   },
   "outputs": [
    {
     "output_type": "stream",
     "name": "stdout",
     "text": [
      "***** score *****\n[0.85833335 0.798125   0.43333334 1.2223282 ]\n***** score *****\n[0.83552945 0.85142636 0.49632633 1.2888336 ]\n***** score *****\n[0.8770257 0.8879055 0.5151695 1.3379898]\n***** score *****\n[0.90645695 0.91434133 0.52909714 1.3735719 ]\n***** score *****\n[0.9277738 0.9334826 0.5391787 1.3993359]\n***** score *****\n[0.9432086  0.94734216 0.5464785  1.4179908 ]\n***** score *****\n[0.9543845 0.9573775 0.5517641 1.4314983]\n***** score *****\n[0.9624766 0.9646438 0.5555912 1.4412787]\n***** score *****\n[0.9683359 0.9699051 0.5583623 1.4483604]\n***** score *****\n[0.97257847 0.97371465 0.56036884 1.4534881 ]\n***** score *****\n[0.97565037 0.97647303 0.56182164 1.4572009 ]\n***** score *****\n[0.97787464 0.9784703  0.5628736  1.4598892 ]\n***** score *****\n[0.97948515 0.97991645 0.5636353  1.4618356 ]\n***** score *****\n[0.98065126 0.9809635  0.56418675 1.463245  ]\n***** score *****\n[0.9814956  0.98172176 0.5645861  1.4642656 ]\n***** score *****\n[0.98210704 0.9822708  0.56487525 1.4650046 ]\n***** score *****\n[0.9825497  0.9826683  0.56508464 1.4655396 ]\n***** score *****\n[0.9828702  0.98295605 0.5652362  1.4659269 ]\n***** score *****\n[0.98310226 0.9831644  0.56534594 1.4662074 ]\n***** score *****\n[0.9832703 0.9833153 0.5654254 1.4664104]\n***** score *****\n[0.98339194 0.98342454 0.565483   1.4665575 ]\n***** score *****\n[0.98348004 0.98350364 0.56552464 1.466664  ]\n***** score *****\n[0.9835439 0.9835609 0.5655548 1.4667411]\n***** score *****\n[0.98359007 0.98360246 0.5655767  1.466797  ]\n***** score *****\n[0.98362356 0.9836325  0.56559247 1.4668374 ]\n***** score *****\n[0.98364776 0.98365426 0.5656039  1.4668667 ]\n***** final *****\n[0.98364776 0.98365426 0.5656039  1.4668667 ]\n"
     ]
    }
   ],
   "source": [
    "MAX_ITERATIONS = 50\n",
    "d = 0.85\n",
    "threshold = 0.0001\n",
    "\n",
    "for iter in range(MAX_ITERATIONS):\n",
    "    prev_score = np.copy(score)\n",
    "    for i in range(vocab_len):\n",
    "        summation = 0\n",
    "        for j in range(vocab_len):\n",
    "            summation += weighted_edge[j][i] * score[[1]j]\n",
    "        score[i] = (1-d) + d*summation\n",
    "    print(\"***** score *****\")\n",
    "    print(score)\n",
    "    if np.sum(np.fabs(prev_score - score)) <= threshold:\n",
    "        break\n",
    "print(\"***** final *****\")\n",
    "print(score)"
   ]
  },
  {
   "cell_type": "markdown",
   "metadata": {
    "id": "wia32INGlyhA"
   },
   "source": [
    "### 5) 핵심 단어 추출"
   ]
  },
  {
   "cell_type": "code",
   "execution_count": 47,
   "metadata": {
    "colab": {
     "base_uri": "https://localhost:8080/"
    },
    "executionInfo": {
     "elapsed": 13,
     "status": "ok",
     "timestamp": 1624977756644,
     "user": {
      "displayName": "홍경수",
      "photoUrl": "",
      "userId": "10514684854108920109"
     },
     "user_tz": -540
    },
    "id": "DMVQR-TqlyhB",
    "outputId": "8d26cce6-2850-46ef-d8d8-4bc71aa51ba4"
   },
   "outputs": [
    {
     "output_type": "stream",
     "name": "stdout",
     "text": [
      "\n=== 핵심키워드 ===\n딸기 : 1.4668667\n사과 : 0.98365426\n바나나 : 0.98364776\n파인애플 : 0.5656039\n"
     ]
    }
   ],
   "source": [
    "sorted_index = np.flip(np.argsort(score),0)\n",
    "# np.argsort(score)는 score의 인덱스를 값이 작은 순으로 정렬해 리스트로 반환한다.\n",
    "# np.flip() 리스트 거꾸로 한다고 생각하면 편함.\n",
    "\n",
    "print(\"\\n=== 핵심키워드 ===\")\n",
    "n = 4 # 갯수제한\n",
    "for i in range(0,n):\n",
    "    print(str(idx2vocab[sorted_index[i]])+\" : \" + str(score[sorted_index[i]]))"
   ]
  },
  {
   "cell_type": "code",
   "execution_count": null,
   "metadata": {
    "colab": {
     "base_uri": "https://localhost:8080/"
    },
    "executionInfo": {
     "elapsed": 9,
     "status": "ok",
     "timestamp": 1624977756645,
     "user": {
      "displayName": "홍경수",
      "photoUrl": "",
      "userId": "10514684854108920109"
     },
     "user_tz": -540
    },
    "id": "AXThGqhpOoaU",
    "outputId": "7533a999-e6b9-4a27-cc82-9f6dca2c393a"
   },
   "outputs": [
    {
     "data": {
      "text/plain": [
       "3"
      ]
     },
     "execution_count": 19,
     "metadata": {
      "tags": []
     },
     "output_type": "execute_result"
    }
   ],
   "source": [
    "sorted_index[0]"
   ]
  },
  {
   "cell_type": "code",
   "execution_count": 1,
   "metadata": {},
   "outputs": [
    {
     "output_type": "execute_result",
     "data": {
      "text/plain": [
       "'과기정통부  22일 유영민 장관 등 참석해 기념행사2021년까지 1516억원 투입  5100여종 데이터 구축민간 클라우드 통한 외부연계체계도   개방성 강화  이데일리 이재운 기자  국가 차원의 빅데이터 활용 시대가 열린다  새로운 산업 창출과 기존 산업의 변화에 이르는  혁신성장 을 위한 센터가 문을 연다  10개 분야에 걸쳐  데이터 경제 의 발전을 위한 정부의 청사진을 현실로 구현하는데 앞장선다는 계획이다 22일 과학기술정보통신부는 서울 중구 대한상공회의소에서 데이터 생태계 조성과 혁신 성장의 기반 마련을 위한  빅데이터 플랫폼 및 센터  출범식 행사를 개최했다  유영민 과기정통부 장관을 비롯해 노웅래 국회 과학기술정보방송통신위원회 위원장 등 300여명이 참가했다  10개 분야 100개 센터  3년간 1516억원 투입이미지  픽사베이빅데이터는 데이터 활용을 통해 혁신성장을 이루자는 문재인 정부의 경제 성장 핵심 요소중 하나다  문재인 대통령이 직접 올 들어 데이터 활용과 이에 따른 정보보호 보안 에 대한 중요성을 강조하기도 했다 이런 맥락 속에서 빅데이터센터는 공공과 민간이 협업해 활용도 높은 양질의 데이터를 생산 구축하고  플랫폼은 이를 수집 분석 유통하는 역할을 담당한다  과기정통부는 분야별 플랫폼 10개소와 이와 연계된 기관별 센터 100개소를 구축하는데 3년간 총 1516억원을 투입할 계획이며  올해 우선 640억원 규모의 사업을 추진하고 있다 대상 분야는  금융   카드   환경 한국수자원공사   문화 한국문화정보원   교통 한국교통연구원   헬스케어 국립암센터   유통 소비 매일방송   통신      중소기업 더존비즈온   지역경제 경기도청   산림 한국임업진흥원  등으로 현재 1차 공모를 통해 72개 빅데이터 센터를 선정했고  다음달 8일까지 2차 공모를 통해 28개를 추가 선정해 총 100개를 지원  운영할 계획이다  이를 통해 데이터 생태계를 혁신하고 기업의 경쟁력을 제고하는 역할을 수행한다 주요 활용 전략 사례를 보면 빅데이터 활용을 통해  신    시장 을 창출하는 방안을 담고 있다  금융 플랫폼의 경우 소상공인 신용평가 고도화 등을 통해 금융 취약 계층 대상 중금리 대출이자를 2   절감해 연간 1조원의 신규대출을 창출할 전망이다  유통 소비와 중소기업 플랫폼은 소상공인이나 중소기업의 폐업률 감소를  문화 플랫폼은 문화 예술 관람률과 생활체육 참여율을 높이는 방안을 모색한다  의료비 절감 헬스케어 과 기업의 매출 향상을 통한 산업 육성 통신 산림  등도 눈길을 끈다 과기정통부 제공 2021년까지 5100여종 데이터 구축     알고리즘 제공도센터는 우선 분야별 데이터 부족 문제를 해소하기 위해 올해 말까지 시장 수요가 높은 1400여종 신규 데이터를 생산 구축하고  사업이 완료되는 2021년까지 총 5100여종 양질의 풍부한 데이터를 생산 구축해 시장에 공급할 계획이다 특히 공공과 민간 사이 데이터 파일형식 등이 달라 호환이 제대로 이뤄지지 못한 문제를 해소하기 위해 개방형 표준을 적용하고  품질관리기준도 마련해 운영한다 기업들이 실제 활용 가능한 최신 데이터를 확보하는데도 수개월이 소요된다는 문제점을 개선하기 위한 방안도 추진한다  센터와 플랫폼 간 연계체계에는 민간 클라우드를 기반으로 활용하고  센터에 축적된 데이터도 계속 외부와 개방 공유하며 최신 연속성을 확보한다는 계획이다 100개 센터에서 수집된 데이터를 융합 분석한 뒤 맞춤형 데이터 제작 등 양질의 데이터로 재생산하고  기업들이 필요로 하는 데이터를 원하는 형태로 즉시 활용할 수 있도록 제공할 계획이다  다양한 분석 도구는 물론 인공지능     학습 알고리즘도 제공해 이용자가 보다 사용하기 편리한 환경을 제공한다 이밖에 필요한 데이터를 쉽게 등록하고 검색할 수 있도록 기준을 마련하고  데이터 보유와 관리에 대한 체계 거버넌스 를 논의하는  데이터 얼라이언스 를 구성해 보다 안전하게 이용하는 방안도 마련했다 유영민 과기정통부 장관은  오늘 출범식은 대한민국이 데이터 강국으로 가기 위한 초석을 놓은 자리 라며  세계 주요국들보다 데이터 경제로 나아가는 발걸음이 다소 늦었지만  빅데이터 플랫폼과 센터를 지렛대로 우리나라의 낙후된 데이터 생태계를 혁신하고 기업의 경쟁력을 한 단계 제고할 수 있도록 정책적 역량을 집중하겠다 고 밝혔다 이재운 '"
      ]
     },
     "metadata": {},
     "execution_count": 1
    }
   ],
   "source": [
    "import requests \n",
    "from bs4 import BeautifulSoup\n",
    "import re\n",
    "\n",
    "def get_news_by_url(url):\n",
    "  headers={\"user-agent\":\"Mozilla/5.0\"}\n",
    "  res = requests.get(url, headers=headers)\n",
    "  soup = BeautifulSoup(res.content, \"html.parser\")\n",
    "  content = soup.select_one(\"#articleBodyContents\").get_text().replace(\"\\n\", \"\")\n",
    "  content = content.replace(\"// flash 오류를 우회하기 위한 함수 추가function _flash_removeCallback() {}\", \"\")\n",
    "  \n",
    "  start_pos = re.search(r\"\\w+@\\w+\\.\\w+(.\\w+)?\", content).start()\n",
    "  content = content[:start_pos-1]\n",
    "  return content\n",
    "\n",
    "doc = get_news_by_url('https://news.naver.com/main/read.nhn?mode=LSD&mid=sec&sid1=105&oid=018&aid=0004430108')\n",
    "doc = re.sub(\"[^가-힣 \\d]\", \" \", doc)\n",
    "doc"
   ]
  },
  {
   "cell_type": "markdown",
   "metadata": {
    "id": "9QmtIyyHlygg"
   },
   "source": [
    "### 1) 토큰화 (Tokenization)\n",
    "\n",
    "분석 텍스트 정제"
   ]
  },
  {
   "cell_type": "code",
   "execution_count": 18,
   "metadata": {
    "id": "scz7N1PVFRBl"
   },
   "outputs": [
    {
     "output_type": "stream",
     "name": "stdout",
     "text": [
      "['과기', '정통부', '22', '일', '유영민', '장관', '등', '참석', '해', '기념행사']\n['과기', '정통부', '유영민', '장관', '참석', '기념행사', '투입', '여종', '데이터', '구축']\n"
     ]
    }
   ],
   "source": [
    "from konlpy.tag import Mecab\n",
    "mecab = Mecab()\n",
    "\n",
    "tokens = [ token for token in mecab.pos(doc) ]\n",
    "nodes = [t[0] for t in tokens]\n",
    "vocab = [t[0] for t in tokens if t[1] in ['NNG', 'NNP'] and len(t[0]) > 1]\n",
    "\n",
    "print(nodes[:10])\n",
    "print(vocab[:10])\n",
    "\n"
   ]
  },
  {
   "cell_type": "markdown",
   "metadata": {
    "id": "YBJSuIvKlygw"
   },
   "source": [
    "### 2) Unique한 토큰 목록 생성\n",
    "\n",
    "그래프 생성을 위해서 Unique한 토큰 목록 생성"
   ]
  },
  {
   "cell_type": "code",
   "execution_count": 19,
   "metadata": {
    "id": "K4PHUKPuFcya"
   },
   "outputs": [],
   "source": [
    " vocab = list(set(vocab))\n",
    "\n",
    " vocab2idx = {vocab[i]:i for i in range(len(vocab))}\n",
    " idx2vocab = {i:vocab[i] for i in range(len(vocab))}"
   ]
  },
  {
   "cell_type": "code",
   "execution_count": 20,
   "metadata": {
    "colab": {
     "base_uri": "https://localhost:8080/"
    },
    "executionInfo": {
     "elapsed": 5872,
     "status": "ok",
     "timestamp": 1624977762511,
     "user": {
      "displayName": "홍경수",
      "photoUrl": "",
      "userId": "10514684854108920109"
     },
     "user_tz": -540
    },
    "id": "h5_DwRpOlygz",
    "outputId": "e726eaa0-13e8-4722-d9c8-afef06176550",
    "tags": []
   },
   "outputs": [
    {
     "output_type": "stream",
     "name": "stdout",
     "text": [
      "\n=== 핵심키워드 ===\n데이터 : 7.405189e-07\n센터 : 2.49831e-07\n한국 : 2.0378042e-07\n활용 : 1.9834519e-07\n대한 : 1.9389464e-07\n"
     ]
    }
   ],
   "source": [
    "\n",
    "import numpy as np\n",
    "import math\n",
    "\n",
    "vocab_len = len(vocab2idx)\n",
    "\n",
    "# 토큰별로 그래프 edge를 Matrix 형태로 생성\n",
    "weighted_edge = np.zeros((vocab_len,vocab_len),dtype=np.float32)\n",
    "\n",
    "# 각 토큰 노드별로 스코어 1로 초기화\n",
    "score = np.ones((vocab_len),dtype=np.float32)\n",
    "\n",
    "# coocurrence를 판단하기 위한 window 사이즈 설정\n",
    "window_size = 3\n",
    "covered_coocurrences = []\n",
    "\n",
    "for window_start in range(len(nodes) - window_size + 1):\n",
    "  window = nodes[window_start:window_start+window_size]\n",
    "  for i in range(window_size):\n",
    "    for j in range(i+1, window_size):\n",
    "      if window[i] in vocab and window[j] in vocab:\n",
    "        index_i = window_start + i\n",
    "        index_j = window_start + j\n",
    "\n",
    "        if (index_i, index_j) not in covered_coocurrences:\n",
    "          weighted_edge[vocab2idx[window[i]]][vocab2idx[window[j]]] = 1\n",
    "          weighted_edge[vocab2idx[window[j]]][vocab2idx[window[i]]] = 1\n",
    "          covered_coocurrences.append((index_i, index_j))\n",
    "\n",
    "for i in range(vocab_len):\n",
    "  row_sum = weighted_edge[i].sum()\n",
    "  weighted_edge[i] = weighted_edge[i]/row_sum if row_sum > 0 else 0\n",
    "\n",
    "MAX_ITERATIONS = 50\n",
    "d=0.85\n",
    "threshold = 0.0001 #convergence threshold\n",
    "\n",
    "for iter in range(MAX_ITERATIONS):\n",
    "  prev_score = np.copy(score)\n",
    "\n",
    "  for i in range(vocab_len):\n",
    "    summation = 0\n",
    "    for j in range(vocab_len):\n",
    "      if weighted_edge[j][i] != 0:\n",
    "        summation += weighted_edge[j][i] * prev_score[j]\n",
    "\n",
    "    score[i] = (1 - d) * d*summation\n",
    "\n",
    "  if np.sum(np.fabs(prev_score -  score)) <= threshold:\n",
    "    break\n",
    "\n",
    "\n",
    "sorted_index = np.flip(np.argsort(score), 0)\n",
    "\n",
    "n = 5\n",
    "\n",
    "\n",
    "print(\"\\n=== 핵심키워드 ===\")\n",
    "for i in range(0,n):\n",
    "    print(str(idx2vocab[sorted_index[i]])+\" : \" + str(score[sorted_index[i]]))"
   ]
  },
  {
   "cell_type": "markdown",
   "metadata": {
    "id": "vOuNI7WSBcgU"
   },
   "source": [
    "---"
   ]
  },
  {
   "cell_type": "markdown",
   "metadata": {
    "id": "YZ8Uu6Rqbfyi"
   },
   "source": [
    "## 실습 2. 그래프 활용 "
   ]
  },
  {
   "cell_type": "markdown",
   "metadata": {
    "id": "683iA8igbfym"
   },
   "source": [
    "### 1) 토큰화 (Tokenization)\n",
    "\n",
    "분석 텍스트 정제"
   ]
  },
  {
   "cell_type": "markdown",
   "metadata": {
    "id": "iY8re-9gbfy9"
   },
   "source": [
    "### 2) 그래프 생성 (weighted edge 계산)\n",
    "\n",
    "*   TextRank는 그래프 기반 모델\n",
    "*   각 단어(토큰)은 그래프의 노드(vertex) 없음을 의미\n",
    "*   모든 노드는 1로 초기화"
   ]
  },
  {
   "cell_type": "code",
   "execution_count": 21,
   "metadata": {
    "id": "phYnQIcBbfy9"
   },
   "outputs": [],
   "source": [
    "import numpy as np\n",
    "import math\n",
    "import networkx as nx\n",
    "\n",
    "# 윈도내 동시 등장한 토큰으로 그래프를 생성\n",
    "def connect(vocab, nodes) :            \n",
    "    window_size = 3\n",
    "\n",
    "    edges = []\n",
    "    for window_start in range(len(nodes) - window_size + 1):\n",
    "      window = nodes[window_start: window_start + window_size]\n",
    "      for i in range(window_size):\n",
    "        for j in range(i + 1, window_size):\n",
    "          if window[i] in vocab and window[j] in vocab:\n",
    "            edges.append((window[i], window[j]))\n",
    "      \n",
    "    return edges\n",
    "\n",
    "\n",
    "graph=nx.diamond_graph()\n",
    "graph.clear() \n",
    "graph.add_nodes_from(vocab) #node 등록\n",
    "graph.add_edges_from(connect(vocab, nodes)) #edge 연결    "
   ]
  },
  {
   "cell_type": "markdown",
   "metadata": {
    "id": "3c4KZdyufiBM"
   },
   "source": [
    "### 3) 스코어 계산 및 핵심키워드 추출"
   ]
  },
  {
   "cell_type": "code",
   "execution_count": 22,
   "metadata": {
    "colab": {
     "base_uri": "https://localhost:8080/"
    },
    "executionInfo": {
     "elapsed": 385,
     "status": "ok",
     "timestamp": 1624977763572,
     "user": {
      "displayName": "홍경수",
      "photoUrl": "",
      "userId": "10514684854108920109"
     },
     "user_tz": -540
    },
    "id": "h5pHA1WverhB",
    "outputId": "7e6efd67-2365-4a03-8222-38d6a33f600b"
   },
   "outputs": [
    {
     "output_type": "stream",
     "name": "stdout",
     "text": [
      "\n=== 핵심키워드 ===\n"
     ]
    },
    {
     "output_type": "execute_result",
     "data": {
      "text/plain": [
       "[('데이터', 0.04661070207125959),\n",
       " ('센터', 0.01676522225593208),\n",
       " ('대한', 0.012413811834749083),\n",
       " ('활용', 0.012361319397854266),\n",
       " ('한국', 0.012348645054362993),\n",
       " ('문화', 0.011604486043084145),\n",
       " ('경제', 0.011216010863143161),\n",
       " ('제공', 0.010178677656595398),\n",
       " ('구축', 0.009918384415693452),\n",
       " ('통신', 0.009755398667462636)]"
      ]
     },
     "metadata": {},
     "execution_count": 22
    }
   ],
   "source": [
    "scores = nx.pagerank(graph) #pagerank 계산\n",
    "\n",
    "rank = sorted(scores.items(), key=lambda x: x[1], reverse=True) #score 역순 정렬\n",
    "print(\"\\n=== 핵심키워드 ===\")\n",
    "rank[:10]"
   ]
  },
  {
   "cell_type": "code",
   "execution_count": null,
   "metadata": {
    "id": "eBo0ycNpQfs_"
   },
   "outputs": [],
   "source": []
  },
  {
   "cell_type": "markdown",
   "metadata": {
    "id": "8VsT2BazfadH"
   },
   "source": [
    "---"
   ]
  },
  {
   "cell_type": "markdown",
   "metadata": {
    "id": "kqX9Fid_a-S1"
   },
   "source": [
    "## 실습 3. TextRank 핵심 구 추출"
   ]
  },
  {
   "cell_type": "markdown",
   "metadata": {
    "id": "Tm_CV9CEbz2K"
   },
   "source": [
    "### 1) 불용어를 기준으로 구 추출"
   ]
  },
  {
   "cell_type": "code",
   "execution_count": null,
   "metadata": {
    "colab": {
     "base_uri": "https://localhost:8080/"
    },
    "executionInfo": {
     "elapsed": 15,
     "status": "ok",
     "timestamp": 1624977763573,
     "user": {
      "displayName": "홍경수",
      "photoUrl": "",
      "userId": "10514684854108920109"
     },
     "user_tz": -540
    },
    "id": "zGyVMVbubfzJ",
    "outputId": "a269a79e-50b6-415e-9938-1fc268b421a5"
   },
   "outputs": [
    {
     "name": "stdout",
     "output_type": "stream",
     "text": [
      "['과기 정통부', '일 유영민 장관 등 참석', '기념행사', '년', '억 원 투입', '여종 데이터 구축 민간 클라우드', '외부 연계 체계', '개방', '강화', '데일리 이재운 기자', '국가 차원', '빅 데이터 활용 시대', '산업 창출', '기존 산업', '변화', '혁신', '장', '센터', '문', '개 분야', '데이터 경제', '발전', '정부', '청사진', '현실', '구현', '데', '계획', '일 과학 기술 정보 통신부', '서울 중구 대한 상공 회의소', '데이터 생태', '조성', '혁신 성장', '기반 마련', '빅 데이터 플랫 폼', '센터', '출범식 행사', '개최', '유영민 과기 정통부 장관', '노웅래 국회 과학 기술 정보 방송 통신 위원회 위원장 등', '명', '참가', '개 분야', '개 센터', '년 간', '억 원 투입 이미지', '픽사 베이 빅 데이터', '데이터 활용', '혁신', '장', '문재', '정부', '경제 성장 핵심 요소 중 하나', '문재인 대통령', '데이터 활용', '이', '정보 보호', '보안', '중요', '강조', '맥락 속', '빅 데이터 센터', '공공', '민간', '협업', '활용', '양질', '데이터', '생산', '구축', '플랫 폼', '이', '수집', '분석', '유통', '역할', '담당', '과기 정통부', '분야', '플랫 폼', '개소', '이', '연계', '기관', '센터', '개소', '구축', '데', '년', '억 원', '투입', '계획', '올해', '억 원 규모', '사업', '추진', '대상 분야', '금융', '카드', '환경', '한국 수자원 공사', '문화', '한국 문화 정보원', '교통', '한국 교통 연구원', '헬 스케어', '국립암센터', '유통', '소비', '매일 방송', '통신', '중소기업', '비즈', '지역 경제', '경기도 청', '산림', '한국 임업', '흥원', '등', '차 공모', '개 빅 데이터 센터', '선정', '다음 달', '일', '차 공모', '개', '추가 선정', '개', '지원', '운영', '계획', '이', '데이터 생태계', '혁신', '기업', '경쟁력', '제고', '역할', '수행', '주요 활용 전략', '사례', '빅 데이터 활용', '신', '新', '시장', '창출', '방안', '금융 플랫 폼', '경우 소 상공', '신용 평가 고도', '등', '금융 취약 계층 대상 중 금리 대출', '절감', '연간', '조 원', '신규 대출', '창출', '전망', '유통', '소비', '중소기업 플랫 폼', '소상 공인', '중소기업', '폐업', '감소', '문화 플랫 폼', '문화', '예술 관람', '생활 체육 참여', '방안', '모색', '의료비 절감', '헬스 케어', '기업', '매출 향상', '산업 육성', '통신', '산림', '등', '눈길', '과기 정통부 제공', '년', '여종 데이터 구축', '알고리즘 제공', '센터', '분야', '데이터 부족 문제', '해소', '올해 말', '시장 수요', '여종 신규 데이터', '생산', '구축', '사업', '완료', '년', '여종 양질', '데이터', '생산', '구축', '시장', '공급', '계획', '공공', '민간 사이 데이터 파일 형식 등', '호환', '문제', '해소', '개방', '표준', '적용', '품질 관리 기준', '마련', '운영', '기업', '실제 활용 가능', '최신 데이터', '확보', '데', '수개월', '소요', '문제점', '개선', '방안', '추진', '센터', '플랫폼 간 연계 체계', '민간 클라우드', '기반', '활용', '센터', '축적', '데이터', '외부', '개방', '공유', '최신', '연속', '확보', '계획', '개 센터', '수집', '데이터', '융합', '분석', '뒤 맞춤', '데이터 제작 등 양질', '데이터', '생산', '기업', '필요', '데이터', '형태', '활용', '수', '제공', '계획', '분석 도구', '인공지능', '학습 알고리즘', '제공', '이용자', '사용', '편리', '환경', '제공', '밖', '필요', '데이터', '등록', '검색', '수', '기준', '마련', '데이터 보유', '관리', '체계', '거버넌스', '논의', '데이터 얼라이언스', '구성', '이용', '방안', '마련', '유영민 과기 정통부 장관', '오늘 출범식', '대한민국', '데이터 강국', '초석', '자리', '세계 주요 국', '데이터 경제', '발걸음', '빅 데이터 플랫 폼', '센터', '지렛대', '우리나라', '낙후', '데이터 생태계', '혁신', '기업', '경쟁력', '단계 제고', '수', '정책', '역량', '집중', '이재운', '네이버 홈', '데일리', '뉴스', '구독', '꿀 잼', '영상', '청춘 뉘 우스', '스냅 타임', '종합 경제 정보 미디어', '데일리', '무단 전재', '배포 금지']\n"
     ]
    }
   ],
   "source": [
    "phrases = []\n",
    "phrase = \" \"\n",
    "\n",
    "\n",
    "print(phrases)"
   ]
  },
  {
   "cell_type": "code",
   "execution_count": null,
   "metadata": {
    "colab": {
     "base_uri": "https://localhost:8080/"
    },
    "executionInfo": {
     "elapsed": 15,
     "status": "ok",
     "timestamp": 1624977763575,
     "user": {
      "displayName": "홍경수",
      "photoUrl": "",
      "userId": "10514684854108920109"
     },
     "user_tz": -540
    },
    "id": "1RKObP9ebfzM",
    "outputId": "e09a1f11-e260-47c6-ea47-ab11b0acb4db"
   },
   "outputs": [
    {
     "name": "stdout",
     "output_type": "stream",
     "text": [
      "['과기 정통부', '일 유영민 장관 등 참석', '기념행사', '년', '억 원 투입', '여종 데이터 구축 민간 클라우드', '외부 연계 체계', '개방', '강화', '데일리 이재운 기자', '국가 차원', '빅 데이터 활용 시대', '산업 창출', '기존 산업', '변화', '혁신', '장', '센터', '문', '개 분야', '데이터 경제', '발전', '정부', '청사진', '현실', '구현', '데', '계획', '일 과학 기술 정보 통신부', '서울 중구 대한 상공 회의소', '데이터 생태', '조성', '혁신 성장', '기반 마련', '빅 데이터 플랫 폼', '출범식 행사', '개최', '유영민 과기 정통부 장관', '노웅래 국회 과학 기술 정보 방송 통신 위원회 위원장 등', '명', '참가', '개 센터', '년 간', '억 원 투입 이미지', '픽사 베이 빅 데이터', '데이터 활용', '문재', '경제 성장 핵심 요소 중 하나', '문재인 대통령', '이', '정보 보호', '보안', '중요', '강조', '맥락 속', '빅 데이터 센터', '공공', '민간', '협업', '활용', '양질', '데이터', '생산', '구축', '플랫 폼', '수집', '분석', '유통', '역할', '담당', '분야', '개소', '연계', '기관', '억 원', '투입', '올해', '억 원 규모', '사업', '추진', '대상 분야', '금융', '카드', '환경', '한국 수자원 공사', '문화', '한국 문화 정보원', '교통', '한국 교통 연구원', '헬 스케어', '국립암센터', '소비', '매일 방송', '통신', '중소기업', '비즈', '지역 경제', '경기도 청', '산림', '한국 임업', '흥원', '등', '차 공모', '개 빅 데이터 센터', '선정', '다음 달', '일', '개', '추가 선정', '지원', '운영', '데이터 생태계', '기업', '경쟁력', '제고', '수행', '주요 활용 전략', '사례', '빅 데이터 활용', '신', '新', '시장', '창출', '방안', '금융 플랫 폼', '경우 소 상공', '신용 평가 고도', '금융 취약 계층 대상 중 금리 대출', '절감', '연간', '조 원', '신규 대출', '전망', '중소기업 플랫 폼', '소상 공인', '폐업', '감소', '문화 플랫 폼', '예술 관람', '생활 체육 참여', '모색', '의료비 절감', '헬스 케어', '매출 향상', '산업 육성', '눈길', '과기 정통부 제공', '여종 데이터 구축', '알고리즘 제공', '데이터 부족 문제', '해소', '올해 말', '시장 수요', '여종 신규 데이터', '완료', '여종 양질', '공급', '민간 사이 데이터 파일 형식 등', '호환', '문제', '표준', '적용', '품질 관리 기준', '마련', '실제 활용 가능', '최신 데이터', '확보', '수개월', '소요', '문제점', '개선', '플랫폼 간 연계 체계', '민간 클라우드', '기반', '축적', '외부', '공유', '최신', '연속', '융합', '뒤 맞춤', '데이터 제작 등 양질', '필요', '형태', '수', '제공', '분석 도구', '인공지능', '학습 알고리즘', '이용자', '사용', '편리', '밖', '등록', '검색', '기준', '데이터 보유', '관리', '체계', '거버넌스', '논의', '데이터 얼라이언스', '구성', '이용', '오늘 출범식', '대한민국', '데이터 강국', '초석', '자리', '세계 주요 국', '발걸음', '지렛대', '우리나라', '낙후', '단계 제고', '정책', '역량', '집중', '이재운', '네이버 홈', '데일리', '뉴스', '구독', '꿀 잼', '영상', '청춘 뉘 우스', '스냅 타임', '종합 경제 정보 미디어', '무단 전재', '배포 금지']\n"
     ]
    }
   ],
   "source": [
    "unique_phrases = []\n",
    "\n",
    "\n",
    "print(unique_phrases)"
   ]
  },
  {
   "cell_type": "markdown",
   "metadata": {
    "id": "rHbAUAfFbfzR"
   },
   "source": [
    "### 2) 각 구의 Score 계산\n",
    "\n",
    "앞서 산출한 각 단어별 점수를 합산"
   ]
  },
  {
   "cell_type": "code",
   "execution_count": null,
   "metadata": {
    "colab": {
     "base_uri": "https://localhost:8080/"
    },
    "executionInfo": {
     "elapsed": 11,
     "status": "ok",
     "timestamp": 1624977763575,
     "user": {
      "displayName": "홍경수",
      "photoUrl": "",
      "userId": "10514684854108920109"
     },
     "user_tz": -540
    },
    "id": "R4DP76OsbfzR",
    "outputId": "8a641e0d-9776-4874-ba28-adcafa2438a4"
   },
   "outputs": [
    {
     "name": "stdout",
     "output_type": "stream",
     "text": [
      "Keyword: '과기 정통부', Score: 0.01124933498027082\n",
      "Keyword: '일 유영민 장관 등 참석', Score: 0.013047761313401546\n",
      "Keyword: '기념행사', Score: 0.0022034464344388585\n",
      "Keyword: '년', Score: 0\n",
      "Keyword: '억 원 투입', Score: 0.003215471038656386\n",
      "Keyword: '여종 데이터 구축 민간 클라우드', Score: 0.06857882292392038\n",
      "Keyword: '외부 연계 체계', Score: 0.01653296999059789\n",
      "Keyword: '개방', Score: 0.007608411089591418\n",
      "Keyword: '강화', Score: 0.0022598290466079364\n",
      "Keyword: '데일리 이재운 기자', Score: 0.016337448780957005\n"
     ]
    }
   ],
   "source": [
    "vocabs = dict((r[0][0],r[1]) for r in rank)\n",
    "phrase_scores = []\n",
    "keywords = []\n"
   ]
  },
  {
   "cell_type": "markdown",
   "metadata": {
    "id": "0fw0Je8EbfzU"
   },
   "source": [
    "### 3) 각 구를 Score로 정렬하여 핵심 구 추출"
   ]
  },
  {
   "cell_type": "code",
   "execution_count": null,
   "metadata": {
    "colab": {
     "base_uri": "https://localhost:8080/"
    },
    "executionInfo": {
     "elapsed": 8,
     "status": "ok",
     "timestamp": 1624977763576,
     "user": {
      "displayName": "홍경수",
      "photoUrl": "",
      "userId": "10514684854108920109"
     },
     "user_tz": -540
    },
    "id": "wpdzhcBBbfzV",
    "outputId": "80a8a758-bd7a-4439-ec5c-c14a853f2ed5"
   },
   "outputs": [
    {
     "name": "stdout",
     "output_type": "stream",
     "text": [
      "Keywords:\n",
      "\n",
      "여종 데이터 구축 민간 클라우드, \n",
      "빅 데이터 플랫 폼, \n",
      "빅 데이터 센터, \n",
      "개 빅 데이터 센터, \n",
      "빅 데이터 활용 시대, \n",
      "민간 사이 데이터 파일 형식 등, \n",
      "빅 데이터 활용, \n",
      "픽사 베이 빅 데이터, \n",
      "여종 데이터 구축, \n",
      "데이터 경제, \n"
     ]
    }
   ],
   "source": [
    "sorted_index = np.flip(np.argsort(phrase_scores),0)\n",
    "\n",
    "keywords_num = 10\n",
    "\n",
    "print(\"Keywords:\\n\")\n",
    "\n",
    "for i in range(0,keywords_num):\n",
    "    print(str(keywords[sorted_index[i]])+\", \")"
   ]
  },
  {
   "cell_type": "markdown",
   "metadata": {
    "id": "kiz-Q64iXOaY"
   },
   "source": [
    "\n",
    "\n",
    "---\n",
    "\n"
   ]
  },
  {
   "cell_type": "markdown",
   "metadata": {
    "id": "GpFwfuGlpFL9"
   },
   "source": [
    "## 실습 4. gensim 활용"
   ]
  },
  {
   "cell_type": "code",
   "execution_count": null,
   "metadata": {
    "colab": {
     "base_uri": "https://localhost:8080/"
    },
    "executionInfo": {
     "elapsed": 264,
     "status": "ok",
     "timestamp": 1624977763834,
     "user": {
      "displayName": "홍경수",
      "photoUrl": "",
      "userId": "10514684854108920109"
     },
     "user_tz": -540
    },
    "id": "fW7gy7_7ooKb",
    "outputId": "e2668e2b-91e0-4c27-a7bc-4aa7f7812dff"
   },
   "outputs": [
    {
     "data": {
      "text/plain": [
       "['데이터', '데이터를', '계획이다', '빅데이터', '문재인']"
      ]
     },
     "execution_count": 29,
     "metadata": {
      "tags": []
     },
     "output_type": "execute_result"
    }
   ],
   "source": [
    "from gensim.summarization import keywords\n",
    "keywords(doc, words=5).split('\\n')"
   ]
  },
  {
   "cell_type": "code",
   "execution_count": null,
   "metadata": {
    "id": "MXlGMN3V0MlT"
   },
   "outputs": [],
   "source": [
    "keywords?"
   ]
  },
  {
   "cell_type": "markdown",
   "metadata": {
    "id": "8Ao4nqpgOooa"
   },
   "source": [
    "https://github.com/lovit/KR-WordRank"
   ]
  }
 ],
 "metadata": {
  "colab": {
   "collapsed_sections": [
    "hpTxmnbx8v6m"
   ],
   "name": "08 Prac 2. Keyword Extraction",
   "provenance": []
  },
  "kernelspec": {
   "name": "python3",
   "display_name": "Python 3.7.10 64-bit ('abangues': conda)"
  },
  "language_info": {
   "codemirror_mode": {
    "name": "ipython",
    "version": 3
   },
   "file_extension": ".py",
   "mimetype": "text/x-python",
   "name": "python",
   "nbconvert_exporter": "python",
   "pygments_lexer": "ipython3",
   "version": "3.7.10"
  },
  "interpreter": {
   "hash": "35f4548b6af42c45c6a6beaefcbcfb220353e3f9b8359b9f9330417df210484e"
  }
 },
 "nbformat": 4,
 "nbformat_minor": 1
}