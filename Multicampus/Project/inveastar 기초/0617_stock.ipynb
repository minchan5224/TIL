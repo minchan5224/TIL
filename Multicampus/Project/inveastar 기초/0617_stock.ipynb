{
 "cells": [
  {
   "cell_type": "code",
   "execution_count": 6,
   "metadata": {},
   "outputs": [],
   "source": [
    "import pandas as pd\n",
    "from bs4 import BeautifulSoup\n",
    "from sqlalchemy import create_engine\n",
    "import re\n",
    "import pymysql\n",
    "import requests"
   ]
  },
  {
   "cell_type": "code",
   "execution_count": 2,
   "metadata": {},
   "outputs": [],
   "source": [
    "temp_df = pd.read_html(url\")[0]\n",
    "stock = temp_df[[\"회사명\", \"종목코드\"]]"
   ]
  },
  {
   "cell_type": "code",
   "execution_count": 80,
   "metadata": {},
   "outputs": [],
   "source": [
    "page_nums = [str(n) for n in range(1, 4)]"
   ]
  },
  {
   "cell_type": "code",
   "execution_count": 87,
   "metadata": {},
   "outputs": [],
   "source": [
    "def process_df(d):\n",
    "    engine = create_engine(\"mysql+pymysql://name:\"+\"pw\"+\"@ip:port/엔티티명?charset=utf8\", encoding='utf8')\n",
    "    conn = engine.connect()\n",
    "    use_df = pd.DataFrame(d)\n",
    "#     d['date']=pd.to_datetime(d['date'])\n",
    "    use_df.to_sql(name='tableanme', con=engine, if_exists='append', index=False)\n",
    "    conn.close()\n",
    "    del d"
   ]
  },
  {
   "cell_type": "code",
   "execution_count": 3,
   "metadata": {},
   "outputs": [
    {
     "name": "stdout",
     "output_type": "stream",
     "text": [
      "종료\n"
     ]
    }
   ],
   "source": [
    "headers = {\"User-Agent\":\"Mozilla/5.0 \"}\n",
    "\n",
    "\n",
    "temp_df = pd.DataFrame()\n",
    "\n",
    "for i in stock.values[]:\n",
    "    urls = \"url\"\n",
    "    code = str(i[1])\n",
    "    last_page = False\n",
    "    diff_num = 0\n",
    "    diff_temp = []\n",
    "    temp_dict={}\n",
    "    temp_dict['date'] = []\n",
    "    temp_dict['close'] = []\n",
    "    temp_dict['diff'] = []\n",
    "    temp_dict['start'] = []\n",
    "    temp_dict['high'] = []\n",
    "    temp_dict['low'] = []\n",
    "    temp_dict['volume'] = []\n",
    "    temp_dict['stock_code'] = []\n",
    "    temp_dict['stock_name'] = []\n",
    "    \n",
    "    if len(code) < 6:\n",
    "        code = code.zfill(6)\n",
    "    urls += code\n",
    "    \n",
    "    for page_num in page_nums:\n",
    "        response = requests.get(urls+\"&page=\"+str(page_num), headers=headers)\n",
    "        soup = BeautifulSoup(response.text, \"html.parser\")\n",
    "        table = soup.find(\"table\")\n",
    "        trs = table.find_all('tr')\n",
    "        for tr in trs:\n",
    "            if len(tr.find_all('td')) > 3:\n",
    "                if tr.find_all('td')[0].text in temp_dict['date']:\n",
    "                    last_page = True\n",
    "                    break\n",
    "                diff_str = tr.find_all('td')[2]\n",
    "                if str(type(diff_str.find('span'))) == \"<class 'NoneType'>\":\n",
    "                    last_page = True\n",
    "                    break\n",
    "                temp_dict['date'].append(re.sub(\"\\.\",\"-\",tr.find_all('td')[0].text)) # 날짜\n",
    "                temp_dict['close'].append((re.sub(\",*\",\"\",tr.find_all('td')[1].text))) # 종가 \n",
    "                \n",
    "                diff_num = int(re.sub(\",*\",\"\",diff_str.find('span').text).split()[0]) # 전일비 2\n",
    "                \n",
    "                if \"nv01\" in diff_str.find('span')['class']:\n",
    "                    temp_dict['diff'].append(diff_num*-1)\n",
    "                else :\n",
    "                    temp_dict['diff'].append(diff_num)\n",
    "                temp_dict['start'].append((re.sub(\",*\",\"\",tr.find_all('td')[3].text))) # 시가\n",
    "                temp_dict['high'].append((re.sub(\",*\",\"\",tr.find_all('td')[4].text))) # 고가\n",
    "                temp_dict['low'].append((re.sub(\",*\",\"\",tr.find_all('td')[5].text))) # 종가 \n",
    "                temp_dict['volume'].append((re.sub(\",*\",\"\",tr.find_all('td')[6].text))) # 거래량 \n",
    "                temp_dict['stock_code'].append(str(code))\n",
    "                temp_dict['stock_name'].append(i[0])\n",
    "        if last_page == True:\n",
    "            last_page = False\n",
    "            break\n",
    "    process_df(temp_dict)\n",
    "    del temp_dict\n",
    "    \n",
    "print(\"종료\")\n",
    "    "
   ]
  },
  {
   "cell_type": "code",
   "execution_count": 77,
   "metadata": {},
   "outputs": [],
   "source": [
    "db = pymysql.connect(host='ip주소', port='port number', user='username', passwd='pw', db='table_name', charset='utf8')"
   ]
  },
  {
   "cell_type": "code",
   "execution_count": 1,
   "metadata": {},
   "outputs": [
    {
     "name": "stdout",
     "output_type": "stream",
     "text": [
      "\n"
     ]
    }
   ],
   "source": [
    "sql = \"select * from stock\"\n",
    "cursor = db.cursor(pymysql.cursors.DictCursor)\n",
    "cursor.execute(sql)\n",
    "resultset = cursor.fetchall()\n",
    "for result in resultset:\n",
    "    print(result)"
   ]
  },
  {
   "cell_type": "code",
   "execution_count": null,
   "metadata": {},
   "outputs": [],
   "source": [
    "db.close()"
   ]
  }
 ],
 "metadata": {
  "kernelspec": {
   "display_name": "Python 3",
   "language": "python",
   "name": "python3"
  },
  "language_info": {
   "codemirror_mode": {
    "name": "ipython",
    "version": 3
   },
   "file_extension": ".py",
   "mimetype": "text/x-python",
   "name": "python",
   "nbconvert_exporter": "python",
   "pygments_lexer": "ipython3",
   "version": "3.7.9"
  }
 },
 "nbformat": 4,
 "nbformat_minor": 4
}
